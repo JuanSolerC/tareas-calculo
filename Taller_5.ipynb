{
 "cells": [
  {
   "cell_type": "markdown",
   "id": "74979902-b28f-42e3-8023-fd0378eb8c59",
   "metadata": {},
   "source": [
    "# ACTIVIDAD 5: Taller “Trazado de curvas”"
   ]
  },
  {
   "cell_type": "markdown",
   "id": "d00c2ffc-c4b0-4897-aea1-f13038aa70b9",
   "metadata": {},
   "source": [
    "*Ejercicios compilados por Weimar Muñoz (2023), tomados de:*  \n",
    "*“Precálculo” de Stewart, Redlin, & Watson, 2016*"
   ]
  },
  {
   "cell_type": "markdown",
   "id": "2863bf96-23a6-401e-adb7-21293edeb9cb",
   "metadata": {},
   "source": [
    "## Recursos que usaremos"
   ]
  },
  {
   "cell_type": "markdown",
   "id": "aeb60b4b-595c-4aa0-96b0-fbadf3c261ab",
   "metadata": {},
   "source": [
    "\n",
    "\n",
    "---\n",
    "\n",
    "###  **Librerías y módulos importados**\n",
    "\n",
    "- `import sympy as sp`: Librería de álgebra simbólica.\n",
    "- `from sympy.abc import x`: Importa la variable `x` como símbolo.\n",
    "- `from sympy import symbols, diff, solve, simplify, together, denom, latex, init_printing`\n",
    "- `from IPython.display import display, Math`: Para mostrar resultados con estilo en Jupyter usando LaTeX.\n",
    "\n",
    "---\n",
    "\n",
    "### **Funciones matemáticas y simbólicas**\n",
    "\n",
    "| Recurso             | Descripción |\n",
    "|---------------------|-------------|\n",
    "| `symbols`           | Define variables simbólicas como `x`, `y`, etc. |\n",
    "| `diff`              | Deriva funciones matemáticas. |\n",
    "| `solve`             | Resuelve ecuaciones algebraicas. |\n",
    "| `simplify`          | Simplifica expresiones simbólicas. |\n",
    "| `together`          | Combina fracciones en una sola expresión. |\n",
    "| `denom`             | Extrae el denominador de una fracción. |\n",
    "| `latex`             | Convierte expresiones simbólicas a LaTeX. |\n",
    "| `evalf()`           | Evalúa numéricamente una expresión. |\n",
    "\n",
    "---\n",
    "\n",
    "### **Visualización y presentación (Jupyter)**\n",
    "\n",
    "| Recurso             | Descripción |\n",
    "|---------------------|-------------|\n",
    "| `display`           | Muestra expresiones en celdas Jupyter. |\n",
    "| `Math`              | Renderiza cadenas como fórmulas LaTeX. |\n",
    "| `init_printing()`   | Activa impresión simbólica en Jupyter. |\n",
    "\n",
    "---\n",
    "\n",
    "###  **Funciones y constantes matemáticas**\n",
    "\n",
    "| Función              | Descripción |\n",
    "|----------------------|-------------|\n",
    "| `sqrt`               | Raíz cuadrada. |\n",
    "| `root(expr, n)`      | Raíz n-ésima. |\n",
    "| `oo`                 | Infinito (∞) en SymPy. |\n",
    "\n",
    "---\n"
   ]
  },
  {
   "cell_type": "markdown",
   "id": "a65e2420-9789-4c44-9f66-e823788ac358",
   "metadata": {},
   "source": [
    "<div style=\"background-color: lightblue; padding: 10px; border-radius: 5px;\">\n",
    "    \n",
    "#### 1) RESOLVER: Explica de manera detallada cómo determinan los números críticos en el ejemplo 7\n",
    "\n",
    "\n",
    "</div>"
   ]
  },
  {
   "cell_type": "markdown",
   "id": "56948eab-a654-4447-8295-62574a9a788c",
   "metadata": {},
   "source": [
    "![Gráfica](imagen10.png)"
   ]
  },
  {
   "cell_type": "markdown",
   "id": "9676f9eb-06be-452e-8c0a-06675dc263b8",
   "metadata": {},
   "source": [
    "### **Explicación:**\n",
    "###  **1. Derivar**"
   ]
  },
  {
   "cell_type": "markdown",
   "id": "51f8e78f-443f-48ea-9b68-4dc5ec6e976d",
   "metadata": {},
   "source": [
    "\\begin{align*}\n",
    "\\Huge f(x) = x^{3/5}(4 - x)\n",
    "\\end{align*}"
   ]
  },
  {
   "cell_type": "code",
   "execution_count": 68,
   "id": "455509a5-18b4-4532-9651-ba9496e35c01",
   "metadata": {},
   "outputs": [
    {
     "data": {
      "image/png": "[encoded data removed]",
      "text/latex": [
       "$\\displaystyle \\frac{1.0 \\left(2.4 - 1.6 x^{1.0}\\right)}{x^{0.4}}$"
      ],
      "text/plain": [
       "     -0.4 ⎛           1.0⎞\n",
       "1.0⋅x    ⋅⎝2.4 - 1.6⋅x   ⎠"
      ]
     },
     "metadata": {},
     "output_type": "display_data"
    }
   ],
   "source": [
    "import sympy as sp\n",
    "\n",
    "# Definir la variable\n",
    "x = sp.symbols('x')\n",
    "\n",
    "# Definir la función\n",
    "f = x**(3/5) * (4 - x)\n",
    "\n",
    "# Derivar la función\n",
    "f_prime = sp.diff(f, x)\n",
    "\n",
    "# Simplificar la derivada\n",
    "f_prime_simplified = sp.simplify(f_prime)\n",
    "\n",
    "# Mostrar la derivada\n",
    "sp.init_printing()\n",
    "display(f_prime_simplified)"
   ]
  },
  {
   "cell_type": "markdown",
   "id": "5c586269-149d-4d96-9b85-d92d43c7d496",
   "metadata": {},
   "source": [
    "###  **2. Igualar a Cero**"
   ]
  },
  {
   "cell_type": "code",
   "execution_count": 76,
   "id": "4d88e8d4-746d-4408-a9b8-b67aadae1ba6",
   "metadata": {},
   "outputs": [
    {
     "name": "stdout",
     "output_type": "stream",
     "text": [
      "Puntos donde f'(x) = 0:\n"
     ]
    },
    {
     "data": {
      "image/png": "[encoded data removed]",
      "text/latex": [
       "$\\displaystyle \\left[ 1.5\\right]$"
      ],
      "text/plain": [
       "[1.5]"
      ]
     },
     "metadata": {},
     "output_type": "display_data"
    },
    {
     "name": "stdout",
     "output_type": "stream",
     "text": [
      "Puntos donde f'(x) no existe:\n"
     ]
    },
    {
     "data": {
      "image/png": "[encoded data removed]",
      "text/latex": [
       "$\\displaystyle \\left[ 0.0\\right]$"
      ],
      "text/plain": [
       "[0.0]"
      ]
     },
     "metadata": {},
     "output_type": "display_data"
    }
   ],
   "source": [
    "# Resolver f'(x) = 0\n",
    "critical_points = sp.solve(f_prime_simplified, x)\n",
    "\n",
    "print(\"Puntos donde f'(x) = 0:\")\n",
    "display(critical_points)\n",
    "\n",
    "# Encontrar puntos donde f'(x) no existe (cuando el denominador se anula)\n",
    "# Sacamos el denominador de la fracccion\n",
    "denominator = sp.denom(f_prime_simplified)\n",
    "# igualamos a cero el denominador\n",
    "undefined_points = sp.solve(denominator, x)\n",
    "\n",
    "print(\"Puntos donde f'(x) no existe:\")\n",
    "display(undefined_points)\n"
   ]
  },
  {
   "cell_type": "markdown",
   "id": "826983dd-397e-49c7-b311-fd6566bdb51e",
   "metadata": {},
   "source": [
    "<div style=\"background-color: lightblue; padding: 10px; border-radius: 5px;\">\n",
    "    \n",
    "#### 2) Encuentre los números críticos de la función:\n",
    "\n",
    "\n",
    "</div>"
   ]
  },
  {
   "cell_type": "markdown",
   "id": "bdfff7cc-a4ec-4c05-bc3b-f408a31428d9",
   "metadata": {},
   "source": [
    "\\begin{align*}\n",
    "\\Huge a) \\quad f(x) = 4 + \\frac{1}{3}x - \\frac{1}{2}x^2\n",
    "\\end{align*}"
   ]
  },
  {
   "cell_type": "code",
   "execution_count": 111,
   "id": "f6b79b68-a482-4752-8326-492afd4b11f5",
   "metadata": {},
   "outputs": [
    {
     "data": {
      "text/latex": [
       "$\\displaystyle \\text{La derivada de } f(x) = 4 + \\frac{1}{3}x - \\frac{1}{2}x^2 \\text{ es:}$"
      ],
      "text/plain": [
       "<IPython.core.display.Math object>"
      ]
     },
     "metadata": {},
     "output_type": "display_data"
    },
    {
     "data": {
      "text/latex": [
       "$\\displaystyle \\boxed{f'(x) = 0.333333333333333 - 1.0 x}$"
      ],
      "text/plain": [
       "<IPython.core.display.Math object>"
      ]
     },
     "metadata": {},
     "output_type": "display_data"
    },
    {
     "data": {
      "text/latex": [
       "$\\displaystyle \\text{Los puntos críticos son:}$"
      ],
      "text/plain": [
       "<IPython.core.display.Math object>"
      ]
     },
     "metadata": {},
     "output_type": "display_data"
    },
    {
     "data": {
      "text/latex": [
       "$\\displaystyle \\boxed{x = \\left[ 0.333333333333333\\right]}$"
      ],
      "text/plain": [
       "<IPython.core.display.Math object>"
      ]
     },
     "metadata": {},
     "output_type": "display_data"
    }
   ],
   "source": [
    "import sympy as sp\n",
    "from IPython.display import display, Math\n",
    "\n",
    "# Definir la variable simbolica\n",
    "x = sp.Symbol('x')\n",
    "\n",
    "# Definir la función f(x)\n",
    "f = 4 + (1/3)*x - (1/2)*x**2\n",
    "\n",
    "# Calcular la derivada\n",
    "f_prime = sp.diff(f, x)\n",
    "\n",
    "# Simplificar la derivada\n",
    "f_prime_simplified = sp.simplify(f_prime)\n",
    "\n",
    "# Encontrar los puntos críticos\n",
    "critical_points = sp.solve(f_prime_simplified, x)\n",
    "\n",
    "# Inicializar impresión\n",
    "sp.init_printing()\n",
    "latex = sp.latex \n",
    "\n",
    "# Mostrar la derivada\n",
    "display(Math(r\"\\text{La derivada de } f(x) = 4 + \\frac{1}{3}x - \\frac{1}{2}x^2 \\text{ es:}\"))\n",
    "display(Math(r\"\\boxed{f'(x) = \" + latex(f_prime_simplified) + r\"}\"))\n",
    "\n",
    "# Mostrar los puntos críticos\n",
    "display(Math(r\"\\text{Los puntos críticos son:}\"))\n",
    "\n",
    "display(Math(r\"\\boxed{x = \" + latex(critical_points) + r\"}\"))\n"
   ]
  },
  {
   "cell_type": "markdown",
   "id": "242c3a0c-5468-4fc3-a835-9e5c4ae70cd9",
   "metadata": {},
   "source": [
    "\\begin{align*}\n",
    "\\Huge b) \\quad f(x) = x^3 + 6x^2 - 15x\n",
    "\\end{align*}"
   ]
  },
  {
   "cell_type": "code",
   "execution_count": 128,
   "id": "75788305-e2d1-44fb-8d81-0991e5fc69b6",
   "metadata": {},
   "outputs": [
    {
     "data": {
      "text/latex": [
       "$\\displaystyle \\text{La derivada de } f(x) = x^3 + 6x^2 - 15x \\text{ es:}$"
      ],
      "text/plain": [
       "<IPython.core.display.Math object>"
      ]
     },
     "metadata": {},
     "output_type": "display_data"
    },
    {
     "data": {
      "text/latex": [
       "$\\displaystyle \\boxed{f'(x) = 3 x^{2} + 12 x - 15}$"
      ],
      "text/plain": [
       "<IPython.core.display.Math object>"
      ]
     },
     "metadata": {},
     "output_type": "display_data"
    },
    {
     "data": {
      "text/latex": [
       "$\\displaystyle \\text{Los puntos críticos son:}$"
      ],
      "text/plain": [
       "<IPython.core.display.Math object>"
      ]
     },
     "metadata": {},
     "output_type": "display_data"
    },
    {
     "data": {
      "text/latex": [
       "$\\displaystyle \\boxed{\\left[ -5, \\  1\\right]}$"
      ],
      "text/plain": [
       "<IPython.core.display.Math object>"
      ]
     },
     "metadata": {},
     "output_type": "display_data"
    }
   ],
   "source": [
    "import sympy as sp\n",
    "from sympy import latex\n",
    "from IPython.display import display, Math\n",
    "\n",
    "# Definir variable\n",
    "x = sp.Symbol('x')\n",
    "\n",
    "# Definir función f(x)\n",
    "f = x**3 + 6*x**2 - 15*x\n",
    "\n",
    "# Calcular la derivada\n",
    "f_prime = sp.diff(f, x)\n",
    "\n",
    "# Simplificar (opcional en este caso)\n",
    "f_prime_simplified = sp.simplify(f_prime)\n",
    "\n",
    "# Calcular puntos críticos (donde f'(x) = 0)\n",
    "critical_points = sp.solve(f_prime_simplified, x)\n",
    "\n",
    "# Mostrar resultados con cajas y texto explicativo\n",
    "sp.init_printing()\n",
    "\n",
    "display(Math(r\"\\text{La derivada de } f(x) = x^3 + 6x^2 - 15x \\text{ es:}\"))\n",
    "display(Math(r\"\\boxed{f'(x) = \" + latex(f_prime_simplified) + r\"}\"))\n",
    "\n",
    "display(Math(r\"\\text{Los puntos críticos son:}\"))\n",
    "display(Math(r\"\\boxed{\" + latex(critical_points) + r\"}\"))\n"
   ]
  },
  {
   "cell_type": "markdown",
   "id": "01db2dd7-3bcf-4783-9d6b-7f58dbcfc970",
   "metadata": {},
   "source": [
    "\\begin{align*}\n",
    "\\Huge c) \\quad g(\\mathbf{y}) = \\frac{\\mathbf{y} - 1}{\\mathbf{y}^2 - \\mathbf{y} + 1}\n",
    "\\end{align*}"
   ]
  },
  {
   "cell_type": "code",
   "execution_count": 133,
   "id": "716a4174-d5e4-4afa-a172-8c7389884705",
   "metadata": {},
   "outputs": [
    {
     "data": {
      "text/latex": [
       "$\\displaystyle \\text{La derivada es: } \\boxed{\\frac{y^{2} - y - \\left(y - 1\\right) \\left(2 y - 1\\right) + 1}{\\left(y^{2} - y + 1\\right)^{2}}}$"
      ],
      "text/plain": [
       "<IPython.core.display.Math object>"
      ]
     },
     "metadata": {},
     "output_type": "display_data"
    },
    {
     "data": {
      "text/latex": [
       "$\\displaystyle \\text{Los puntos críticos son: } \\boxed{\\left[ 0, \\  2\\right]}$"
      ],
      "text/plain": [
       "<IPython.core.display.Math object>"
      ]
     },
     "metadata": {},
     "output_type": "display_data"
    }
   ],
   "source": [
    "import sympy as sp\n",
    "from sympy import latex\n",
    "from IPython.display import display, Math\n",
    "\n",
    "# Inicializar\n",
    "y = sp.Symbol('y')\n",
    "init_printing()\n",
    "\n",
    "# Definir la función\n",
    "g = (y - 1) / (y**2 - y + 1)\n",
    "\n",
    "# Derivar\n",
    "g_prime = sp.diff(g, y)\n",
    "g_prime_simplified = sp.simplify(g_prime)\n",
    "\n",
    "# Calcular puntos críticos: g'(y) = 0\n",
    "critical_points = sp.solve(g_prime_simplified, y)\n",
    "\n",
    "# Mostrar resultados\n",
    "display(Math(r\"\\text{La derivada es: } \\boxed{\" + latex(g_prime_simplified) + r\"}\"))\n",
    "display(Math(r\"\\text{Los puntos críticos son: } \\boxed{\" + latex(critical_points) + r\"}\"))\n"
   ]
  },
  {
   "cell_type": "markdown",
   "id": "661d5380-5d25-4632-8f59-6b3108377003",
   "metadata": {},
   "source": [
    "\\begin{align*}\n",
    "\\Huge d) \\quad h(p) = \\frac{p - 1}{p^2 + 4}\n",
    "\\end{align*}"
   ]
  },
  {
   "cell_type": "code",
   "execution_count": 138,
   "id": "f0000c9c-151c-4599-9dde-9d56ac17941a",
   "metadata": {},
   "outputs": [
    {
     "data": {
      "text/latex": [
       "$\\displaystyle \\text{La derivada es: } \\boxed{\\frac{p^{2} - 2 p \\left(p - 1\\right) + 4}{\\left(p^{2} + 4\\right)^{2}}}$"
      ],
      "text/plain": [
       "<IPython.core.display.Math object>"
      ]
     },
     "metadata": {},
     "output_type": "display_data"
    },
    {
     "data": {
      "text/latex": [
       "$\\displaystyle \\text{Los puntos críticos son: } \\boxed{\\left[ 1 - \\sqrt{5}, \\  1 + \\sqrt{5}\\right]}$"
      ],
      "text/plain": [
       "<IPython.core.display.Math object>"
      ]
     },
     "metadata": {},
     "output_type": "display_data"
    }
   ],
   "source": [
    "import sympy as sp\n",
    "from sympy import latex\n",
    "from IPython.display import display, Math\n",
    "\n",
    "# Inicializar\n",
    "p = sp.Symbol('p')\n",
    "init_printing()\n",
    "\n",
    "# Definir la función h(p)\n",
    "h = (p - 1) / (p**2 + 4)\n",
    "\n",
    "# Derivar usando regla del cociente\n",
    "h_prime = sp.diff(h, p)\n",
    "\n",
    "# Simplificar la derivada\n",
    "h_prime_simplified = sp.simplify(h_prime)\n",
    "\n",
    "# Encontrar puntos críticos: h'(p) = 0\n",
    "critical_points = sp.solve(h_prime_simplified, p)\n",
    "\n",
    "# Mostrar resultados\n",
    "display(Math(r\"\\text{La derivada es: } \\boxed{\" + latex(h_prime_simplified) + r\"}\"))\n",
    "display(Math(r\"\\text{Los puntos críticos son: } \\boxed{\" + latex(critical_points) + r\"}\"))\n"
   ]
  },
  {
   "cell_type": "markdown",
   "id": "445b961c-6d5f-4f54-99a7-82960efedacb",
   "metadata": {},
   "source": [
    "<div style=\"background-color: lightblue; padding: 10px; border-radius: 5px;\">\n",
    "    \n",
    "#### 3) ¿Qué es un máximo y mínimo absoluto? ¿Cómo se hace para saber en qué valores la función tiene valores máximos o mínimos absolutos en un intervalo cerrado?\n",
    "\n",
    "\n",
    "</div>"
   ]
  },
  {
   "cell_type": "markdown",
   "id": "574492db-9e4a-4f03-b115-9a5ff399d6be",
   "metadata": {},
   "source": [
    "## **Máximos y Mínimos Absolutos**\n",
    "\n",
    "Un **máximo absoluto** y un **mínimo absoluto** son los valores **más alto** y **más bajo**, respectivamente, que toma una función dentro de un intervalo específico.\n",
    "\n",
    "### **1. Derivar la Función**\n",
    "Encuentra la derivada f'(x).\n",
    "\n",
    "### **2. Igualar a Cero**\n",
    "Resuelve f'(x) = 0 para encontrar puntos críticos.\n",
    "\n",
    "### **3. Hallar los Puntos Críticos y Extremos del Intervalo**\n",
    "Evalúa la función en:\n",
    "- Los puntos críticos que estén dentro del intervalo [a, b].\n",
    "- Los extremos del intervalo: x = a y x = b.\n",
    "\n",
    "### **4. Evaluar la Función en Cada Punto**\n",
    "Sustituye cada valor en la función original para obtener los valores numéricos.\n",
    "\n",
    "### **5. Comparar Valores**\n",
    "El valor más alto es el **máximo absoluto**, y el valor más bajo es el **mínimo absoluto**.\n"
   ]
  },
  {
   "cell_type": "markdown",
   "id": "d9eeb566-c596-43f2-8a97-6592feb75ea1",
   "metadata": {},
   "source": [
    "<div style=\"background-color: lightblue; padding: 10px; border-radius: 5px;\">\n",
    "    \n",
    "#### 4) Encuentre los valores máximos y mínimos locales de utilizando las pruebas de la primera y la segunda derivada. Qué método prefieres?\n",
    "\n",
    "\n",
    "</div>"
   ]
  },
  {
   "cell_type": "markdown",
   "id": "9b1ef44b-75a6-4fbb-8cb9-b01e320d8d3b",
   "metadata": {},
   "source": [
    "\\begin{align*}\n",
    "\\Huge 1) \\quad f(x) = 1 + 3x^2 - 2x^3\n",
    "\\end{align*}"
   ]
  },
  {
   "cell_type": "markdown",
   "id": "341bf080-72ac-4985-9557-816c465c6833",
   "metadata": {},
   "source": [
    "### **1. Primera Derivada**"
   ]
  },
  {
   "cell_type": "code",
   "execution_count": 174,
   "id": "b7cd00b2-2fb0-4f93-8629-8178ee93b370",
   "metadata": {},
   "outputs": [
    {
     "data": {
      "text/latex": [
       "$\\displaystyle \\text{Primera derivada: } \\boxed{f'(x) = 6 x \\left(1 - x\\right)}$"
      ],
      "text/plain": [
       "<IPython.core.display.Math object>"
      ]
     },
     "metadata": {},
     "output_type": "display_data"
    },
    {
     "data": {
      "text/latex": [
       "$\\displaystyle \\text{Puntos críticos: } \\boxed{0, 1}$"
      ],
      "text/plain": [
       "<IPython.core.display.Math object>"
      ]
     },
     "metadata": {},
     "output_type": "display_data"
    },
    {
     "data": {
      "text/latex": [
       "$\\displaystyle \\text{Clasificación con la primera derivada:}$"
      ],
      "text/plain": [
       "<IPython.core.display.Math object>"
      ]
     },
     "metadata": {},
     "output_type": "display_data"
    },
    {
     "data": {
      "text/latex": [
       "$\\displaystyle \\boxed{x = 0 \\text{ es un mínimo local}}$"
      ],
      "text/plain": [
       "<IPython.core.display.Math object>"
      ]
     },
     "metadata": {},
     "output_type": "display_data"
    },
    {
     "data": {
      "text/latex": [
       "$\\displaystyle \\boxed{x = 1 \\text{ es un máximo local}}$"
      ],
      "text/plain": [
       "<IPython.core.display.Math object>"
      ]
     },
     "metadata": {},
     "output_type": "display_data"
    }
   ],
   "source": [
    "import sympy as sp\n",
    "from sympy import latex\n",
    "from IPython.display import display, Math\n",
    "\n",
    "# Definir la variable\n",
    "x = sp.Symbol('x')\n",
    "\n",
    "# Definir la función f(x)\n",
    "f = 1 + 3*x**2 - 2*x**3\n",
    "\n",
    "# Calcular la primera derivada\n",
    "f_prime = sp.diff(f, x)\n",
    "f_prime_simplified = sp.simplify(f_prime)\n",
    "\n",
    "# Encontrar puntos críticos resolviendo f'(x) = 0\n",
    "critical_points = sp.solve(f_prime_simplified, x)\n",
    "\n",
    "# Mostrar la derivada y los puntos críticos\n",
    "sp.init_printing()\n",
    "display(Math(r\"\\text{Primera derivada: } \\boxed{f'(x) = \" + latex(f_prime_simplified) + r\"}\"))\n",
    "display(Math(r\"\\text{Puntos críticos: } \\boxed{\" + ', '.join([latex(p) for p in critical_points]) + r\"}\"))\n",
    "\n",
    "# Analizar el signo de f' alrededor de los puntos críticos\n",
    "# se crea los intervalos a evaluar\n",
    "test_intervals = [(p - 0.1, p + 0.1) for p in critical_points]\n",
    "# se evaluan los intervalos\n",
    "signs = [(f_prime_simplified.subs(x, a).evalf(), f_prime_simplified.subs(x, b).evalf()) for a, b in test_intervals]\n",
    "\n",
    "# Mostrar análisis de crecimiento/decrecimiento\n",
    "results = []\n",
    "for i, point in enumerate(critical_points):\n",
    "    left_sign, right_sign = signs[i]\n",
    "    if left_sign > 0 and right_sign < 0:\n",
    "        result = f\"x = {point} \\\\text{{ es un máximo local}}\"\n",
    "    elif left_sign < 0 and right_sign > 0:\n",
    "        result = f\"x = {point} \\\\text{{ es un mínimo local}}\"\n",
    "    else:\n",
    "        result = f\"x = {point} \\\\text{{ no es ni máximo ni mínimo}}\"\n",
    "    results.append(result)\n",
    "\n",
    "display(Math(r\"\\text{Clasificación con la primera derivada:}\"))\n",
    "for res in results:\n",
    "    display(Math(r\"\\boxed{\" + res + r\"}\"))\n"
   ]
  },
  {
   "cell_type": "markdown",
   "id": "66f749d5-b732-4f7b-89f0-511510bccb42",
   "metadata": {},
   "source": [
    "![Gráfica](imagen11.png)"
   ]
  },
  {
   "cell_type": "markdown",
   "id": "d014418f-e347-44bb-9672-8338458836d3",
   "metadata": {},
   "source": [
    "### **2. Segunda Derivada**"
   ]
  },
  {
   "cell_type": "code",
   "execution_count": 176,
   "id": "43758d54-d277-4f28-a834-ed70923c400e",
   "metadata": {},
   "outputs": [
    {
     "data": {
      "text/latex": [
       "$\\displaystyle \\text{Segunda derivada: } \\boxed{f''(x) = 6 - 12 x}$"
      ],
      "text/plain": [
       "<IPython.core.display.Math object>"
      ]
     },
     "metadata": {},
     "output_type": "display_data"
    },
    {
     "data": {
      "text/latex": [
       "$\\displaystyle \\text{Clasificación con la segunda derivada:}$"
      ],
      "text/plain": [
       "<IPython.core.display.Math object>"
      ]
     },
     "metadata": {},
     "output_type": "display_data"
    },
    {
     "data": {
      "text/latex": [
       "$\\displaystyle \\boxed{x = 0 \\text{ es un mínimo local}}$"
      ],
      "text/plain": [
       "<IPython.core.display.Math object>"
      ]
     },
     "metadata": {},
     "output_type": "display_data"
    },
    {
     "data": {
      "text/latex": [
       "$\\displaystyle \\boxed{x = 1 \\text{ es un máximo local}}$"
      ],
      "text/plain": [
       "<IPython.core.display.Math object>"
      ]
     },
     "metadata": {},
     "output_type": "display_data"
    }
   ],
   "source": [
    "# Calcular la segunda derivada\n",
    "f_double_prime = sp.diff(f_prime_simplified, x)\n",
    "f_double_prime_simplified = sp.simplify(f_double_prime)\n",
    "\n",
    "# Mostrar la segunda derivada\n",
    "display(Math(r\"\\text{Segunda derivada: } \\boxed{f''(x) = \" + latex(f_double_prime_simplified) + r\"}\"))\n",
    "\n",
    "# Evaluar la segunda derivada en los puntos críticos para clasificarlos\n",
    "results_second = []\n",
    "for point in critical_points:\n",
    "    second_deriv_value = f_double_prime_simplified.subs(x, point).evalf()\n",
    "    if second_deriv_value > 0:\n",
    "        result = f\"x = {point} \\\\text{{ es un mínimo local}}\"\n",
    "    elif second_deriv_value < 0:\n",
    "        result = f\"x = {point} \\\\text{{ es un máximo local}}\"\n",
    "    else:\n",
    "        result = f\"x = {point} \\\\text{{ no se puede concluir con esta prueba}}\"\n",
    "    results_second.append(result)\n",
    "\n",
    "# Mostrar clasificación con la segunda derivada\n",
    "display(Math(r\"\\text{Clasificación con la segunda derivada:}\"))\n",
    "for res in results_second:\n",
    "    display(Math(r\"\\boxed{\" + res + r\"}\"))\n"
   ]
  },
  {
   "cell_type": "markdown",
   "id": "ee4e7e19-33f1-4d0d-a045-04f48d41ae97",
   "metadata": {},
   "source": [
    "\\begin{align*}\n",
    "\\Huge 2) \\quad f(x) = \\frac{x^2}{x - 1}\n",
    "\\end{align*}"
   ]
  },
  {
   "cell_type": "markdown",
   "id": "3e59c29a-e5c0-412c-8ccf-82ee469dcb0d",
   "metadata": {},
   "source": [
    "### **1. Primera Derivada**"
   ]
  },
  {
   "cell_type": "code",
   "execution_count": 183,
   "id": "b4eaaf3f-f1a6-4ae9-8dd5-fb33125b3e98",
   "metadata": {},
   "outputs": [
    {
     "data": {
      "text/latex": [
       "$\\displaystyle \\text{Derivada de } f(x):\\ \\boxed{f'(x) = \\frac{x \\left(x - 2\\right)}{x^{2} - 2 x + 1}}$"
      ],
      "text/plain": [
       "<IPython.core.display.Math object>"
      ]
     },
     "metadata": {},
     "output_type": "display_data"
    },
    {
     "data": {
      "text/latex": [
       "$\\displaystyle \\text{Puntos críticos: } \\boxed{0, 2}$"
      ],
      "text/plain": [
       "<IPython.core.display.Math object>"
      ]
     },
     "metadata": {},
     "output_type": "display_data"
    },
    {
     "data": {
      "text/latex": [
       "$\\displaystyle \\text{Puntos donde la derivada no existe: } \\boxed{1}$"
      ],
      "text/plain": [
       "<IPython.core.display.Math object>"
      ]
     },
     "metadata": {},
     "output_type": "display_data"
    },
    {
     "data": {
      "text/latex": [
       "$\\displaystyle \\text{Análisis con la primera derivada:}$"
      ],
      "text/plain": [
       "<IPython.core.display.Math object>"
      ]
     },
     "metadata": {},
     "output_type": "display_data"
    },
    {
     "data": {
      "text/latex": [
       "$\\displaystyle x = 0 \\text{ es un máximo local}$"
      ],
      "text/plain": [
       "<IPython.core.display.Math object>"
      ]
     },
     "metadata": {},
     "output_type": "display_data"
    },
    {
     "data": {
      "text/latex": [
       "$\\displaystyle x = 2 \\text{ es un mínimo local}$"
      ],
      "text/plain": [
       "<IPython.core.display.Math object>"
      ]
     },
     "metadata": {},
     "output_type": "display_data"
    }
   ],
   "source": [
    "import sympy as sp\n",
    "from sympy import Symbol, diff, simplify, solve, latex, init_printing\n",
    "from sympy.abc import x\n",
    "from IPython.display import Math, display\n",
    "\n",
    "init_printing()\n",
    "\n",
    "# Definir la función f(x)\n",
    "f = x**2 / (x - 1)\n",
    "\n",
    "# Derivada de f(x)\n",
    "f_prime = diff(f, x)\n",
    "f_prime_simplified = simplify(f_prime)\n",
    "\n",
    "# Encontrar puntos críticos (donde f'(x) = 0)\n",
    "critical_points = solve(f_prime_simplified, x)\n",
    "\n",
    "# Ver dónde la derivada no existe (división por cero)\n",
    "f_prime_frac = sp.together(f_prime_simplified)\n",
    "undefined_points = solve(sp.denom(f_prime_frac), x)\n",
    "\n",
    "# Generar intervalos de prueba alrededor de los puntos críticos\n",
    "test_intervals = [(p - 0.1, p + 0.1) for p in critical_points]\n",
    "\n",
    "# Evaluar el signo de la derivada antes y después del punto\n",
    "signs = [(f_prime_simplified.subs(x, a).evalf(), f_prime_simplified.subs(x, b).evalf()) for a, b in test_intervals]\n",
    "\n",
    "# Analizar los signos para determinar máximos o mínimos\n",
    "results = []\n",
    "for i, point in enumerate(critical_points):\n",
    "    left_sign, right_sign = signs[i]\n",
    "    if left_sign > 0 and right_sign < 0:\n",
    "        result = f\"x = {point} \\\\text{{ es un máximo local}}\"\n",
    "    elif left_sign < 0 and right_sign > 0:\n",
    "        result = f\"x = {point} \\\\text{{ es un mínimo local}}\"\n",
    "    else:\n",
    "        result = f\"x = {point} \\\\text{{ no es ni máximo ni mínimo}}\"\n",
    "    results.append(result)\n",
    "\n",
    "# Mostrar resultados\n",
    "display(Math(r\"\\text{Derivada de } f(x):\\ \\boxed{f'(x) = \" + latex(f_prime_simplified) + r\"}\"))\n",
    "display(Math(r\"\\text{Puntos críticos: } \\boxed{\" + ', '.join([latex(p) for p in critical_points]) + r\"}\"))\n",
    "display(Math(r\"\\text{Puntos donde la derivada no existe: } \\boxed{\" + ', '.join([latex(p) for p in undefined_points]) + r\"}\"))\n",
    "display(Math(r\"\\text{Análisis con la primera derivada:}\"))\n",
    "for r in results:\n",
    "    display(Math(r))\n"
   ]
  },
  {
   "cell_type": "markdown",
   "id": "b07938ab-4bb8-4d8a-9c8a-24948934d0ea",
   "metadata": {},
   "source": [
    "![Gráfica](imagen12.png)"
   ]
  },
  {
   "cell_type": "markdown",
   "id": "a1074493-e1bd-437a-ba1a-8146427b8e29",
   "metadata": {},
   "source": [
    "### **2. Segunda Derivada**"
   ]
  },
  {
   "cell_type": "code",
   "execution_count": 187,
   "id": "f8aa61e6-d0a3-4af2-a1f7-6aca3bd9a352",
   "metadata": {},
   "outputs": [
    {
     "data": {
      "text/latex": [
       "$\\displaystyle \\textbf{Función: } f(x) = \\frac{x^2}{x - 1}$"
      ],
      "text/plain": [
       "<IPython.core.display.Math object>"
      ]
     },
     "metadata": {},
     "output_type": "display_data"
    },
    {
     "data": {
      "text/latex": [
       "$\\displaystyle \\textbf{Primera derivada: } \\boxed{f'(x) = \\frac{x \\left(x - 2\\right)}{x^{2} - 2 x + 1}}$"
      ],
      "text/plain": [
       "<IPython.core.display.Math object>"
      ]
     },
     "metadata": {},
     "output_type": "display_data"
    },
    {
     "data": {
      "text/latex": [
       "$\\displaystyle \\textbf{Segunda derivada: } \\boxed{f''(x) = \\frac{2}{x^{3} - 3 x^{2} + 3 x - 1}}$"
      ],
      "text/plain": [
       "<IPython.core.display.Math object>"
      ]
     },
     "metadata": {},
     "output_type": "display_data"
    },
    {
     "data": {
      "text/latex": [
       "$\\displaystyle x = 0 \\text{ es un máximo local}$"
      ],
      "text/plain": [
       "<IPython.core.display.Math object>"
      ]
     },
     "metadata": {},
     "output_type": "display_data"
    },
    {
     "data": {
      "text/latex": [
       "$\\displaystyle x = 2 \\text{ es un mínimo local}$"
      ],
      "text/plain": [
       "<IPython.core.display.Math object>"
      ]
     },
     "metadata": {},
     "output_type": "display_data"
    }
   ],
   "source": [
    "import sympy as sp\n",
    "from sympy import Eq\n",
    "from sympy.abc import x\n",
    "from sympy import latex\n",
    "from IPython.display import display, Math\n",
    "\n",
    "# Definir la función\n",
    "f = x**2 / (x - 1)\n",
    "\n",
    "# Derivada primera y segunda\n",
    "f_prime = sp.diff(f, x)\n",
    "f_prime_simplified = sp.simplify(f_prime)\n",
    "f_double_prime = sp.diff(f_prime_simplified, x)\n",
    "f_double_prime_simplified = sp.simplify(f_double_prime)\n",
    "\n",
    "# Puntos críticos (donde la derivada es cero)\n",
    "critical_points = sp.solve(f_prime_simplified, x)\n",
    "\n",
    "# Mostrar resultados con estilo\n",
    "sp.init_printing()\n",
    "\n",
    "display(Math(r\"\\textbf{Función: } f(x) = \\frac{x^2}{x - 1}\"))\n",
    "display(Math(r\"\\textbf{Primera derivada: } \\boxed{f'(x) = \" + latex(f_prime_simplified) + r\"}\"))\n",
    "display(Math(r\"\\textbf{Segunda derivada: } \\boxed{f''(x) = \" + latex(f_double_prime_simplified) + r\"}\"))\n",
    "\n",
    "# Evaluar la segunda derivada en los puntos críticos\n",
    "second_derivative_tests = []\n",
    "for point in critical_points:\n",
    "    second_value = f_double_prime_simplified.subs(x, point).evalf()\n",
    "    if second_value > 0:\n",
    "        result = f\"x = {point} \\\\text{{ es un mínimo local}}\"\n",
    "    elif second_value < 0:\n",
    "        result = f\"x = {point} \\\\text{{ es un máximo local}}\"\n",
    "    else:\n",
    "        result = f\"x = {point} \\\\text{{ no se puede concluir con la segunda derivada}}\"\n",
    "    second_derivative_tests.append(result)\n",
    "\n",
    "# Mostrar los resultados de la prueba de la segunda derivada\n",
    "for result in second_derivative_tests:\n",
    "    display(Math(result))\n"
   ]
  },
  {
   "cell_type": "markdown",
   "id": "07ccf6b1-16f3-40d7-8b71-5cfb88a21bc0",
   "metadata": {},
   "source": [
    "\\begin{align*}\n",
    "\\Huge 3) \\quad f(x) = \\sqrt{x} - \\sqrt[4]{x}\n",
    "\\end{align*}"
   ]
  },
  {
   "cell_type": "markdown",
   "id": "263db10f-b314-407f-a3a6-3a83fcc5dcf0",
   "metadata": {},
   "source": [
    "### **1. Primera Derivada**"
   ]
  },
  {
   "cell_type": "code",
   "execution_count": 199,
   "id": "f5a4fda1-03e6-45d6-9d73-85429c69559d",
   "metadata": {},
   "outputs": [
    {
     "data": {
      "text/latex": [
       "$\\displaystyle \\text{La derivada de } f(x) = \\sqrt{x} - \\sqrt[4]{x} \\text{ es }$"
      ],
      "text/plain": [
       "<IPython.core.display.Math object>"
      ]
     },
     "metadata": {},
     "output_type": "display_data"
    },
    {
     "data": {
      "text/latex": [
       "$\\displaystyle \\boxed{f'(x) = \\frac{1}{2 \\sqrt{x}} - \\frac{1}{4 x^{\\frac{3}{4}}}}$"
      ],
      "text/plain": [
       "<IPython.core.display.Math object>"
      ]
     },
     "metadata": {},
     "output_type": "display_data"
    },
    {
     "data": {
      "text/latex": [
       "$\\displaystyle \\text{Los puntos críticos (donde } f'(x) = 0 \\text{) son:}$"
      ],
      "text/plain": [
       "<IPython.core.display.Math object>"
      ]
     },
     "metadata": {},
     "output_type": "display_data"
    },
    {
     "data": {
      "text/latex": [
       "$\\displaystyle \\boxed{\\frac{1}{16}}$"
      ],
      "text/plain": [
       "<IPython.core.display.Math object>"
      ]
     },
     "metadata": {},
     "output_type": "display_data"
    }
   ],
   "source": [
    "# Usar funciones correctas después del reinicio\n",
    "import sympy as sp\n",
    "from sympy import sqrt, root, symbols, diff, simplify, solve, init_printing, latex\n",
    "from IPython.display import display, Math\n",
    "\n",
    "# Inicializar impresión bonita\n",
    "init_printing()\n",
    "\n",
    "# Definir la variable\n",
    "x = symbols('x')\n",
    "\n",
    "# Definir la función f(x) = sqrt(x) - x**(1/4)\n",
    "f = sqrt(x) - root(x, 4)\n",
    "\n",
    "# Calcular la primera derivada\n",
    "f_prime = diff(f, x)\n",
    "f_prime_simplified = simplify(f_prime)\n",
    "\n",
    "# Encontrar puntos críticos (donde la derivada es cero)\n",
    "critical_points = solve(f_prime_simplified, x)\n",
    "\n",
    "# Mostrar resultados\n",
    "display(Math(r\"\\text{La derivada de } f(x) = \\sqrt{x} - \\sqrt[4]{x} \\text{ es }\"))\n",
    "display(Math(r\"\\boxed{f'(x) = \" + latex(f_prime_simplified) + r\"}\"))\n",
    "\n",
    "display(Math(r\"\\text{Los puntos críticos (donde } f'(x) = 0 \\text{) son:}\"))\n",
    "display(Math(r\"\\boxed{\" + ', '.join([latex(p) for p in critical_points]) + r\"}\"))\n"
   ]
  },
  {
   "cell_type": "markdown",
   "id": "eb8c6544-43c2-4100-9e82-88dbf32cc736",
   "metadata": {},
   "source": [
    "![Gráfica](imagen13.png)"
   ]
  },
  {
   "cell_type": "markdown",
   "id": "b6e141b4-649b-476b-8edd-168846f23b3f",
   "metadata": {},
   "source": [
    "### **2. Segunda Derivada**"
   ]
  },
  {
   "cell_type": "code",
   "execution_count": 217,
   "id": "3e6f22a3-3204-4036-90d6-6d9230f4e844",
   "metadata": {},
   "outputs": [
    {
     "data": {
      "text/latex": [
       "$\\displaystyle \\text{La segunda derivada es:}$"
      ],
      "text/plain": [
       "<IPython.core.display.Math object>"
      ]
     },
     "metadata": {},
     "output_type": "display_data"
    },
    {
     "data": {
      "text/latex": [
       "$\\displaystyle \\boxed{f''(x) = - \\frac{1}{4 x^{\\frac{3}{2}}} + \\frac{3}{16 x^{\\frac{7}{4}}}}$"
      ],
      "text/plain": [
       "<IPython.core.display.Math object>"
      ]
     },
     "metadata": {},
     "output_type": "display_data"
    },
    {
     "data": {
      "text/latex": [
       "$\\displaystyle x = \\frac{1}{16} \\Rightarrow \\text{mínimo local}$"
      ],
      "text/plain": [
       "<IPython.core.display.Math object>"
      ]
     },
     "metadata": {},
     "output_type": "display_data"
    }
   ],
   "source": [
    "# Calcular la segunda derivada\n",
    "f_double_prime = diff(f_prime_simplified, x)\n",
    "f_double_prime_simplified = simplify(f_double_prime)\n",
    "\n",
    "# Evaluar la segunda derivada en los puntos críticos\n",
    "second_derivative_results = [\n",
    "    (point, f_double_prime_simplified.subs(x, point).evalf()) for point in critical_points\n",
    "]\n",
    "\n",
    "# Mostrar resultados\n",
    "display(Math(r\"\\text{La segunda derivada es:}\"))\n",
    "display(Math(r\"\\boxed{f''(x) = \" + latex(f_double_prime_simplified) + r\"}\"))\n",
    "\n",
    "for point, value in second_derivative_results:\n",
    "    if value > 0:\n",
    "        nature = \"mínimo local\"\n",
    "    elif value < 0:\n",
    "        nature = \"máximo local\"\n",
    "    else:\n",
    "        nature = \"punto de inflexión o prueba inconclusa\"\n",
    "    display(Math(f\"x = {latex(point)} \\\\Rightarrow \\\\text{{{nature}}}\"))\n"
   ]
  },
  {
   "cell_type": "markdown",
   "id": "cfa56ea9-c466-45c1-a7d6-11b2ad94c7b5",
   "metadata": {},
   "source": [
    "<div style=\"background-color: lightblue; padding: 10px; border-radius: 5px;\">\n",
    "    \n",
    "#### 5) )Encuentre los intervalos donde crece o decrece\n",
    "\n",
    "\n",
    "</div>"
   ]
  },
  {
   "cell_type": "markdown",
   "id": "3f52d75a-9192-46f4-a175-ec0f9a1ed728",
   "metadata": {},
   "source": [
    "\\begin{align*}\n",
    "\\Huge 1) \\quad f(x) = x^3 - 12x + 2\n",
    "\\end{align*}"
   ]
  },
  {
   "cell_type": "code",
   "execution_count": 233,
   "id": "df028dec-1789-4b34-9c12-f0ebf7d9ac0a",
   "metadata": {},
   "outputs": [
    {
     "data": {
      "text/latex": [
       "$\\displaystyle \\boxed{f'(x) = 3 x^{2} - 12}$"
      ],
      "text/plain": [
       "<IPython.core.display.Math object>"
      ]
     },
     "metadata": {},
     "output_type": "display_data"
    },
    {
     "data": {
      "text/latex": [
       "$\\displaystyle \\text{Puntos críticos: } \\boxed{-2, 2}$"
      ],
      "text/plain": [
       "<IPython.core.display.Math object>"
      ]
     },
     "metadata": {},
     "output_type": "display_data"
    },
    {
     "data": {
      "text/latex": [
       "$\\displaystyle \\left( -\\infty, \\  -2\\right): \\, f(x) \\text{ crece }$"
      ],
      "text/plain": [
       "<IPython.core.display.Math object>"
      ]
     },
     "metadata": {},
     "output_type": "display_data"
    },
    {
     "data": {
      "text/latex": [
       "$\\displaystyle \\left( -2, \\  2\\right): \\, f(x) \\text{ decrece }$"
      ],
      "text/plain": [
       "<IPython.core.display.Math object>"
      ]
     },
     "metadata": {},
     "output_type": "display_data"
    },
    {
     "data": {
      "text/latex": [
       "$\\displaystyle \\left( 2, \\  \\infty\\right): \\, f(x) \\text{ crece }$"
      ],
      "text/plain": [
       "<IPython.core.display.Math object>"
      ]
     },
     "metadata": {},
     "output_type": "display_data"
    }
   ],
   "source": [
    "import sympy as sp\n",
    "from sympy import Eq, latex, init_printing, diff, solve, simplify\n",
    "from sympy.abc import x\n",
    "from IPython.display import display, Math  # ← Esto es lo que faltaba\n",
    "\n",
    "init_printing()\n",
    "\n",
    "# Definir la función\n",
    "f = x**3 - 12*x + 2\n",
    "\n",
    "# Derivada\n",
    "f_prime = diff(f, x)\n",
    "f_prime_simplified = simplify(f_prime)\n",
    "display(Math(r\"\\boxed{f'(x) = \" + latex(f_prime_simplified) + r\"}\"))\n",
    "\n",
    "# Puntos críticos\n",
    "critical_points = solve(f_prime_simplified, x)\n",
    "display(Math(r\"\\text{Puntos críticos: } \\boxed{\" + ', '.join([latex(p) for p in critical_points]) + \"}\"))\n",
    "\n",
    "# Crear intervalos entre los puntos críticos\n",
    "test_intervals = [(critical_points[i], critical_points[i+1]) for i in range(len(critical_points)-1)]\n",
    "test_intervals.insert(0, (-sp.oo, critical_points[0]))\n",
    "test_intervals.append((critical_points[-1], sp.oo))\n",
    "\n",
    "# Analizar el signo de la derivada en cada intervalo\n",
    "growth_analysis = []\n",
    "for a, b in test_intervals:\n",
    "    test_point = (a + b) / 2\n",
    "    sign_val = f_prime_simplified.subs(x, test_point).evalf()\n",
    "    if sign_val > 0:\n",
    "        growth_analysis.append(f\"{latex((a, b))}: \\\\, f(x) \\\\text{{ crece }}\")\n",
    "    else:\n",
    "        growth_analysis.append(f\"{latex((a, b))}: \\\\, f(x) \\\\text{{ decrece }}\")\n",
    "\n",
    "# Mostrar análisis\n",
    "for result in growth_analysis:\n",
    "    display(Math(result))\n"
   ]
  },
  {
   "cell_type": "markdown",
   "id": "bb819ffd-daed-445f-a406-be7306a223ad",
   "metadata": {},
   "source": [
    "\\begin{align*}\n",
    "\\Huge 2) \\quad f(x) = -2x^3 + 3x^2 + 36x\n",
    "\\end{align*}"
   ]
  },
  {
   "cell_type": "code",
   "execution_count": 239,
   "id": "2e1f565c-c41b-41bc-99ad-4baa4a347fbe",
   "metadata": {},
   "outputs": [
    {
     "data": {
      "text/latex": [
       "$\\displaystyle \\boxed{f'(x) = - 6 x^{2} + 6 x + 36}$"
      ],
      "text/plain": [
       "<IPython.core.display.Math object>"
      ]
     },
     "metadata": {},
     "output_type": "display_data"
    },
    {
     "data": {
      "text/latex": [
       "$\\displaystyle \\text{Puntos críticos: } \\boxed{-2, 3}$"
      ],
      "text/plain": [
       "<IPython.core.display.Math object>"
      ]
     },
     "metadata": {},
     "output_type": "display_data"
    },
    {
     "data": {
      "text/latex": [
       "$\\displaystyle \\left( -10, \\  -2\\right): \\, f(x) \\text{ decrece }$"
      ],
      "text/plain": [
       "<IPython.core.display.Math object>"
      ]
     },
     "metadata": {},
     "output_type": "display_data"
    },
    {
     "data": {
      "text/latex": [
       "$\\displaystyle \\left( -2, \\  3\\right): \\, f(x) \\text{ crece }$"
      ],
      "text/plain": [
       "<IPython.core.display.Math object>"
      ]
     },
     "metadata": {},
     "output_type": "display_data"
    },
    {
     "data": {
      "text/latex": [
       "$\\displaystyle \\left( 3, \\  10\\right): \\, f(x) \\text{ decrece }$"
      ],
      "text/plain": [
       "<IPython.core.display.Math object>"
      ]
     },
     "metadata": {},
     "output_type": "display_data"
    }
   ],
   "source": [
    "import sympy as sp\n",
    "from sympy import Eq, latex, init_printing, diff, solve, simplify\n",
    "from sympy.abc import x\n",
    "from IPython.display import display, Math\n",
    "\n",
    "init_printing()\n",
    "\n",
    "# Definir la función\n",
    "f = -2*x**3 + 3*x**2 + 36*x\n",
    "\n",
    "# Derivada\n",
    "f_prime = diff(f, x)\n",
    "f_prime_simplified = simplify(f_prime)\n",
    "display(Math(r\"\\boxed{f'(x) = \" + latex(f_prime_simplified) + r\"}\"))\n",
    "\n",
    "# Puntos críticos\n",
    "critical_points = solve(f_prime_simplified, x)\n",
    "display(Math(r\"\\text{Puntos críticos: } \\boxed{\" + ', '.join([latex(p) for p in critical_points]) + \"}\"))\n",
    "\n",
    "# Crear intervalos entre los puntos críticos\n",
    "test_intervals = []\n",
    "\n",
    "# Intervalo antes del primer punto crítico\n",
    "test_intervals.append((-10, critical_points[0]))\n",
    "\n",
    "# Entre los puntos críticos\n",
    "for i in range(len(critical_points) - 1):\n",
    "    test_intervals.append((critical_points[i], critical_points[i + 1]))\n",
    "\n",
    "# Intervalo después del último punto crítico\n",
    "test_intervals.append((critical_points[-1], 10))\n",
    "\n",
    "# Analizar el signo de la derivada en cada intervalo\n",
    "growth_analysis = []\n",
    "for a, b in test_intervals:\n",
    "    test_point = (a + b) / 2\n",
    "    sign_val = f_prime_simplified.subs(x, test_point).evalf()\n",
    "    if sign_val > 0:\n",
    "        growth_analysis.append(f\"{latex((a, b))}: \\\\, f(x) \\\\text{{ crece }}\")\n",
    "    else:\n",
    "        growth_analysis.append(f\"{latex((a, b))}: \\\\, f(x) \\\\text{{ decrece }}\")\n",
    "\n",
    "# Mostrar análisis\n",
    "for result in growth_analysis:\n",
    "    display(Math(result))\n"
   ]
  }
 ],
 "metadata": {
  "kernelspec": {
   "display_name": "Python [conda env:base] *",
   "language": "python",
   "name": "conda-base-py"
  },
  "language_info": {
   "codemirror_mode": {
    "name": "ipython",
    "version": 3
   },
   "file_extension": ".py",
   "mimetype": "text/x-python",
   "name": "python",
   "nbconvert_exporter": "python",
   "pygments_lexer": "ipython3",
   "version": "3.12.7"
  }
 },
 "nbformat": 4,
 "nbformat_minor": 5
}
