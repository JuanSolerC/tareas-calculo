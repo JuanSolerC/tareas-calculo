{
 "cells": [
  {
   "cell_type": "markdown",
   "id": "d89313a5-2593-4f8f-8a42-f03aa40b7943",
   "metadata": {},
   "source": [
    "# ACTIVIDAD 4: Las derivadas de las funciones trigonométricase hiperbólicas"
   ]
  },
  {
   "cell_type": "markdown",
   "id": "d295c812-9681-4c42-aa12-48585de63a18",
   "metadata": {},
   "source": [
    "*Ejercicios compilados por Weimar Muñoz (2023), tomados de:*  \n",
    "*“Precálculo” de Stewart, Redlin, & Watson, 2016*"
   ]
  },
  {
   "cell_type": "markdown",
   "id": "2090a81a-8316-4942-96fa-96a8ec948671",
   "metadata": {},
   "source": [
    "## Recursos que usaremos"
   ]
  },
  {
   "cell_type": "markdown",
   "id": "ff1bffb4-e5f6-4b7c-b495-aca5ff1a8a4d",
   "metadata": {},
   "source": [
    "**symbols:** para definir variables matemáticas como x.\n",
    "\n",
    "**diff:** para derivar funciones.\n",
    "\n",
    "**Math:** convierte cadenas en expresiones matemáticas renderizadas con LaTeX.\n",
    "\n",
    "**simplify:** simplifica expresiones matemáticas.\n",
    "\n",
    "**exp:** para usar 𝑒𝑥\n",
    "\n",
    "**display:** muestra los resultados con estilos en Jupyter.\n",
    "\n",
    "**sin, cos, tan:** Representan funciones trigonométricas: seno, coseno y tangente.\n",
    "\n",
    "**coth, sinh:** funciones hiperbólicas (cohiperbólica y seno hiperbólico).\n",
    "\n",
    "**log** Representa logaritmos. Si no se especifica la base, usa base 𝑒.\n"
   ]
  },
  {
   "cell_type": "markdown",
   "id": "0f80b70c-3e4f-4e00-a52d-83b11b4aa072",
   "metadata": {},
   "source": [
    "<div style=\"background-color: lightblue; padding: 10px; border-radius: 5px;\">\n",
    "    \n",
    "#### 1) ¿Qué son las funciones hiperbólicas?, ¿por qué se les llaman así?, ¿Cuáles son estas funciones?\n",
    "\n",
    "\n",
    "</div>"
   ]
  },
  {
   "cell_type": "markdown",
   "id": "20532ff6-769d-4ec2-8239-0fa54aa8f6b9",
   "metadata": {},
   "source": [
    "## Funciones Hiperbólicas"
   ]
  },
  {
   "cell_type": "markdown",
   "id": "abff2249-8bfe-4b25-bab1-7dfdb71cfb32",
   "metadata": {},
   "source": [
    "Las **funciones hiperbólicas** son análogas a las funciones trigonométricas (seno, coseno, etc.), pero en lugar de estar relacionadas con un círculo, están relacionadas con la **hipérbola.** Se les llama así porque sus definiciones provienen de las propiedades de la hipérbola, así como las funciones trigonométricas provienen del círculo.\n",
    "\n",
    "Se definen usando **funciones exponenciales.**"
   ]
  },
  {
   "cell_type": "markdown",
   "id": "1d5a4d9d-788e-4b33-9de3-78b31c2ec450",
   "metadata": {},
   "source": [
    "| Nombre                   | Notación       | Definición                                       |\n",
    "|--------------------------|----------------|--------------------------------------------------|\n",
    "| Seno hiperbólico         | $\\sinh(x)$     | $\\sinh(x) = \\dfrac{e^x - e^{-x}}{2}$             |\n",
    "| Coseno hiperbólico       | $\\cosh(x)$     | $\\cosh(x) = \\dfrac{e^x + e^{-x}}{2}$             |\n",
    "| Tangente hiperbólica     | $\\tanh(x)$     | $\\tanh(x) = \\dfrac{\\sinh(x)}{\\cosh(x)}$          |\n",
    "| Cotangente hiperbólica   | $\\coth(x)$     | $\\coth(x) = \\dfrac{\\cosh(x)}{\\sinh(x)}$          |\n",
    "| Secante hiperbólica      | $\\text{sech}(x)$ |$\\text{sech}(x)$ = $\\dfrac{1}{\\cosh(x)}$        |\n",
    "| Cosecante hiperbólica    | $\\text{csch}(x)$ |$\\text{csch}(x)$ = $\\dfrac{1}{\\sinh(x)}$        |"
   ]
  },
  {
   "cell_type": "markdown",
   "id": "58c62b69-9844-469a-9aa3-26f466343c85",
   "metadata": {},
   "source": [
    "<div style=\"background-color: lightblue; padding: 10px; border-radius: 5px;\">\n",
    "    \n",
    "#### 2) Encuentre la derivada de cada una de las siguientes funciones y simplifique tanto como sea posible\n",
    "\n",
    "</div>"
   ]
  },
  {
   "cell_type": "markdown",
   "id": "4c5368e0-2248-4def-8d16-a165eaa0e439",
   "metadata": {},
   "source": [
    "\\begin{align*}\n",
    "\\Huge 1) \\quad f(x) = \\tanh(1 + e^{2x})\n",
    "\\end{align*}"
   ]
  },
  {
   "cell_type": "code",
   "execution_count": 174,
   "id": "2fc8eaad-d504-42cb-9162-6ae4c7e92afc",
   "metadata": {},
   "outputs": [
    {
     "data": {
      "text/latex": [
       "$\\displaystyle \\boxed{f'(x) = - \\left(2 \\tanh^{2}{\\left(e^{2 x} + 1 \\right)} - 2\\right) e^{2 x}}$"
      ],
      "text/plain": [
       "<IPython.core.display.Math object>"
      ]
     },
     "metadata": {},
     "output_type": "display_data"
    },
    {
     "data": {
      "text/latex": [
       "$\\displaystyle \\text{Este resultado es equivalente a } 2e^{2x} \\cdot sech^2(1 + e^{2x})$"
      ],
      "text/plain": [
       "<IPython.core.display.Math object>"
      ]
     },
     "metadata": {},
     "output_type": "display_data"
    }
   ],
   "source": [
    "from sympy import symbols, tanh, exp, diff, simplify, latex, sech\n",
    "from sympy.abc import x\n",
    "from IPython.display import display, Math\n",
    "\n",
    "# Definir la función\n",
    "f = tanh(1 + exp(2*x))\n",
    "\n",
    "# Calcular la derivada\n",
    "f_prime = diff(f, x)\n",
    "\n",
    "# Simplificar usando identidades hiperbólicas\n",
    "f_prime_simplified = simplify(f_prime.rewrite(sech))  # Forzar sech^2\n",
    "\n",
    "# Mostrar resultado final\n",
    "display(Math(r\"\\boxed{f'(x) = \" + latex(f_prime_simplified) + r\"}\"))\n",
    "# Mostrar mensaje explicativo\n",
    "display(Math(r\"\\text{Este resultado es equivalente a } 2e^{2x} \\cdot sech^2(1 + e^{2x})\"))"
   ]
  },
  {
   "cell_type": "markdown",
   "id": "3112d5cf-c2fa-4e00-9171-28840fcaa780",
   "metadata": {},
   "source": [
    "\\begin{align*}\n",
    "\\Huge 2) \\quad f(x) = x \\, \\operatorname{senh} x - \\cosh x\n",
    "\\end{align*}"
   ]
  },
  {
   "cell_type": "code",
   "execution_count": 179,
   "id": "e5f7c8ab-80f8-49ec-ba22-6ba85427e014",
   "metadata": {},
   "outputs": [
    {
     "data": {
      "text/latex": [
       "$\\displaystyle f(x) = x \\cdot \\sinh(x) - \\cosh(x)$"
      ],
      "text/plain": [
       "<IPython.core.display.Math object>"
      ]
     },
     "metadata": {},
     "output_type": "display_data"
    },
    {
     "data": {
      "text/latex": [
       "$\\displaystyle \\boxed{f'(x) = x \\cosh{\\left(x \\right)}}$"
      ],
      "text/plain": [
       "<IPython.core.display.Math object>"
      ]
     },
     "metadata": {},
     "output_type": "display_data"
    }
   ],
   "source": [
    "from sympy import symbols, sinh, cosh, diff, simplify, latex\n",
    "from IPython.display import display, Math\n",
    "\n",
    "# Definir variable\n",
    "x = symbols('x')\n",
    "\n",
    "# Definir función\n",
    "f = x * sinh(x) - cosh(x)\n",
    "\n",
    "# Derivar\n",
    "f_prime = diff(f, x)\n",
    "\n",
    "# Simplificar\n",
    "f_prime_simplified = simplify(f_prime)\n",
    "\n",
    "# Mostrar función original\n",
    "display(Math(r\"f(x) = x \\cdot \\sinh(x) - \\cosh(x)\"))\n",
    "\n",
    "# Mostrar derivada simplificada\n",
    "display(Math(r\"\\boxed{f'(x) = \" + latex(f_prime_simplified) + r\"}\"))\n"
   ]
  },
  {
   "cell_type": "markdown",
   "id": "11114f46-633e-4a6a-bf3d-a7ec492d77b5",
   "metadata": {},
   "source": [
    "\\begin{align*}\n",
    "\\Huge 3) \\quad g(x) = \\cosh(\\ln x)\n",
    "\\end{align*}"
   ]
  },
  {
   "cell_type": "code",
   "execution_count": 182,
   "id": "dd9c0e96-6268-45df-a3f0-35996ab32c73",
   "metadata": {},
   "outputs": [
    {
     "data": {
      "text/latex": [
       "$\\displaystyle g(x) = \\cosh(\\ln x)$"
      ],
      "text/plain": [
       "<IPython.core.display.Math object>"
      ]
     },
     "metadata": {},
     "output_type": "display_data"
    },
    {
     "data": {
      "text/latex": [
       "$\\displaystyle \\boxed{g'(x) = \\frac{\\sinh{\\left(\\log{\\left(x \\right)} \\right)}}{x}}$"
      ],
      "text/plain": [
       "<IPython.core.display.Math object>"
      ]
     },
     "metadata": {},
     "output_type": "display_data"
    }
   ],
   "source": [
    "from sympy import symbols, cosh, log, diff, simplify, latex\n",
    "from IPython.display import display, Math\n",
    "\n",
    "# Definir variable\n",
    "x = symbols('x')\n",
    "\n",
    "# Definir función\n",
    "g = cosh(log(x))\n",
    "\n",
    "# Derivar\n",
    "g_prime = diff(g, x)\n",
    "\n",
    "# Simplificar si es necesario\n",
    "g_prime_simplified = simplify(g_prime)\n",
    "\n",
    "# Mostrar función original\n",
    "display(Math(r\"g(x) = \\cosh(\\ln x)\"))\n",
    "\n",
    "# Mostrar derivada simplificada\n",
    "display(Math(r\"\\boxed{g'(x) = \" + latex(g_prime_simplified) + r\"}\"))\n"
   ]
  },
  {
   "cell_type": "markdown",
   "id": "eacabab3-714a-48a5-bd20-19fb093d45b6",
   "metadata": {},
   "source": [
    "\\begin{align*}\n",
    "\\Huge 4) \\quad h(x) = \\ln(\\cosh x)\n",
    "\\end{align*}"
   ]
  },
  {
   "cell_type": "code",
   "execution_count": 187,
   "id": "08a401f8-ac66-4946-9d35-d4e6dfe453e1",
   "metadata": {},
   "outputs": [
    {
     "data": {
      "text/latex": [
       "$\\displaystyle h(x) = \\ln(\\cosh x)$"
      ],
      "text/plain": [
       "<IPython.core.display.Math object>"
      ]
     },
     "metadata": {},
     "output_type": "display_data"
    },
    {
     "data": {
      "text/latex": [
       "$\\displaystyle \\boxed{h'(x) = \\tanh{\\left(x \\right)}}$"
      ],
      "text/plain": [
       "<IPython.core.display.Math object>"
      ]
     },
     "metadata": {},
     "output_type": "display_data"
    }
   ],
   "source": [
    "from sympy import symbols, cosh, log, diff, simplify, latex\n",
    "from IPython.display import display, Math\n",
    "\n",
    "# Definir variable\n",
    "x = symbols('x')\n",
    "\n",
    "# Definir función\n",
    "h = log(cosh(x))\n",
    "\n",
    "# Derivar\n",
    "h_prime = diff(h, x)\n",
    "\n",
    "# Simplificar\n",
    "h_prime_simplified = simplify(h_prime)\n",
    "\n",
    "# Mostrar función original\n",
    "display(Math(r\"h(x) = \\ln(\\cosh x)\"))\n",
    "\n",
    "# Mostrar derivada simplificada\n",
    "display(Math(r\"\\boxed{h'(x) = \" + latex(h_prime_simplified) + r\"}\"))\n"
   ]
  },
  {
   "cell_type": "markdown",
   "id": "325f66a3-47ee-46bc-8f7d-2dc7f3132492",
   "metadata": {},
   "source": [
    "\\begin{align*}\n",
    "\\Huge 5) \\quad y = x \\, \\coth(1 + x^2)\n",
    "\\end{align*}\n"
   ]
  },
  {
   "cell_type": "code",
   "execution_count": 198,
   "id": "ddb12169-219d-4885-b567-ce8a27619725",
   "metadata": {},
   "outputs": [
    {
     "data": {
      "text/latex": [
       "$\\displaystyle y = x \\cdot \\coth(1 + x^2)$"
      ],
      "text/plain": [
       "<IPython.core.display.Math object>"
      ]
     },
     "metadata": {},
     "output_type": "display_data"
    },
    {
     "data": {
      "text/latex": [
       "$\\displaystyle \\boxed{y'(x) = - \\frac{2 x^{2} - \\frac{\\sinh{\\left(2 x^{2} + 2 \\right)}}{2}}{\\sinh^{2}{\\left(x^{2} + 1 \\right)}}}$"
      ],
      "text/plain": [
       "<IPython.core.display.Math object>"
      ]
     },
     "metadata": {},
     "output_type": "display_data"
    },
    {
     "data": {
      "text/latex": [
       "$\\displaystyle \\text{Esto es equivalente a: }$"
      ],
      "text/plain": [
       "<IPython.core.display.Math object>"
      ]
     },
     "metadata": {},
     "output_type": "display_data"
    },
    {
     "data": {
      "text/latex": [
       "$\\displaystyle -2x^2 \\cdot csch^2(1 + x^2) + \\coth(1 + x^2)$"
      ],
      "text/plain": [
       "<IPython.core.display.Math object>"
      ]
     },
     "metadata": {},
     "output_type": "display_data"
    }
   ],
   "source": [
    "from sympy import symbols, coth, diff, simplify, latex\n",
    "from IPython.display import display, Math\n",
    "\n",
    "# Definir variable\n",
    "x = symbols('x')\n",
    "\n",
    "# Definir función\n",
    "y = x * coth(1 + x**2)\n",
    "\n",
    "# Derivar\n",
    "y_prime = diff(y, x)\n",
    "\n",
    "# Simplificar\n",
    "y_prime_simplified = simplify(y_prime)\n",
    "\n",
    "# Mostrar función original\n",
    "display(Math(r\"y = x \\cdot \\coth(1 + x^2)\"))\n",
    "\n",
    "# Mostrar derivada simplificada\n",
    "display(Math(r\"\\boxed{y'(x) = \" + latex(y_prime_simplified) + r\"}\"))\n",
    "# Mostrar equivalencia\n",
    "display(Math(r\"\\text{Esto es equivalente a: }\"))\n",
    "display(Math(r\"-2x^2 \\cdot csch^2(1 + x^2) + \\coth(1 + x^2)\"))"
   ]
  },
  {
   "cell_type": "markdown",
   "id": "18129c31-a432-4364-bd02-6401de89792c",
   "metadata": {},
   "source": [
    "\\begin{align*}\n",
    "\\Huge 6) \\quad y = e^{\\cosh 3x}\n",
    "\\end{align*}"
   ]
  },
  {
   "cell_type": "code",
   "execution_count": 200,
   "id": "f376c069-b7ce-40d8-bffd-dcbd5795f0cd",
   "metadata": {},
   "outputs": [
    {
     "data": {
      "text/latex": [
       "$\\displaystyle y = e^{\\cosh(3x)}$"
      ],
      "text/plain": [
       "<IPython.core.display.Math object>"
      ]
     },
     "metadata": {},
     "output_type": "display_data"
    },
    {
     "data": {
      "text/latex": [
       "$\\displaystyle \\boxed{y'(x) = 3 e^{\\cosh{\\left(3 x \\right)}} \\sinh{\\left(3 x \\right)}}$"
      ],
      "text/plain": [
       "<IPython.core.display.Math object>"
      ]
     },
     "metadata": {},
     "output_type": "display_data"
    }
   ],
   "source": [
    "from sympy import symbols, cosh, exp, diff, simplify, latex\n",
    "from IPython.display import display, Math\n",
    "\n",
    "# Definir variable\n",
    "x = symbols('x')\n",
    "\n",
    "# Definir función\n",
    "y = exp(cosh(3 * x))\n",
    "\n",
    "# Derivar\n",
    "y_prime = diff(y, x)\n",
    "\n",
    "# Simplificar\n",
    "y_prime_simplified = simplify(y_prime)\n",
    "\n",
    "# Mostrar función original\n",
    "display(Math(r\"y = e^{\\cosh(3x)}\"))\n",
    "\n",
    "# Mostrar derivada simplificada\n",
    "display(Math(r\"\\boxed{y'(x) = \" + latex(y_prime_simplified) + r\"}\"))\n"
   ]
  },
  {
   "cell_type": "markdown",
   "id": "e6ab8ec5-df0f-4312-96d4-76e9e1e33501",
   "metadata": {},
   "source": [
    "\\begin{align*}\n",
    "\\Huge 7) \\quad f(t) = csch t(1 - \\ln csch t)\n",
    "\\end{align*}"
   ]
  },
  {
   "cell_type": "code",
   "execution_count": 204,
   "id": "037df5b7-e2d4-4893-9dc7-e006737063dd",
   "metadata": {},
   "outputs": [
    {
     "data": {
      "text/latex": [
       "$\\displaystyle f(t) = \\text{csch}(t) \\left( 1 - \\ln(\\text{csch}(t)) \\right)$"
      ],
      "text/plain": [
       "<IPython.core.display.Math object>"
      ]
     },
     "metadata": {},
     "output_type": "display_data"
    },
    {
     "data": {
      "text/latex": [
       "$\\displaystyle \\boxed{f'(t) = \\log{\\left(\\operatorname{csch}{\\left(t \\right)} \\right)} \\coth{\\left(t \\right)} \\operatorname{csch}{\\left(t \\right)}}$"
      ],
      "text/plain": [
       "<IPython.core.display.Math object>"
      ]
     },
     "metadata": {},
     "output_type": "display_data"
    }
   ],
   "source": [
    "from sympy import symbols, csch, log, diff, simplify, latex\n",
    "from IPython.display import display, Math\n",
    "\n",
    "# Definir variable\n",
    "t = symbols('t')\n",
    "\n",
    "# Definir función\n",
    "f = csch(t) * (1 - log(csch(t)))\n",
    "\n",
    "# Derivar\n",
    "f_prime = diff(f, t)\n",
    "\n",
    "# Simplificar\n",
    "f_prime_simplified = simplify(f_prime)\n",
    "\n",
    "# Mostrar función original\n",
    "display(Math(r\"f(t) = \\text{csch}(t) \\left( 1 - \\ln(\\text{csch}(t)) \\right)\"))\n",
    "\n",
    "# Mostrar derivada simplificada\n",
    "display(Math(r\"\\boxed{f'(t) = \" + latex(f_prime_simplified) + r\"}\"))\n"
   ]
  },
  {
   "cell_type": "markdown",
   "id": "71ba04ef-9dfc-40ec-be57-13a512c36228",
   "metadata": {},
   "source": [
    "\\begin{align*}\n",
    "\\Huge 8) \\quad f(t) = \\text{sech}^2(e^t)\n",
    "\\end{align*}"
   ]
  },
  {
   "cell_type": "code",
   "execution_count": 207,
   "id": "37e2f650-ec8c-4d2e-a4c1-d3e92b1f8415",
   "metadata": {},
   "outputs": [
    {
     "data": {
      "text/latex": [
       "$\\displaystyle f(t) = \\text{sech}^2(e^t)$"
      ],
      "text/plain": [
       "<IPython.core.display.Math object>"
      ]
     },
     "metadata": {},
     "output_type": "display_data"
    },
    {
     "data": {
      "text/latex": [
       "$\\displaystyle \\boxed{f'(t) = - 2 e^{t} \\tanh{\\left(e^{t} \\right)} \\operatorname{sech}^{2}{\\left(e^{t} \\right)}}$"
      ],
      "text/plain": [
       "<IPython.core.display.Math object>"
      ]
     },
     "metadata": {},
     "output_type": "display_data"
    }
   ],
   "source": [
    "from sympy import symbols, sech, exp, diff, simplify, latex\n",
    "from IPython.display import display, Math\n",
    "\n",
    "# Definir variable\n",
    "t = symbols('t')\n",
    "\n",
    "# Definir función\n",
    "f = sech(exp(t))**2\n",
    "\n",
    "# Derivar\n",
    "f_prime = diff(f, t)\n",
    "\n",
    "# Simplificar\n",
    "f_prime_simplified = simplify(f_prime)\n",
    "\n",
    "# Mostrar función original\n",
    "display(Math(r\"f(t) = \\text{sech}^2(e^t)\"))\n",
    "\n",
    "# Mostrar derivada simplificada\n",
    "display(Math(r\"\\boxed{f'(t) = \" + latex(f_prime_simplified) + r\"}\"))\n"
   ]
  },
  {
   "cell_type": "markdown",
   "id": "169c0d3a-579c-4bc3-a370-f933289bb88d",
   "metadata": {},
   "source": [
    "\\begin{align*}\n",
    "\\Huge 9) \\quad y = \\sinh(\\cosh x)\n",
    "\\end{align*}"
   ]
  },
  {
   "cell_type": "code",
   "execution_count": 210,
   "id": "40a3d7db-91e7-42ee-9b74-2fc86b6df677",
   "metadata": {},
   "outputs": [
    {
     "data": {
      "text/latex": [
       "$\\displaystyle y = \\sinh(\\cosh(x))$"
      ],
      "text/plain": [
       "<IPython.core.display.Math object>"
      ]
     },
     "metadata": {},
     "output_type": "display_data"
    },
    {
     "data": {
      "text/latex": [
       "$\\displaystyle \\boxed{y'(x) = \\sinh{\\left(x \\right)} \\cosh{\\left(\\cosh{\\left(x \\right)} \\right)}}$"
      ],
      "text/plain": [
       "<IPython.core.display.Math object>"
      ]
     },
     "metadata": {},
     "output_type": "display_data"
    }
   ],
   "source": [
    "from sympy import symbols, sinh, cosh, diff, simplify, latex\n",
    "from IPython.display import display, Math\n",
    "\n",
    "# Definir variable\n",
    "x = symbols('x')\n",
    "\n",
    "# Definir función\n",
    "y = sinh(cosh(x))\n",
    "\n",
    "# Derivar\n",
    "y_prime = diff(y, x)\n",
    "\n",
    "# Simplificar\n",
    "y_prime_simplified = simplify(y_prime)\n",
    "\n",
    "# Mostrar función original\n",
    "display(Math(r\"y = \\sinh(\\cosh(x))\"))\n",
    "\n",
    "# Mostrar derivada simplificada\n",
    "display(Math(r\"\\boxed{y'(x) = \" + latex(y_prime_simplified) + r\"}\"))\n"
   ]
  },
  {
   "cell_type": "markdown",
   "id": "2b0f1a14-290e-4e04-bed7-e239f0e5a09d",
   "metadata": {},
   "source": [
    "\\begin{align*}\n",
    "\\Huge 10) \\quad G(x) = \\frac{1 - \\cosh x}{1 + \\cosh x}\n",
    "\\end{align*}"
   ]
  },
  {
   "cell_type": "code",
   "execution_count": 213,
   "id": "bc0d199e-9278-4a82-b42f-981cd05ae173",
   "metadata": {},
   "outputs": [
    {
     "data": {
      "text/latex": [
       "$\\displaystyle G(x) = \\frac{1 - \\cosh(x)}{1 + \\cosh(x)}$"
      ],
      "text/plain": [
       "<IPython.core.display.Math object>"
      ]
     },
     "metadata": {},
     "output_type": "display_data"
    },
    {
     "data": {
      "text/latex": [
       "$\\displaystyle \\boxed{G'(x) = - \\frac{2 \\sinh{\\left(x \\right)}}{\\left(\\cosh{\\left(x \\right)} + 1\\right)^{2}}}$"
      ],
      "text/plain": [
       "<IPython.core.display.Math object>"
      ]
     },
     "metadata": {},
     "output_type": "display_data"
    }
   ],
   "source": [
    "from sympy import symbols, cosh, diff, simplify, latex\n",
    "from IPython.display import display, Math\n",
    "\n",
    "# Definir variable\n",
    "x = symbols('x')\n",
    "\n",
    "# Definir funciones f(x) y g(x)\n",
    "f = 1 - cosh(x)\n",
    "g = 1 + cosh(x)\n",
    "\n",
    "# Derivar f(x) y g(x)\n",
    "f_prime = diff(f, x)\n",
    "g_prime = diff(g, x)\n",
    "\n",
    "# Aplicar la regla del cociente\n",
    "G_prime = (f_prime * g - f * g_prime) / g**2\n",
    "\n",
    "# Simplificar\n",
    "G_prime_simplified = simplify(G_prime)\n",
    "\n",
    "# Mostrar función original\n",
    "display(Math(r\"G(x) = \\frac{1 - \\cosh(x)}{1 + \\cosh(x)}\"))\n",
    "\n",
    "# Mostrar derivada simplificada\n",
    "display(Math(r\"\\boxed{G'(x) = \" + latex(G_prime_simplified) + r\"}\"))\n"
   ]
  },
  {
   "cell_type": "markdown",
   "id": "6c362aa7-1ebe-4508-abec-f8fe004a04cd",
   "metadata": {},
   "source": [
    "<div style=\"background-color: lightblue; padding: 10px; border-radius: 5px;\">\n",
    "    \n",
    "#### 3) Busque una aplicación de estas funciones y enúnciela\n",
    "\n",
    "</div>"
   ]
  },
  {
   "cell_type": "markdown",
   "id": "902ce200-8311-4b7b-9bbc-cd5a1191fa9f",
   "metadata": {},
   "source": [
    "# **APLICACIONES DE LAS DERIVADAS EN CIENCIAS DE DATOS**\n",
    "\n",
    "Las derivadas tienen **diversas aplicaciones** clave en **Ciencias de Datos**, y son fundamentales para optimizar y ajustar modelos predictivos. A continuación, se detallan algunos usos importantes:\n",
    "\n",
    "## **1. OPTIMIZACIÓN Y MODELAJE PREDICTIVO**\n",
    "   - Las derivadas se usan para **optimizar funciones de costo** en modelos de predicción. \n",
    "   - A través del **descenso de gradiente**, las derivadas permiten ajustar los parámetros del modelo para minimizar el error.\n",
    "\n",
    "## **2. MODELOS DE REGRESIÓN**\n",
    "   - En modelos como la **regresión lineal**, las derivadas ayudan a **ajustar los parámetros** para mejorar la predicción.\n",
    "   - La derivada de la **función de pérdida** permite actualizar los **pesos del modelo** y reducir el error.\n",
    "\n",
    "## **3. ANÁLISIS DE SENSIBILIDAD**\n",
    "   - Las derivadas permiten medir cómo las **variaciones en las entradas** afectan las salidas de un modelo.\n",
    "   - Este análisis es clave para **entender el impacto de las variables** en las predicciones y tomar decisiones informadas.\n",
    "\n",
    "## **4. FUNCIONES DE ACTIVACIÓN EN REDES NEURONALES**\n",
    "   - En redes neuronales, las derivadas de las funciones de activación como **tanh(x)** o **sigmoid(x)** son esenciales para el proceso de **retropropagación**.\n",
    "   - Al calcular la derivada, se ajustan los **pesos** de las redes neuronales, mejorando su capacidad de predicción.\n",
    "\n",
    "## **5. MÉTODOS DE REGULARIZACIÓN**\n",
    "   - La **regularización** se utiliza para prevenir el **sobreajuste** (overfitting).\n",
    "   - Las derivadas de las **funciones de penalización** como L1 y L2 son claves para ajustar los parámetros del modelo y controlar su complejidad.\n",
    "\n",
    "## **6. ANÁLISIS DE SERIES TEMPORALES**\n",
    "   - En el análisis de **series temporales**, las derivadas permiten detectar **tendencias** y **tasas de cambio** en los datos.\n",
    "   - Esto es útil para predecir fluctuaciones y detectar **anomalías** en los datos, como en el análisis del **mercado financiero**.\n",
    "\n",
    "---\n",
    "\n",
    "**CONCLUSIÓN:**\n",
    "Las derivadas son fundamentales para:\n",
    "- **Optimizar modelos predictivos** y ajustar sus parámetros.\n",
    "- **Entender la sensibilidad de las predicciones** ante cambios en las variables de entrada.\n",
    "- **Mejorar el rendimiento** de los modelos de Machine Learning mediante técnicas como el descenso de gradiente.\n",
    "\n",
    "Las derivadas permiten tomar decisiones informadas sobre cómo mejorar los modelos y adaptarlos a los datos, lo cual es esencial en **Ciencias de Datos**.\n"
   ]
  },
  {
   "cell_type": "markdown",
   "id": "e399fc71-64f1-4c6e-a98b-f08784dbe1bb",
   "metadata": {},
   "source": [
    "<div style=\"background-color: lightblue; padding: 10px; border-radius: 5px;\">\n",
    "    \n",
    "#### 4) Liste los conceptos que se mencionan en el video. Luego construya un mapa conceptual ouna red conceptual con los mismos en el software de su preferencia (se sugiere herramientas libres como Lucidchart o Mindomo).\n",
    "</div>"
   ]
  },
  {
   "cell_type": "markdown",
   "id": "702cd1a4-3a34-4f6e-9645-f548c2fea8ce",
   "metadata": {},
   "source": [
    "### 🧠 Mapa Conceptual: Derivadas de funciones hiperbólicas\n",
    "\n",
    "[Haz clic aquí para ver el mapa en Mindomo](https://www.mindomo.com/mindmap/da7f6666323f4edc92e02bb3aa205956)\n"
   ]
  },
  {
   "cell_type": "code",
   "execution_count": null,
   "id": "dad30bcc-6cb6-4b48-8027-6502f7913ebe",
   "metadata": {},
   "outputs": [],
   "source": []
  }
 ],
 "metadata": {
  "kernelspec": {
   "display_name": "Python [conda env:base] *",
   "language": "python",
   "name": "conda-base-py"
  },
  "language_info": {
   "codemirror_mode": {
    "name": "ipython",
    "version": 3
   },
   "file_extension": ".py",
   "mimetype": "text/x-python",
   "name": "python",
   "nbconvert_exporter": "python",
   "pygments_lexer": "ipython3",
   "version": "3.12.7"
  }
 },
 "nbformat": 4,
 "nbformat_minor": 5
}
