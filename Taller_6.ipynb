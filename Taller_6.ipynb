{
 "cells": [
  {
   "cell_type": "markdown",
   "id": "15891535-c46b-41cd-a6ed-194d8d411209",
   "metadata": {},
   "source": [
    "# ACTIVIDAD 6: Taller “Razones de cambio relacionadas”"
   ]
  },
  {
   "cell_type": "markdown",
   "id": "eb346818-6098-4f5d-8e01-7d5356c81240",
   "metadata": {},
   "source": [
    "*Ejercicios compilados por Weimar Muñoz (2023), tomados de:*  \n",
    "*“Precálculo” de Stewart, Redlin, & Watson, 2016*"
   ]
  },
  {
   "cell_type": "markdown",
   "id": "65b2038c-aaf5-4a65-a1b1-9bc62954352a",
   "metadata": {},
   "source": [
    "## Recursos que usaremos"
   ]
  },
  {
   "cell_type": "markdown",
   "id": "d54ed745-5cc3-48aa-8a57-793f0e7a8746",
   "metadata": {},
   "source": [
    "\n",
    "###  **Librerías y módulos importados**\n",
    "\n",
    "- `import sympy as sp`: Librería de álgebra simbólica.\n",
    "- `from sympy.abc import x`: Importa la variable `x` como símbolo.\n",
    "- `from sympy import symbols, diff, solve, simplify, together, denom, latex, init_printing`\n",
    "- `from IPython.display import display, Math`: Para mostrar resultados con estilo en Jupyter usando LaTeX.\n",
    "\n",
    "---\n",
    "\n",
    "### **Funciones matemáticas y simbólicas**\n",
    "\n",
    "| Recurso             | Descripción |\n",
    "|---------------------|-------------|\n",
    "| `symbols`           | Define variables simbólicas como `x`, `y`, etc. |\n",
    "| `diff`              | Deriva funciones matemáticas. |\n",
    "| `solve`             | Resuelve ecuaciones algebraicas. |\n",
    "| `simplify`          | Simplifica expresiones simbólicas. |\n",
    "| `together`          | Combina fracciones en una sola expresión. |\n",
    "| `denom`             | Extrae el denominador de una fracción. |\n",
    "| `latex`             | Convierte expresiones simbólicas a LaTeX. |\n",
    "| `evalf()`           | Evalúa numéricamente una expresión. |\n",
    "\n",
    "---\n",
    "\n",
    "### **Visualización y presentación (Jupyter)**\n",
    "\n",
    "| Recurso             | Descripción |\n",
    "|---------------------|-------------|\n",
    "| `display`           | Muestra expresiones en celdas Jupyter. |\n",
    "| `Math`              | Renderiza cadenas como fórmulas LaTeX. |\n",
    "| `init_printing()`   | Activa impresión simbólica en Jupyter. |\n",
    "\n",
    "---\n"
   ]
  },
  {
   "cell_type": "markdown",
   "id": "c89a7ad2-3aee-4384-919e-d8a53f68a3b7",
   "metadata": {},
   "source": [
    "<div style=\"background-color: lightblue; padding: 10px; border-radius: 5px;\">\n",
    "    \n",
    "#### 1) Escribe los pasos para determinar la razón de cambio.\n",
    "\n",
    "\n",
    "</div>"
   ]
  },
  {
   "cell_type": "markdown",
   "id": "4518ec57-37bc-4f84-adf7-6dadbc797169",
   "metadata": {},
   "source": [
    "# **RAZONES DE CAMBIO RELACIONADAS**\n",
    "\n",
    "Las razones de cambio relacionadas se utilizan cuando dos o más variables cambian con el tiempo y están conectadas entre sí por una ecuación. Estas derivadas permiten encontrar cómo cambia una variable cuando cambia otra.\n",
    "\n",
    "---\n",
    "\n",
    "## **1. LEER E IDENTIFICAR VARIABLES**\n",
    "\n",
    "- Leer cuidadosamente el enunciado del problema.\n",
    "- Identificar qué se está pidiendo (por ejemplo, cómo cambia una cantidad con respecto al tiempo).\n",
    "- Identificar los datos conocidos y sus unidades.\n",
    "\n",
    "---\n",
    "\n",
    "## **2. DIBUJAR UN DIAGRAMA (SI APLICA)**\n",
    "\n",
    "- Hacer un dibujo simple que represente la situación.\n",
    "- Ayuda a visualizar las relaciones entre las variables.\n",
    "\n",
    "---\n",
    "\n",
    "## **3. DEFINIR LAS VARIABLES**\n",
    "\n",
    "- Asignar letras o nombres a las cantidades que cambian con el tiempo.\n",
    "- Especificar qué representa cada variable y aclarar que dependen del tiempo.\n",
    "\n",
    "---\n",
    "\n",
    "## **4. ESTABLECER LA ECUACIÓN RELACIONADA**\n",
    "\n",
    "- Escribir una ecuación que relacione las variables, basada en una fórmula geométrica, física o del contexto del problema.\n",
    "\n",
    "---\n",
    "\n",
    "## **5. DERIVAR CON RESPECTO AL TIEMPO**\n",
    "\n",
    "- Derivar ambos lados de la ecuación con respecto al tiempo.\n",
    "- Usar derivación implícita cuando sea necesario.\n",
    "- Tener en cuenta que todas las variables cambian con el tiempo.\n",
    "\n",
    "---\n",
    "\n",
    "## **6. SUSTITUIR VALORES CONOCIDOS**\n",
    "\n",
    "- Reemplazar las variables y sus derivadas con los valores que se conocen en el problema.\n",
    "\n",
    "---\n",
    "\n",
    "## **7. RESOLVER LA DERIVADA PEDIDA**\n",
    "\n",
    "- Despejar la tasa de cambio desconocida.\n",
    "- Realizar los cálculos y dar la respuesta con unidades apropiadas.\n",
    "\n",
    "---\n"
   ]
  },
  {
   "cell_type": "markdown",
   "id": "ca732b8d-079e-4666-ab1a-c995d7be749e",
   "metadata": {},
   "source": [
    "<div style=\"background-color: lightblue; padding: 10px; border-radius: 5px;\">\n",
    "    \n",
    "#### 2) Explica el ejemplo 1 de las páginas 224 y 225.\n",
    "\n",
    "\n",
    "</div>"
   ]
  },
  {
   "cell_type": "markdown",
   "id": "7f32de05-8d61-459f-b0b6-3c2767639e0e",
   "metadata": {},
   "source": [
    "![Gráfica](imagen14.png)"
   ]
  },
  {
   "cell_type": "markdown",
   "id": "98731d25-6e40-4fb3-ada7-a1ae81ae2a32",
   "metadata": {},
   "source": [
    "![Gráfica](imagen15.png)"
   ]
  },
  {
   "cell_type": "markdown",
   "id": "1d9bbb99-423c-4510-9536-d3938374b878",
   "metadata": {},
   "source": [
    "![Gráfica](imagen16.png)"
   ]
  },
  {
   "cell_type": "markdown",
   "id": "a66c13c8-6ce2-4cc5-80b5-64bcc73e0106",
   "metadata": {},
   "source": [
    "<div style=\"text-align: center; font-size: 20px;\">\n",
    "  <strong>a) Encuentre la velocidad en el instante \\( t \\).</strong>\n",
    "</div>"
   ]
  },
  {
   "cell_type": "code",
   "execution_count": 50,
   "id": "c5f1e5d3-0ac0-4387-bcb5-4dedc0c29862",
   "metadata": {},
   "outputs": [
    {
     "data": {
      "text/latex": [
       "$\\displaystyle \\text{La función de posición es: } s(t) = t^3 - 6t^2 + 9t$"
      ],
      "text/plain": [
       "<IPython.core.display.Math object>"
      ]
     },
     "metadata": {},
     "output_type": "display_data"
    },
    {
     "data": {
      "text/latex": [
       "$\\displaystyle \\text{La velocidad es la derivada de la posición:}$"
      ],
      "text/plain": [
       "<IPython.core.display.Math object>"
      ]
     },
     "metadata": {},
     "output_type": "display_data"
    },
    {
     "data": {
      "text/latex": [
       "$\\displaystyle \\boxed{v(t) = 3 t^{2} - 12 t + 9}$"
      ],
      "text/plain": [
       "<IPython.core.display.Math object>"
      ]
     },
     "metadata": {},
     "output_type": "display_data"
    }
   ],
   "source": [
    "import sympy as sp\n",
    "from sympy import latex\n",
    "from IPython.display import display, Math\n",
    "\n",
    "# Inicializar impresión en LaTeX\n",
    "sp.init_printing()\n",
    "\n",
    "# Definir la variable\n",
    "t = sp.Symbol('t')\n",
    "\n",
    "# Definir la función de posición s(t)\n",
    "s = t**3 - 6*t**2 + 9*t\n",
    "\n",
    "# Calcular la derivada de s(t), es decir, la velocidad v(t)\n",
    "v = sp.diff(s, t)\n",
    "\n",
    "# Mostrar resultados\n",
    "display(Math(r\"\\text{La función de posición es: } s(t) = t^3 - 6t^2 + 9t\"))\n",
    "display(Math(r\"\\text{La velocidad es la derivada de la posición:}\"))\n",
    "display(Math(r\"\\boxed{v(t) = \" + latex(v) + r\"}\"))\n"
   ]
  },
  {
   "cell_type": "markdown",
   "id": "ecf42892-8810-4fd5-9c0d-e6d8b96aec07",
   "metadata": {},
   "source": [
    "<div style=\"text-align: center; font-size: 20px;\">\n",
    "  <strong>b) ¿Cuál es la velocidad después de 2 y 4 segundos?\n",
    "</div>"
   ]
  },
  {
   "cell_type": "code",
   "execution_count": 56,
   "id": "2109841d-3766-4348-885a-935984cceca3",
   "metadata": {},
   "outputs": [
    {
     "data": {
      "text/latex": [
       "$\\displaystyle v(t) = 3t^2 - 12t + 9$"
      ],
      "text/plain": [
       "<IPython.core.display.Math object>"
      ]
     },
     "metadata": {},
     "output_type": "display_data"
    },
    {
     "data": {
      "text/latex": [
       "$\\displaystyle \\text{Velocidad en } t = 2: \\quad v(2) = -3\\, \\text{m/s}$"
      ],
      "text/plain": [
       "<IPython.core.display.Math object>"
      ]
     },
     "metadata": {},
     "output_type": "display_data"
    },
    {
     "data": {
      "text/latex": [
       "$\\displaystyle \\text{Velocidad en } t = 4: \\quad v(4) = 9\\, \\text{m/s}$"
      ],
      "text/plain": [
       "<IPython.core.display.Math object>"
      ]
     },
     "metadata": {},
     "output_type": "display_data"
    }
   ],
   "source": [
    "import sympy as sp\n",
    "from sympy import latex\n",
    "from IPython.display import display, Math\n",
    "\n",
    "# Inicializar impresión\n",
    "sp.init_printing()\n",
    "\n",
    "# Definir variable\n",
    "t = sp.Symbol('t')\n",
    "\n",
    "# Función de velocidad\n",
    "v = 3*t**2 - 12*t + 9\n",
    "\n",
    "# Evaluar v(2) y v(4)\n",
    "v_2 = v.subs(t, 2)\n",
    "v_4 = v.subs(t, 4)\n",
    "\n",
    "# Mostrar resultados\n",
    "display(Math(r\"v(t) = 3t^2 - 12t + 9\"))\n",
    "\n",
    "display(Math(r\"\\text{Velocidad en } t = 2: \\quad v(2) = \" + latex(v_2) + r\"\\, \\text{m/s}\"))\n",
    "display(Math(r\"\\text{Velocidad en } t = 4: \\quad v(4) = \" + latex(v_4) + r\"\\, \\text{m/s}\"))\n"
   ]
  },
  {
   "cell_type": "markdown",
   "id": "0a60201e-82d9-4439-b039-3a867278b925",
   "metadata": {},
   "source": [
    "<div style=\"text-align: center; font-size: 20px;\">\n",
    "  <strong>c) ¿Cuándo está en reposo la partícula?\n",
    "</div>"
   ]
  },
  {
   "cell_type": "code",
   "execution_count": 60,
   "id": "cca47167-6db4-46f5-9b6f-a54c7b3388a3",
   "metadata": {},
   "outputs": [
    {
     "data": {
      "text/latex": [
       "$\\displaystyle v(t) = 3t^2 - 12t + 9$"
      ],
      "text/plain": [
       "<IPython.core.display.Math object>"
      ]
     },
     "metadata": {},
     "output_type": "display_data"
    },
    {
     "data": {
      "text/latex": [
       "$\\displaystyle \\text{Resolver: } v(t) = 0$"
      ],
      "text/plain": [
       "<IPython.core.display.Math object>"
      ]
     },
     "metadata": {},
     "output_type": "display_data"
    },
    {
     "data": {
      "text/latex": [
       "$\\displaystyle 3(t^2 - 4t + 3) = 0 \\Rightarrow 3(t - 1)(t - 3) = 0$"
      ],
      "text/plain": [
       "<IPython.core.display.Math object>"
      ]
     },
     "metadata": {},
     "output_type": "display_data"
    },
    {
     "data": {
      "text/latex": [
       "$\\displaystyle \\text{La partícula está en reposo en: } \\boxed{t = 1\\text{ s y } t = 3\\text{ s}}$"
      ],
      "text/plain": [
       "<IPython.core.display.Math object>"
      ]
     },
     "metadata": {},
     "output_type": "display_data"
    }
   ],
   "source": [
    "import sympy as sp\n",
    "from sympy import latex\n",
    "from IPython.display import display, Math\n",
    "\n",
    "# Inicializar impresión\n",
    "sp.init_printing()\n",
    "\n",
    "# Definir variable\n",
    "t = sp.Symbol('t')\n",
    "\n",
    "# Función de velocidad\n",
    "v = 3*t**2 - 12*t + 9\n",
    "\n",
    "# Resolver v(t) = 0\n",
    "reposo = sp.solve(v, t)\n",
    "\n",
    "# Mostrar resultados\n",
    "display(Math(r\"v(t) = 3t^2 - 12t + 9\"))\n",
    "display(Math(r\"\\text{Resolver: } v(t) = 0\"))\n",
    "display(Math(r\"3(t^2 - 4t + 3) = 0 \\Rightarrow 3(t - 1)(t - 3) = 0\"))\n",
    "display(Math(r\"\\text{La partícula está en reposo en: } \\boxed{t = \" + latex(reposo[0]) + r\"\\text{ s y } t = \" + latex(reposo[1]) + r\"\\text{ s}}\"))\n"
   ]
  },
  {
   "cell_type": "markdown",
   "id": "3fd57273-69b4-4f1e-93b4-1a8bbf32cd34",
   "metadata": {},
   "source": [
    "<div style=\"text-align: center; font-size: 20px;\">\n",
    "  <strong>d) ¿Cuándo se mueve la partícula hacia adelante (es decir, en dirección positiva)?\n",
    "</div>"
   ]
  },
  {
   "cell_type": "code",
   "execution_count": 66,
   "id": "6aa9a092-12f1-447f-99ce-0204224d6567",
   "metadata": {},
   "outputs": [
    {
     "data": {
      "text/latex": [
       "$\\displaystyle v(t) = 3(t - 1)(t - 3)$"
      ],
      "text/plain": [
       "<IPython.core.display.Math object>"
      ]
     },
     "metadata": {},
     "output_type": "display_data"
    },
    {
     "data": {
      "text/latex": [
       "$\\displaystyle \\text{Resolver: } v(t) > 0$"
      ],
      "text/plain": [
       "<IPython.core.display.Math object>"
      ]
     },
     "metadata": {},
     "output_type": "display_data"
    },
    {
     "data": {
      "text/latex": [
       "$\\displaystyle \\text{La partícula se mueve hacia adelante en: } \\boxed{\\left(-\\infty, 1\\right) \\cup \\left(3, \\infty\\right)}$"
      ],
      "text/plain": [
       "<IPython.core.display.Math object>"
      ]
     },
     "metadata": {},
     "output_type": "display_data"
    }
   ],
   "source": [
    "import sympy as sp\n",
    "from sympy import latex\n",
    "from IPython.display import display, Math\n",
    "\n",
    "# Inicializar impresión\n",
    "sp.init_printing()\n",
    "\n",
    "# Definir variable\n",
    "t = sp.Symbol('t', real=True)\n",
    "\n",
    "# Función de velocidad\n",
    "v = 3*t**2 - 12*t + 9\n",
    "\n",
    "# Factorizar v(t)\n",
    "v_fact = sp.factor(v)\n",
    "\n",
    "# Determinar los intervalos donde v(t) > 0\n",
    "intervals_positive = sp.solve_univariate_inequality(v > 0, t, relational=False)\n",
    "\n",
    "# Mostrar resultados\n",
    "display(Math(r\"v(t) = 3(t - 1)(t - 3)\"))\n",
    "display(Math(r\"\\text{Resolver: } v(t) > 0\"))\n",
    "display(Math(r\"\\text{La partícula se mueve hacia adelante en: } \\boxed{\" + latex(intervals_positive) + r\"}\"))\n"
   ]
  },
  {
   "cell_type": "markdown",
   "id": "189b069a-4f90-40d3-8eab-2c668d6bc9a4",
   "metadata": {},
   "source": [
    "<div style=\"text-align: center; font-size: 20px;\">\n",
    "  <strong>e) Dibuje un diagrama que represente el movimiento de la partícula.\n",
    "</div>"
   ]
  },
  {
   "cell_type": "markdown",
   "id": "131f481e-d021-4dce-8303-85ca0d40f62a",
   "metadata": {},
   "source": [
    "![Gráfica](imagen17.png)"
   ]
  },
  {
   "cell_type": "markdown",
   "id": "75cd9608-fdc7-4fba-bbbc-a099f9ae3d8e",
   "metadata": {},
   "source": [
    "<div style=\"text-align: center; font-size: 20px;\">\n",
    "  <strong>f) Encuentre la distancia total recorrida por la partícula durante los primeros cinco segundos.\n",
    "</div>"
   ]
  },
  {
   "cell_type": "code",
   "execution_count": 78,
   "id": "43064396-3c07-4702-ae3c-a04c2d4d6508",
   "metadata": {},
   "outputs": [
    {
     "data": {
      "text/latex": [
       "$\\displaystyle \\text{Distancia de } t = 0 \\text{ a } t = 1: \\quad |f(1) - f(0)| = |4 - 0| = 4$"
      ],
      "text/plain": [
       "<IPython.core.display.Math object>"
      ]
     },
     "metadata": {},
     "output_type": "display_data"
    },
    {
     "data": {
      "text/latex": [
       "$\\displaystyle \\text{Distancia de } t = 1 \\text{ a } t = 3: \\quad |f(3) - f(1)| = |0 - 4| = 4$"
      ],
      "text/plain": [
       "<IPython.core.display.Math object>"
      ]
     },
     "metadata": {},
     "output_type": "display_data"
    },
    {
     "data": {
      "text/latex": [
       "$\\displaystyle \\text{Distancia de } t = 3 \\text{ a } t = 5: \\quad |f(5) - f(3)| = |20 - 0| = 20$"
      ],
      "text/plain": [
       "<IPython.core.display.Math object>"
      ]
     },
     "metadata": {},
     "output_type": "display_data"
    },
    {
     "data": {
      "text/latex": [
       "$\\displaystyle \\text{Distancia total recorrida: } \\boxed{28\\, \\text{m}}$"
      ],
      "text/plain": [
       "<IPython.core.display.Math object>"
      ]
     },
     "metadata": {},
     "output_type": "display_data"
    }
   ],
   "source": [
    "import sympy as sp\n",
    "from sympy import latex\n",
    "from IPython.display import display, Math\n",
    "\n",
    "# Inicializar impresión\n",
    "sp.init_printing()\n",
    "\n",
    "# Definir variable\n",
    "t = sp.Symbol('t')\n",
    "\n",
    "# Definir función de posición\n",
    "f = t**3 - 6*t**2 + 9*t\n",
    "\n",
    "# Evaluar f en los tiempos relevantes\n",
    "f0 = f.subs(t, 0)\n",
    "f1 = f.subs(t, 1)\n",
    "f3 = f.subs(t, 3)\n",
    "f5 = f.subs(t, 5)\n",
    "\n",
    "# Calcular distancias individuales\n",
    "d1 = abs(f1 - f0)\n",
    "d2 = abs(f3 - f1)\n",
    "d3 = abs(f5 - f3)\n",
    "\n",
    "# Sumar distancias\n",
    "total_distance = d1 + d2 + d3\n",
    "\n",
    "# Mostrar resultados\n",
    "display(Math(r\"\\text{Distancia de } t = 0 \\text{ a } t = 1: \\quad |f(1) - f(0)| = |\" + latex(f1) + \" - \" + latex(f0) + \"| = \" + latex(d1)))\n",
    "display(Math(r\"\\text{Distancia de } t = 1 \\text{ a } t = 3: \\quad |f(3) - f(1)| = |\" + latex(f3) + \" - \" + latex(f1) + \"| = \" + latex(d2)))\n",
    "display(Math(r\"\\text{Distancia de } t = 3 \\text{ a } t = 5: \\quad |f(5) - f(3)| = |\" + latex(f5) + \" - \" + latex(f3) + \"| = \" + latex(d3)))\n",
    "display(Math(r\"\\text{Distancia total recorrida: } \\boxed{\" + latex(total_distance) + r\"\\, \\text{m}}\"))\n"
   ]
  },
  {
   "cell_type": "markdown",
   "id": "e4ca65e6-3cf0-4238-ae00-a1929b9b4751",
   "metadata": {},
   "source": [
    "<div style=\"text-align: center; font-size: 20px;\">\n",
    "  <strong>g) Halle la aceleración en el tiempo $t$ y después de 4 segundos.\n",
    "</div>"
   ]
  },
  {
   "cell_type": "code",
   "execution_count": 84,
   "id": "0991c7be-7874-41c5-b7cf-887015355a98",
   "metadata": {},
   "outputs": [
    {
     "data": {
      "text/latex": [
       "$\\displaystyle \\text{Función de aceleración: } a(t) = \\frac{d^2s}{dt^2} = \\boxed{6 t - 12}$"
      ],
      "text/plain": [
       "<IPython.core.display.Math object>"
      ]
     },
     "metadata": {},
     "output_type": "display_data"
    },
    {
     "data": {
      "text/latex": [
       "$\\displaystyle \\text{Aceleración cuando } t = 4: \\quad a(4) = \\boxed{12\\, \\text{m/s}^2}$"
      ],
      "text/plain": [
       "<IPython.core.display.Math object>"
      ]
     },
     "metadata": {},
     "output_type": "display_data"
    }
   ],
   "source": [
    "import sympy as sp\n",
    "from sympy import latex\n",
    "from IPython.display import display, Math\n",
    "\n",
    "# Inicializar impresión\n",
    "sp.init_printing()\n",
    "\n",
    "# Definir la variable\n",
    "t = sp.Symbol('t')\n",
    "\n",
    "# Definir función de posición\n",
    "s = t**3 - 6*t**2 + 9*t\n",
    "\n",
    "# Derivar para obtener velocidad\n",
    "v = sp.diff(s, t)\n",
    "\n",
    "# Derivar velocidad para obtener aceleración\n",
    "a = sp.diff(v, t)\n",
    "\n",
    "# Evaluar aceleración en t = 4\n",
    "a_4 = a.subs(t, 4)\n",
    "\n",
    "# Mostrar resultados\n",
    "display(Math(r\"\\text{Función de aceleración: } a(t) = \\frac{d^2s}{dt^2} = \\boxed{\" + latex(a) + r\"}\"))\n",
    "display(Math(r\"\\text{Aceleración cuando } t = 4: \\quad a(4) = \\boxed{\" + latex(a_4) + r\"\\, \\text{m/s}^2}\"))\n"
   ]
  },
  {
   "cell_type": "markdown",
   "id": "392e9815-5828-4c6b-bc7e-fbc7c7061d0d",
   "metadata": {},
   "source": [
    "<div style=\"text-align: center; font-size: 20px;\">\n",
    "  <strong>h) Grafique las funciones posición, velocidad y aceleración para \\(0 \\leqslant t \\leqslant 5\\).\n",
    "</div>"
   ]
  },
  {
   "cell_type": "code",
   "execution_count": 91,
   "id": "035bdb6f-66c0-4460-b8ed-692b313811bc",
   "metadata": {},
   "outputs": [
    {
     "data": {
      "image/png": "[encoded data removed]",
      "text/plain": [
       "<Figure size 1200x800 with 1 Axes>"
      ]
     },
     "metadata": {},
     "output_type": "display_data"
    }
   ],
   "source": [
    "import sympy as sp\n",
    "import matplotlib.pyplot as plt\n",
    "import numpy as np\n",
    "\n",
    "# Definir variable simbólica\n",
    "t = sp.Symbol('t')\n",
    "\n",
    "# Funciones simbólicas\n",
    "s = t**3 - 6*t**2 + 9*t            # posición\n",
    "v = sp.diff(s, t)                 # velocidad\n",
    "a = sp.diff(v, t)                 # aceleración\n",
    "\n",
    "# Convertir a funciones numéricas para graficar\n",
    "s_func = sp.lambdify(t, s, 'numpy')\n",
    "v_func = sp.lambdify(t, v, 'numpy')\n",
    "a_func = sp.lambdify(t, a, 'numpy')\n",
    "\n",
    "# Crear valores de t en el intervalo [0, 5]\n",
    "t_vals = np.linspace(0, 5, 400)\n",
    "\n",
    "# Evaluar las funciones\n",
    "s_vals = s_func(t_vals)\n",
    "v_vals = v_func(t_vals)\n",
    "a_vals = a_func(t_vals)\n",
    "\n",
    "# Graficar las tres funciones\n",
    "plt.figure(figsize=(12, 8))\n",
    "\n",
    "plt.plot(t_vals, s_vals, label='Posición s(t)', color='blue')\n",
    "plt.plot(t_vals, v_vals, label='Velocidad v(t)', color='green')\n",
    "plt.plot(t_vals, a_vals, label='Aceleración a(t)', color='red')\n",
    "\n",
    "plt.title('Funciones de Posición, Velocidad y Aceleración')\n",
    "plt.xlabel('Tiempo (t)')\n",
    "plt.ylabel('Magnitud')\n",
    "plt.grid(True)\n",
    "plt.axhline(0, color='black', linewidth=0.5)\n",
    "plt.legend()\n",
    "plt.show()\n"
   ]
  },
  {
   "cell_type": "markdown",
   "id": "4544e4f1-566d-455b-82b2-1b9a6826505d",
   "metadata": {},
   "source": [
    "<div style=\"text-align: center; font-size: 20px;\">\n",
    "  <strong>i) ¿Cuándo aumenta su rapidez la partícula? ¿Cuándo la disminuye?\n",
    "</div>"
   ]
  },
  {
   "cell_type": "code",
   "execution_count": 98,
   "id": "b8cab8f8-329f-4a9b-a799-e507f3b30184",
   "metadata": {},
   "outputs": [
    {
     "data": {
      "image/png": "[encoded data removed]",
      "text/plain": [
       "<Figure size 1200x600 with 1 Axes>"
      ]
     },
     "metadata": {},
     "output_type": "display_data"
    }
   ],
   "source": [
    "# Crear gráfico de velocidad y aceleración en el mismo plano\n",
    "plt.figure(figsize=(12, 6))\n",
    "\n",
    "plt.plot(t_vals, v_vals, label='Velocidad v(t)', color='green')\n",
    "plt.plot(t_vals, a_vals, label='Aceleración a(t)', color='red')\n",
    "plt.title('Velocidad y Aceleración de la Partícula')\n",
    "plt.xlabel('Tiempo (t)')\n",
    "plt.ylabel('Magnitud')\n",
    "plt.grid(True)\n",
    "plt.axhline(0, color='black', linewidth=0.5)\n",
    "plt.legend()\n",
    "\n",
    "# Resaltar zonas donde la rapidez aumenta (v y a del mismo signo)\n",
    "plt.axvspan(1, 2, color='yellow', alpha=0.2, label='Rapidez aumenta (1 < t < 2)')\n",
    "plt.axvspan(3, 5, color='yellow', alpha=0.2, label='Rapidez aumenta (t > 3)')\n",
    "\n",
    "# Resaltar zonas donde la rapidez disminuye (v y a de signos opuestos)\n",
    "plt.axvspan(0, 1, color='cyan', alpha=0.2, label='Rapidez disminuye (0 ≤ t < 1)')\n",
    "plt.axvspan(2, 3, color='cyan', alpha=0.2, label='Rapidez disminuye (2 < t < 3)')\n",
    "\n",
    "# Mostrar solo una etiqueta por tipo de intervalo en la leyenda\n",
    "handles, labels = plt.gca().get_legend_handles_labels()\n",
    "by_label = dict(zip(labels, handles))\n",
    "plt.legend(by_label.values(), by_label.keys())\n",
    "\n",
    "plt.show()\n"
   ]
  },
  {
   "cell_type": "markdown",
   "id": "69cddcdf-356d-4676-8e0e-f326f3a9654f",
   "metadata": {},
   "source": [
    "<div style=\"background-color: lightblue; padding: 10px; border-radius: 5px;\">\n",
    "    \n",
    "#### 3) Explica qué pasos aplican, para determinar la rapidez con que se aproximan dos vehículos entre sí cuando se encuentran a una determinada distancia de la intersección de los dos caminos en el ej.\n",
    "\n",
    "\n",
    "</div>"
   ]
  },
  {
   "cell_type": "markdown",
   "id": "ea6044e3-de27-44e5-bd56-08a3e98aa42f",
   "metadata": {},
   "source": [
    "![Gráfica](imagen18.png)"
   ]
  },
  {
   "cell_type": "markdown",
   "id": "b5975be1-e622-4b9c-9451-f80a3e2c2310",
   "metadata": {},
   "source": [
    "\\begin{align*}\n",
    "\\textbf{Paso 1 y 2:} \\quad \\text{Definir variables y dibujar la situación} \n",
    "\\end{align*}\n",
    "\n",
    "$$\n",
    "\\begin{cases}\n",
    "x(t): \\text{ distancia del automóvil A a la intersección} \\\\\n",
    "y(t): \\text{ distancia del automóvil B a la intersección} \\\\\n",
    "z(t): \\text{ distancia entre los dos automóviles}\n",
    "\\end{cases}\n",
    "$$\n",
    "\n",
    "\\begin{align*}\n",
    "\\textbf{Paso 3:} \\quad \\text{Relacionar las variables con el teorema de Pitágoras}\n",
    "\\end{align*}\n",
    "\n",
    "$$\n",
    "z^2 = x^2 + y^2\n",
    "$$\n",
    "\n",
    "\\begin{align*}\n",
    "\\textbf{Paso 4:} \\quad \\text{Derivar ambos lados respecto al tiempo } t \\text{ usando regla de la cadena}\n",
    "\\end{align*}\n",
    "\n",
    "$$\n",
    "2z \\frac{dz}{dt} = 2x \\frac{dx}{dt} + 2y \\frac{dy}{dt}\n",
    "$$\n",
    "\n",
    "$$\n",
    "\\Rightarrow \\quad \\frac{dz}{dt} = \\frac{1}{z} \\left( x \\frac{dx}{dt} + y \\frac{dy}{dt} \\right)\n",
    "$$\n",
    "\n",
    "\\begin{align*}\n",
    "\\textbf{Paso 5 y 6:} \\quad \\text{Sustituir los valores dados y resolver}\n",
    "\\end{align*}\n",
    "\n",
    "$$\n",
    "x = 0.3 \\text{ mi}, \\quad y = 0.4 \\text{ mi} \\quad \\Rightarrow \\quad z = \\sqrt{0.3^2 + 0.4^2} = 0.5 \\text{ mi}\n",
    "$$\n",
    "\n",
    "$$\n",
    "\\frac{dx}{dt} = -50 \\text{ mi/h}, \\quad \\frac{dy}{dt} = -60 \\text{ mi/h}\n",
    "$$\n",
    "\n",
    "$$\n",
    "\\frac{dz}{dt} = \\frac{1}{0.5} \\left[ 0.3(-50) + 0.4(-60) \\right] = 2 \\left[-15 - 24 \\right] = 2(-39) = -78 \\text{ mi/h}\n",
    "$$\n",
    "\n",
    "\\begin{align*}\n",
    "\\textbf{Respuesta:} \\quad \\text{Los vehículos se aproximan a razón de } \\boxed{78 \\text{ millas por hora}}.\n",
    "\\end{align*}\n"
   ]
  },
  {
   "cell_type": "markdown",
   "id": "5c7cde61-5a07-48d7-80d3-a476529ac162",
   "metadata": {},
   "source": [
    "<div style=\"background-color: lightblue; padding: 10px; border-radius: 5px;\">\n",
    "    \n",
    "#### 4) Explica la figura 4 de la misma página\n",
    "\n",
    "\n",
    "</div>"
   ]
  },
  {
   "cell_type": "markdown",
   "id": "0329931c-2e44-46c1-af35-71e372277131",
   "metadata": {},
   "source": [
    "La figura muestra un sistema de coordenadas con ejes x (horizontal) y y (vertical), donde:\n",
    "\n",
    "A está ubicado en el eje x negativo (oeste), representando el automóvil A que se mueve hacia la intersección (origen) a 50 millas/h.\n",
    "\n",
    "B está ubicado en el eje y positivo (norte), representando el automóvil B que se acerca a la intersección a 60 millas/h.\n",
    "\n",
    "La intersección de los caminos es el punto (0, 0) (centro de los ejes).\n",
    "\n",
    "También podemos ver como la unión de estos ejes crean un triangulo rectangulo\n"
   ]
  },
  {
   "cell_type": "markdown",
   "id": "cffbac48-93e9-44ad-af68-9612b50ba165",
   "metadata": {},
   "source": [
    "<div style=\"background-color: lightblue; padding: 10px; border-radius: 5px;\">\n",
    "    \n",
    "#### 5) Escoge y resuelve 5 ejercicios de razones de cambio del libro de Stewart\n",
    "\n",
    "\n",
    "</div>"
   ]
  },
  {
   "cell_type": "markdown",
   "id": "4700f073-5ef0-491d-a1bb-0f04a4b84524",
   "metadata": {},
   "source": [
    "\\begin{align*}\n",
    " 1) \\quad \\text{Si } V \\text{ es el volumen de un cubo con arista } x \\text{, y el cubo se expande a medida que transcurre el tiempo, exprese } \\frac{dV}{dt} \\text{ en términos de } \\frac{dx}{dt}.\n",
    "\\end{align*}"
   ]
  },
  {
   "cell_type": "code",
   "execution_count": 162,
   "id": "2337a880-6da3-4757-ae5d-5f7cdc3b152b",
   "metadata": {},
   "outputs": [
    {
     "data": {
      "text/latex": [
       "$\\displaystyle \\text{Volumen del cubo: } V = x^3$"
      ],
      "text/plain": [
       "<IPython.core.display.Math object>"
      ]
     },
     "metadata": {},
     "output_type": "display_data"
    },
    {
     "data": {
      "text/latex": [
       "$\\displaystyle \\frac{dV}{dt} = \\frac{d}{dt}(x^3) = 3x^2 \\cdot \\frac{dx}{dt}$"
      ],
      "text/plain": [
       "<IPython.core.display.Math object>"
      ]
     },
     "metadata": {},
     "output_type": "display_data"
    },
    {
     "data": {
      "text/latex": [
       "$\\displaystyle \\boxed{\\frac{dV}{dt} = 3 dx_{dt} x^{2}}$"
      ],
      "text/plain": [
       "<IPython.core.display.Math object>"
      ]
     },
     "metadata": {},
     "output_type": "display_data"
    }
   ],
   "source": [
    "import sympy as sp\n",
    "from sympy import latex\n",
    "from IPython.display import display, Math\n",
    "\n",
    "x = sp.Symbol('x')\n",
    "dx_dt = sp.Symbol('dx_dt')\n",
    "V = x**3\n",
    "\n",
    "dV_dt = sp.diff(V, x) * dx_dt\n",
    "sp.init_printing()\n",
    "\n",
    "display(Math(r\"\\text{Volumen del cubo: } V = x^3\"))\n",
    "display(Math(r\"\\frac{dV}{dt} = \\frac{d}{dt}(x^3) = 3x^2 \\cdot \\frac{dx}{dt}\"))\n",
    "display(Math(r\"\\boxed{\\frac{dV}{dt} = \" + latex(dV_dt) + r\"}\"))\n"
   ]
  },
  {
   "cell_type": "markdown",
   "id": "5f97918c-da32-43e5-aa59-f2054d87c7e4",
   "metadata": {},
   "source": [
    "\\begin{align*}\n",
    " 2a) \\quad \\text{Si } A \\text{ es el área de un círculo cuyo radio es } r \\text{, y el círculo se expande a medida que pasa el tiempo, exprese } \\frac{dA}{dt} \\text{ en términos de } \\frac{dr}{dt}.\n",
    "\\end{align*}"
   ]
  },
  {
   "cell_type": "code",
   "execution_count": 168,
   "id": "a2f2a4c4-a8ac-4a95-957e-a1c2523f0f8a",
   "metadata": {},
   "outputs": [
    {
     "data": {
      "text/latex": [
       "$\\displaystyle \\text{Área del círculo: } A = \\pi r^2$"
      ],
      "text/plain": [
       "<IPython.core.display.Math object>"
      ]
     },
     "metadata": {},
     "output_type": "display_data"
    },
    {
     "data": {
      "text/latex": [
       "$\\displaystyle \\frac{dA}{dt} = \\frac{d}{dt}(\\pi r^2) = 2\\pi r \\cdot \\frac{dr}{dt}$"
      ],
      "text/plain": [
       "<IPython.core.display.Math object>"
      ]
     },
     "metadata": {},
     "output_type": "display_data"
    },
    {
     "data": {
      "text/latex": [
       "$\\displaystyle \\boxed{\\frac{dA}{dt} = 2 \\pi dr_{dt} r}$"
      ],
      "text/plain": [
       "<IPython.core.display.Math object>"
      ]
     },
     "metadata": {},
     "output_type": "display_data"
    }
   ],
   "source": [
    "r, dr_dt = sp.symbols('r dr_dt')\n",
    "A = sp.pi * r**2\n",
    "dA_dt = sp.diff(A, r) * dr_dt\n",
    "\n",
    "display(Math(r\"\\text{Área del círculo: } A = \\pi r^2\"))\n",
    "display(Math(r\"\\frac{dA}{dt} = \\frac{d}{dt}(\\pi r^2) = 2\\pi r \\cdot \\frac{dr}{dt}\"))\n",
    "display(Math(r\"\\boxed{\\frac{dA}{dt} = \" + latex(dA_dt) + r\"}\"))\n"
   ]
  },
  {
   "cell_type": "markdown",
   "id": "b75d6228-813f-4122-838d-fadb30208c66",
   "metadata": {},
   "source": [
    "\\begin{align*}\n",
    " 2b) \\quad \\text{Suponga que se derrama aceite de un depósito agrietado y que se extiende siguiendo una circular. Si el radio del derrame de aceite se incrementa con una rapidez constante de 1 m/s, ¿qué tan rápido se incrementa el área del derrame cuando el radio es de 30 m?}\n",
    "\\end{align*}"
   ]
  },
  {
   "cell_type": "code",
   "execution_count": 171,
   "id": "25af3e26-e1bf-4837-9ab8-e2ca38b50d46",
   "metadata": {},
   "outputs": [
    {
     "data": {
      "text/latex": [
       "$\\displaystyle \\text{Sustituyendo: } \\frac{dA}{dt} = 2\\pi (30)(1)$"
      ],
      "text/plain": [
       "<IPython.core.display.Math object>"
      ]
     },
     "metadata": {},
     "output_type": "display_data"
    },
    {
     "data": {
      "text/latex": [
       "$\\displaystyle \\boxed{\\frac{dA}{dt} = 60 \\pi \\approx 188.495559215388 \\text{ m}^2/\\text{s}}$"
      ],
      "text/plain": [
       "<IPython.core.display.Math object>"
      ]
     },
     "metadata": {},
     "output_type": "display_data"
    }
   ],
   "source": [
    "valor = dA_dt.subs({r: 30, dr_dt: 1})\n",
    "display(Math(r\"\\text{Sustituyendo: } \\frac{dA}{dt} = 2\\pi (30)(1)\"))\n",
    "display(Math(r\"\\boxed{\\frac{dA}{dt} = \" + latex(valor) + r\" \\approx \" + latex(valor.evalf()) + r\" \\text{ m}^2/\\text{s}}\"))\n"
   ]
  },
  {
   "cell_type": "markdown",
   "id": "632a4829-fb41-484b-8c4d-25c47ad21e95",
   "metadata": {},
   "source": [
    "\\begin{align*}\n",
    "3) \\quad \\text{Cada lado de un cuadrado se incrementa a razón de 6 cm/s. ¿Con qué rapidez se incrementa el área del cuadrado cuando su área es de 16 cm?}\n",
    "\\end{align*}"
   ]
  },
  {
   "cell_type": "code",
   "execution_count": 174,
   "id": "9a5d735b-2512-4062-801c-3497bc971fb6",
   "metadata": {},
   "outputs": [
    {
     "data": {
      "text/latex": [
       "$\\displaystyle \\text{Área del cuadrado: } A = x^2$"
      ],
      "text/plain": [
       "<IPython.core.display.Math object>"
      ]
     },
     "metadata": {},
     "output_type": "display_data"
    },
    {
     "data": {
      "text/latex": [
       "$\\displaystyle \\frac{dA}{dt} = 2x \\cdot \\frac{dx}{dt}$"
      ],
      "text/plain": [
       "<IPython.core.display.Math object>"
      ]
     },
     "metadata": {},
     "output_type": "display_data"
    },
    {
     "data": {
      "text/latex": [
       "$\\displaystyle \\text{Sustituyendo: } 2(4)(6)$"
      ],
      "text/plain": [
       "<IPython.core.display.Math object>"
      ]
     },
     "metadata": {},
     "output_type": "display_data"
    },
    {
     "data": {
      "text/latex": [
       "$\\displaystyle \\boxed{\\frac{dA}{dt} = 48 \\text{ cm}^2/\\text{s}}$"
      ],
      "text/plain": [
       "<IPython.core.display.Math object>"
      ]
     },
     "metadata": {},
     "output_type": "display_data"
    }
   ],
   "source": [
    "x, dx_dt = sp.symbols('x dx_dt')\n",
    "A = x**2\n",
    "dA_dt = sp.diff(A, x) * dx_dt\n",
    "valor = dA_dt.subs({x: 4, dx_dt: 6})\n",
    "\n",
    "display(Math(r\"\\text{Área del cuadrado: } A = x^2\"))\n",
    "display(Math(r\"\\frac{dA}{dt} = 2x \\cdot \\frac{dx}{dt}\"))\n",
    "display(Math(r\"\\text{Sustituyendo: } 2(4)(6)\"))\n",
    "display(Math(r\"\\boxed{\\frac{dA}{dt} = \" + latex(valor) + r\" \\text{ cm}^2/\\text{s}}\"))\n"
   ]
  },
  {
   "cell_type": "markdown",
   "id": "442e6f2a-43cc-4ea5-ac6f-9ac4c55e8a2f",
   "metadata": {},
   "source": [
    "\\begin{align*}\n",
    "4) \\quad \\text{El largo de un rectángulo se incrementa a razón de 8 cm/s y el ancho a razón de 3 cm/s. Cuando el largo es 20 cm y el ancho es 10 cm, ¿qué tan rápido se incrementa el área del rectángulo?}\n",
    "\\end{align*}"
   ]
  },
  {
   "cell_type": "code",
   "execution_count": 177,
   "id": "dfab731a-dcee-4eb7-b2e6-d58297741ab9",
   "metadata": {},
   "outputs": [
    {
     "data": {
      "text/latex": [
       "$\\displaystyle \\text{Área del rectángulo: } A = lw$"
      ],
      "text/plain": [
       "<IPython.core.display.Math object>"
      ]
     },
     "metadata": {},
     "output_type": "display_data"
    },
    {
     "data": {
      "text/latex": [
       "$\\displaystyle \\frac{dA}{dt} = l \\frac{dw}{dt} + w \\frac{dl}{dt}$"
      ],
      "text/plain": [
       "<IPython.core.display.Math object>"
      ]
     },
     "metadata": {},
     "output_type": "display_data"
    },
    {
     "data": {
      "text/latex": [
       "$\\displaystyle \\boxed{\\frac{dA}{dt} = 140 \\text{ cm}^2/\\text{s}}$"
      ],
      "text/plain": [
       "<IPython.core.display.Math object>"
      ]
     },
     "metadata": {},
     "output_type": "display_data"
    }
   ],
   "source": [
    "l, w, dl_dt, dw_dt = sp.symbols('l w dl_dt dw_dt')\n",
    "A = l * w\n",
    "dA_dt = sp.diff(A, l)*dl_dt + sp.diff(A, w)*dw_dt\n",
    "valor = dA_dt.subs({l: 20, w: 10, dl_dt: 8, dw_dt: 3})\n",
    "\n",
    "display(Math(r\"\\text{Área del rectángulo: } A = lw\"))\n",
    "display(Math(r\"\\frac{dA}{dt} = l \\frac{dw}{dt} + w \\frac{dl}{dt}\"))\n",
    "display(Math(r\"\\boxed{\\frac{dA}{dt} = \" + latex(valor) + r\" \\text{ cm}^2/\\text{s}}\"))\n"
   ]
  },
  {
   "cell_type": "markdown",
   "id": "a2e55f29-b244-418a-9db8-5e5d3614e73a",
   "metadata": {},
   "source": [
    "<div style=\"background-color: lightblue; padding: 10px; border-radius: 5px;\">\n",
    "    \n",
    "#### 6) Liste los conceptos que se mencionan en el video. Luego, construya un mapa conceptual o una red conceptual con los mismos con el programa de su preferencia.\n",
    "\n",
    "\n",
    "</div>"
   ]
  },
  {
   "cell_type": "markdown",
   "id": "c1286058-ed5d-4a95-b489-20dfc7b380dc",
   "metadata": {},
   "source": [
    "![Gráfica](imagen24.png)"
   ]
  }
 ],
 "metadata": {
  "kernelspec": {
   "display_name": "Python [conda env:base] *",
   "language": "python",
   "name": "conda-base-py"
  },
  "language_info": {
   "codemirror_mode": {
    "name": "ipython",
    "version": 3
   },
   "file_extension": ".py",
   "mimetype": "text/x-python",
   "name": "python",
   "nbconvert_exporter": "python",
   "pygments_lexer": "ipython3",
   "version": "3.12.7"
  }
 },
 "nbformat": 4,
 "nbformat_minor": 5
}
