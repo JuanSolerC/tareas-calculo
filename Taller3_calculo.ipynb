{
 "cells": [
  {
   "cell_type": "markdown",
   "id": "d2b0b17e-575d-48f0-a9ed-80708589466f",
   "metadata": {},
   "source": [
    "# ACTIVIDAD 3: Conceptualización de la derivada y Técnicas de derivación"
   ]
  },
  {
   "cell_type": "markdown",
   "id": "1decf436-eaf3-4f9d-a498-ef4b30624f6f",
   "metadata": {},
   "source": [
    "*Ejercicios compilados por Weimar Muñoz (2023), tomados de:*  \n",
    "*“Precálculo” de Stewart, Redlin, & Watson, 2016*"
   ]
  },
  {
   "cell_type": "markdown",
   "id": "bc1bbee6-7908-4f2c-9d7a-13168ccfd9a0",
   "metadata": {},
   "source": [
    "## Recursos que usaremos"
   ]
  },
  {
   "cell_type": "markdown",
   "id": "8de896d1-5968-4e21-9812-5a00ee500970",
   "metadata": {},
   "source": [
    "**symbols:** para definir variables matemáticas como x.\n",
    "\n",
    "**diff:** para derivar funciones.\n",
    "\n",
    "**expand:** sirve para expandir expresiones\n",
    "\n",
    "**init_printing:** hace que los resultados se impriman usando LaTeX.\n",
    "\n",
    "**Eq:** para mostrar ecuaciones como f(x) = ....\n",
    "\n",
    "**simplify:** simplifica expresiones matemáticas.\n",
    "\n",
    "**exp:** para usar 𝑒𝑥\n",
    "\n",
    "**display:** muestra los resultados con estilos en Jupyter.\n",
    "\n",
    "**sin, cos, tan:** Representan funciones trigonométricas: seno, coseno y tangente.\n",
    "\n",
    "**log** Representa logaritmos. Si no se especifica la base, usa base 𝑒.\n",
    "\n",
    "**sqrt** Calcula raíces cuadradas simbólicamente.\n"
   ]
  },
  {
   "cell_type": "markdown",
   "id": "e6a9a978-8f53-4264-885e-f7b1d84e04d5",
   "metadata": {},
   "source": [
    "<div style=\"background-color: lightblue; padding: 10px; border-radius: 5px;\">\n",
    "    \n",
    "#### 1) Infiriendo la derivada. explica cómo hacen en el ejemplo 2 de la página 155 para obtener la derivada de la función propuesta. explique los gráficos de𝑓 𝑦 𝑓′\n",
    "\n",
    "\n",
    "</div>"
   ]
  },
  {
   "cell_type": "markdown",
   "id": "5894e322-f60c-45c1-a217-5715552ef42e",
   "metadata": {},
   "source": [
    "![Gráfica](imagen2.png)"
   ]
  },
  {
   "cell_type": "markdown",
   "id": "3c7d7c6f-9c63-4e54-82d5-7889aa3945e0",
   "metadata": {},
   "source": [
    "![Gráfica](imagen3.png)"
   ]
  },
  {
   "cell_type": "markdown",
   "id": "6bdfcb5f-0c9b-4003-9d80-cba6dbd1360b",
   "metadata": {},
   "source": [
    "### **Explicación:**\n",
    "###  **1. Sustituir la fórmula de la función**\n",
    "###  En esta actividad h es Δx, sin embargo usaremos h porque así esta el ejercicio "
   ]
  },
  {
   "cell_type": "markdown",
   "id": "d6e1f9b3-fb37-4e87-b257-02a3cfc9f845",
   "metadata": {},
   "source": [
    "\\begin{align*}\n",
    "\\Huge f'(x) = \\lim_{h\\to 0}\\frac{f(x+h)-f(x)}{h} \n",
    "\\Huge = \\lim_{h\\to 0}\\frac{[(x+h)^3-(x+h)]-[x^3-x]}{h}\n",
    "\\end{align*}"
   ]
  },
  {
   "cell_type": "markdown",
   "id": "691211ec-9e3c-465f-8019-b1a9772cd2df",
   "metadata": {},
   "source": [
    "### **2. Desarrollar el binomio (𝑥+ℎ)^3**\n",
    "###  Aplicamos la fórmula del binomio al cubo"
   ]
  },
  {
   "cell_type": "markdown",
   "id": "67bd7e84-71e3-4dda-9dd7-421432b8b2ba",
   "metadata": {},
   "source": [
    "\\begin{align*}\n",
    "\\Huge \\left( x + h \\right)^{3} = x^{3} + 3x^{2}h + 3xh^{2} + h^{3}\n",
    "\\end{align*}"
   ]
  },
  {
   "cell_type": "markdown",
   "id": "c36cd44d-fab2-4f01-bca5-f132460f6b6b",
   "metadata": {},
   "source": [
    "###  Agregamos el -(𝑥+ℎ) = -𝑥-ℎ\n",
    "###  Entonces"
   ]
  },
  {
   "cell_type": "markdown",
   "id": "8b03f91e-310a-435c-bebd-8f91ddd9dc31",
   "metadata": {},
   "source": [
    "\\begin{align*}\n",
    "\\Huge f(x + h) = x^{3} + 3x^{2}h + 3xh^{2} + h^{3} - x - h\n",
    "\\end{align*}"
   ]
  },
  {
   "cell_type": "markdown",
   "id": "2814a6ea-e134-46d0-a4dd-dcacccdf7048",
   "metadata": {},
   "source": [
    "### **3. Sustituir en la fórmula del límite**\n",
    "###  Ahora que tenemos 𝑓(𝑥+ℎ), lo restamos con 𝑓(𝑥), que es 𝑥^3−𝑥"
   ]
  },
  {
   "cell_type": "markdown",
   "id": "f267df3a-bda5-4447-ae5b-8edd9a6d99da",
   "metadata": {},
   "source": [
    "\\begin{align*}\n",
    "\\Huge f(x + h) - f(x) = [x^{3} + 3x^{2}h + 3xh^{2} + h^{3} - x - h] - [x^{3} - x]\n",
    "\\end{align*}"
   ]
  },
  {
   "cell_type": "markdown",
   "id": "cfbfe095-5fce-41dd-9e59-e75c71cb49be",
   "metadata": {},
   "source": [
    "### **4. Quitar paréntesis y simplificar**\n",
    "###  Quitamos los corchetes y agrupamos términos semejantes"
   ]
  },
  {
   "cell_type": "markdown",
   "id": "01353d48-764b-4a81-9303-6671d9609adc",
   "metadata": {},
   "source": [
    "\\begin{align*}\n",
    "\\Huge x^{3} + 3x^{2}h + 3xh^{2} + h^{3} - x - h - x^{3} + x\n",
    "\\end{align*}"
   ]
  },
  {
   "cell_type": "markdown",
   "id": "2d693d59-36ae-4397-ab14-7b2ed7e7a72f",
   "metadata": {},
   "source": [
    "###  simplificamos"
   ]
  },
  {
   "cell_type": "markdown",
   "id": "00d7309f-ccfa-469d-97a2-b5059023b565",
   "metadata": {},
   "source": [
    "\\begin{align*}\n",
    "\\Huge 3x^{2}h + 3xh^{2} + h^{3} - h \n",
    "\\end{align*}"
   ]
  },
  {
   "cell_type": "markdown",
   "id": "5a3d717d-e2e4-4265-87dd-20776ede6c67",
   "metadata": {},
   "source": [
    "### **5.  Dividir entre ℎ (Δx)**"
   ]
  },
  {
   "cell_type": "markdown",
   "id": "bc2b2830-a898-4b0d-a761-de95f2720690",
   "metadata": {},
   "source": [
    "\\begin{align*}\n",
    "\\Huge \\frac{3x^{2}h + 3xh^{2} + h^{3} - h}{h}\n",
    "\\end{align*}"
   ]
  },
  {
   "cell_type": "markdown",
   "id": "3e75696e-9ed6-4970-be7b-355076818ebb",
   "metadata": {},
   "source": [
    "### **6. Sacar el factor común ℎ (Δx)**"
   ]
  },
  {
   "cell_type": "markdown",
   "id": "a329833d-1298-4480-a10c-df3a052c9d01",
   "metadata": {},
   "source": [
    "\\begin{align*}\n",
    "\\Huge = \\frac{h(3x^{2} + 3xh + h^{2} - 1)}{h}\n",
    "\\end{align*}"
   ]
  },
  {
   "cell_type": "markdown",
   "id": "a08ad956-8edc-43f4-8f93-9545049262c7",
   "metadata": {},
   "source": [
    "\\begin{align*}\n",
    "\\Huge = 3x^{2} + 3xh + h^{2} - 1\n",
    "\\end{align*}"
   ]
  },
  {
   "cell_type": "markdown",
   "id": "ef516b91-755c-41cb-8fcd-47195e6e7e45",
   "metadata": {},
   "source": [
    "### **7. Tomar el límite cuando ℎ→0**\n",
    "###  Cuando ℎ tiende a 0, se eliminan los términos que contienen ℎ:"
   ]
  },
  {
   "cell_type": "markdown",
   "id": "f6f70d89-fbf1-4903-9ce0-6fd122c6799d",
   "metadata": {},
   "source": [
    "\\begin{align*}\n",
    "\\Huge \\lim_{h \\to 0} (3x^{2} + 3xh + h^{2} - 1) = 3x^{2} - 1\n",
    "\\end{align*}"
   ]
  },
  {
   "cell_type": "markdown",
   "id": "f5a84ef7-7c0d-4617-a829-07decc330e96",
   "metadata": {},
   "source": [
    "### **Final**"
   ]
  },
  {
   "cell_type": "markdown",
   "id": "c2d0a214-bab2-4a58-8df0-1ceb82664ffe",
   "metadata": {},
   "source": [
    "\\begin{align*}\n",
    "\\Huge 3x^{2} - 1\n",
    "\\end{align*}"
   ]
  },
  {
   "cell_type": "markdown",
   "id": "75ed1d47-5b12-4c72-b8fa-ec3740554c19",
   "metadata": {},
   "source": [
    "### **2) Interpretación de las gráficas**"
   ]
  },
  {
   "cell_type": "markdown",
   "id": "99626b77-3c84-4ede-ac56-4add820b8f15",
   "metadata": {},
   "source": [
    "###  **Gráfica de 𝑓(𝑥)=𝑥^3−𝑥**\n",
    "####    •Es una curva con forma de “S” que cruza el eje 𝑥 en 𝑥=−1, 𝑥=0, y 𝑥=1.\n",
    "####    •Tiene tangentes horizontales en los puntos donde su derivada es 0."
   ]
  },
  {
   "cell_type": "markdown",
   "id": "8fe9365f-cce1-450e-9435-533f61f70738",
   "metadata": {},
   "source": [
    "###  **Gráfica de 𝑓´(𝑥)=3𝑥^2−1**\n",
    "####    •Es una parábola que se abre hacia arriba.\n",
    "####    •Se anula cuando:"
   ]
  },
  {
   "cell_type": "markdown",
   "id": "aeed2aaf-85e6-4d8b-9de1-624785845c47",
   "metadata": {},
   "source": [
    "\\begin{align*}\n",
    "\\Huge 3x^{2} - 1 = 0 \\Rightarrow x = \\pm \\frac{1}{\\sqrt{3}}\n",
    "\\end{align*}"
   ]
  },
  {
   "cell_type": "markdown",
   "id": "acd0da68-c3b7-44af-b3b6-1693c7e9e75a",
   "metadata": {},
   "source": [
    "####    •Esto nos indica dónde la función 𝑓 tiene tangentes horizontales\n",
    "####    •Cuando 𝑓′(𝑥)>0, la gráfica de 𝑓 está subiendo.\n",
    "####    •Cuando 𝑓′(𝑥)<0, la gráfica de 𝑓 está bajando.\n",
    "####    •Cuando 𝑓′(𝑥)=0, posible mínimo local."
   ]
  },
  {
   "cell_type": "markdown",
   "id": "18413717-4b2f-44ab-b5ee-0278dd9f8c51",
   "metadata": {},
   "source": [
    "<div style=\"background-color: lightblue; padding: 10px; border-radius: 5px;\">\n",
    "    \n",
    "#### 3) ¿Cuál es la derivada de la función potencia 𝑓(𝑥) = 𝑥^𝑛 (n es un número entero)?\n",
    "\n",
    "\n",
    "</div>"
   ]
  },
  {
   "cell_type": "markdown",
   "id": "f57f8b3c-8720-402b-bad1-c64b3d7e1fea",
   "metadata": {},
   "source": [
    "\\begin{align*}\n",
    "\\Huge f(x) = x^{n}\n",
    "\\end{align*}"
   ]
  },
  {
   "cell_type": "markdown",
   "id": "63f1a888-7bd3-44e3-a1b2-65806cc955fc",
   "metadata": {},
   "source": [
    "### **Aplicamos la Regla de la Potencia**"
   ]
  },
  {
   "cell_type": "markdown",
   "id": "82e089ea-8fe5-4d0d-af04-ff9194e9198b",
   "metadata": {},
   "source": [
    "\\begin{align*}\n",
    "\\Huge f^{\\prime}(x) = n \\cdot x^{n - 1}\n",
    "\\end{align*}"
   ]
  },
  {
   "cell_type": "markdown",
   "id": "5bbab546-d7ec-40ab-b6e1-aec86a91b34f",
   "metadata": {},
   "source": [
    "<div style=\"background-color: lightblue; padding: 10px; border-radius: 5px;\">\n",
    "    \n",
    "#### Derive cada una de las siguientes funciones\n",
    "\n",
    "\n",
    "</div>"
   ]
  },
  {
   "cell_type": "markdown",
   "id": "0afc7ec5-0416-460e-aaca-3228836bdce9",
   "metadata": {},
   "source": [
    "\\begin{align*}\n",
    "\\Huge 4) \\quad f(x) = x^3 - 4x + 6\n",
    "\\end{align*}"
   ]
  },
  {
   "cell_type": "code",
   "execution_count": 110,
   "id": "7feed59d-40f4-4921-91b8-73323b9a71f0",
   "metadata": {},
   "outputs": [
    {
     "data": {
      "image/png": "[encoded data removed]",
      "text/latex": [
       "$\\displaystyle f(x) = x^{3} - 4 x + 6$"
      ],
      "text/plain": [
       "        3          \n",
       "f(x) = x  - 4⋅x + 6"
      ]
     },
     "metadata": {},
     "output_type": "display_data"
    },
    {
     "data": {
      "image/png": "[encoded data removed]",
      "text/latex": [
       "$\\displaystyle f'(x) = 3 x^{2} - 4$"
      ],
      "text/plain": [
       "           2    \n",
       "f'(x) = 3⋅x  - 4"
      ]
     },
     "metadata": {},
     "output_type": "display_data"
    }
   ],
   "source": [
    "import sympy as sp\n",
    "\n",
    "# Definir la variable simbólica\n",
    "x = sp.Symbol('x')\n",
    "\n",
    "# Definir la función f(x)\n",
    "f = x**3 - 4*x + 6\n",
    "\n",
    "# Derivar la función\n",
    "f_derivada = sp.diff(f, x)\n",
    "\n",
    "# Mostrar la función original y su derivada\n",
    "sp.init_printing()\n",
    "display(sp.Eq(sp.Symbol('f(x)'), f))\n",
    "display(sp.Eq(sp.Symbol(\"f'(x)\"), f_derivada))\n"
   ]
  },
  {
   "cell_type": "markdown",
   "id": "54831b1d-4842-40a8-8d5a-7a2dd0f1410b",
   "metadata": {},
   "source": [
    "\\begin{align*}\n",
    "\\Huge 5)\\quad f(t) = 1.4t^5 - 2.5t^2 + 6.7\n",
    "\\end{align*}"
   ]
  },
  {
   "cell_type": "code",
   "execution_count": 130,
   "id": "a771ce41-82eb-4f99-82a2-e44691377cf2",
   "metadata": {},
   "outputs": [
    {
     "data": {
      "image/png": "[encoded data removed]",
      "text/latex": [
       "$\\displaystyle f(x) = 1.4 t^{5} - 2.5 t^{2} + 6.7$"
      ],
      "text/plain": [
       "            5        2      \n",
       "f(x) = 1.4⋅t  - 2.5⋅t  + 6.7"
      ]
     },
     "metadata": {},
     "output_type": "display_data"
    },
    {
     "data": {
      "image/png": "[encoded data removed]",
      "text/latex": [
       "$\\displaystyle 7.0 t^{4} - 5.0 t$"
      ],
      "text/plain": [
       "     4        \n",
       "7.0⋅t  - 5.0⋅t"
      ]
     },
     "metadata": {},
     "output_type": "display_data"
    }
   ],
   "source": [
    "# Definir la variable simbólica\n",
    "t = sp.Symbol('t')\n",
    "\n",
    "# Definir la función f(t)\n",
    "f = 1.4*t**5 - 2.5*t**2 + 6.7\n",
    "\n",
    "# Derivar f con respecto a t\n",
    "f_derivada = sp.diff(f, t)\n",
    "\n",
    "# Mostrar la función original y su derivada\n",
    "sp.init_printing()\n",
    "display(sp.Eq(sp.Symbol('f(x)'), f))\n",
    "display(f_derivada)\n"
   ]
  },
  {
   "cell_type": "markdown",
   "id": "69a77b96-8a5e-4f4f-a379-45016839954e",
   "metadata": {},
   "source": [
    "\\begin{align*}\n",
    "\\Huge 6) \\quad g(x) = x^2 (1 - 2x)\n",
    "\\end{align*}"
   ]
  },
  {
   "cell_type": "code",
   "execution_count": 496,
   "id": "d2e296db-8a29-49de-8425-f569622c26ab",
   "metadata": {},
   "outputs": [
    {
     "data": {
      "image/png": "[encoded data removed]",
      "text/latex": [
       "$\\displaystyle g(x) = x^{2} \\left(1 - 2 x\\right)$"
      ],
      "text/plain": [
       "        2          \n",
       "g(x) = x ⋅(1 - 2⋅x)"
      ]
     },
     "metadata": {},
     "output_type": "display_data"
    },
    {
     "data": {
      "image/png": "[encoded data removed]",
      "text/latex": [
       "$\\displaystyle - 2 x^{2} + 2 x \\left(1 - 2 x\\right)$"
      ],
      "text/plain": [
       "     2                \n",
       "- 2⋅x  + 2⋅x⋅(1 - 2⋅x)"
      ]
     },
     "metadata": {},
     "output_type": "display_data"
    },
    {
     "data": {
      "text/latex": [
       "$\\displaystyle \\Huge 2x - 6x^2$"
      ],
      "text/plain": [
       "<IPython.core.display.Math object>"
      ]
     },
     "metadata": {},
     "output_type": "display_data"
    }
   ],
   "source": [
    "from IPython.display import Math, display\n",
    "# Definir variable simbólica\n",
    "x = sp.Symbol('x')\n",
    "\n",
    "# Definir la función g(x)\n",
    "g = x**2 * (1 - 2*x)\n",
    "\n",
    "# Derivar usando diff\n",
    "g_derivada = sp.diff(g, x)\n",
    "\n",
    "# Mostrar la función original y su derivada\n",
    "sp.init_printing()\n",
    "display(sp.Eq(sp.Symbol('g(x)'), g))\n",
    "display(g_derivada)\n",
    "display(Math(r'\\Huge 2x - 6x^2'))"
   ]
  },
  {
   "cell_type": "markdown",
   "id": "ce080acb-34a8-4af3-bc32-ce9c56d1e322",
   "metadata": {},
   "source": [
    "\\begin{align*}\n",
    "\\Huge 7) \\quad h(x) = (x - 2)(2x + 3)\n",
    "\\end{align*}"
   ]
  },
  {
   "cell_type": "code",
   "execution_count": 173,
   "id": "2be2815c-2b0e-4a27-a4fe-555ce986d42d",
   "metadata": {},
   "outputs": [
    {
     "data": {
      "image/png": "[encoded data removed]",
      "text/latex": [
       "$\\displaystyle h(x) = \\left(x - 2\\right) \\left(2 x + 3\\right)$"
      ],
      "text/plain": [
       "h(x) = (x - 2)⋅(2⋅x + 3)"
      ]
     },
     "metadata": {},
     "output_type": "display_data"
    },
    {
     "data": {
      "image/png": "[encoded data removed]",
      "text/latex": [
       "$\\displaystyle 4 x - 1$"
      ],
      "text/plain": [
       "4⋅x - 1"
      ]
     },
     "metadata": {},
     "output_type": "display_data"
    }
   ],
   "source": [
    "# Definir la variable\n",
    "x = sp.Symbol('x')\n",
    "\n",
    "# Definir la función h(x)\n",
    "h = (x - 2) * (2*x + 3)\n",
    "\n",
    "# Derivar\n",
    "h_derivada = sp.diff(h, x)\n",
    "\n",
    "# Mostrar la función original y su derivada\n",
    "sp.init_printing()\n",
    "display(sp.Eq(sp.Symbol('h(x)'), h))\n",
    "display(h_derivada)\n"
   ]
  },
  {
   "cell_type": "markdown",
   "id": "c3b35b69-c0c5-41cf-aa98-33ae6cd3ff6d",
   "metadata": {},
   "source": [
    "<div style=\"background-color: lightblue; padding: 10px; border-radius: 5px;\">\n",
    "    \n",
    "#### 8) Explica cómo encuentran los puntos de una curva en donde la recta tangente es horizontal en el ejemplo 6.\n",
    "\n",
    "\n",
    "</div>"
   ]
  },
  {
   "cell_type": "markdown",
   "id": "c792247f-be05-42ee-be54-989b962a0a51",
   "metadata": {},
   "source": [
    "![Gráfica](imagen4.png)"
   ]
  },
  {
   "cell_type": "markdown",
   "id": "b53badcf-ee6f-400e-8177-8a4bb85d1bea",
   "metadata": {},
   "source": [
    "![Gráfica](imagen5.png)"
   ]
  },
  {
   "cell_type": "markdown",
   "id": "58f12618-94a0-436b-bb39-f9bd855fb0a3",
   "metadata": {},
   "source": [
    "![Gráfica](imagen6.png)"
   ]
  },
  {
   "cell_type": "markdown",
   "id": "7804eb60-1155-4d75-82e4-d4726040483d",
   "metadata": {},
   "source": [
    "### **Explicación**\n",
    "####  Como el ejercicio se enfoca en \"como se encuentran los puntos\" la explicación del procedimiento de la derivación es más corto\n",
    "### **1. Se tiene la función**"
   ]
  },
  {
   "cell_type": "markdown",
   "id": "31fa1989-27ae-4db5-ba04-136331049471",
   "metadata": {},
   "source": [
    "\\begin{align*}\n",
    "\\Huge y = x^4 - 6x^2 + 4\n",
    "\\end{align*}"
   ]
  },
  {
   "cell_type": "markdown",
   "id": "a539cddc-2e05-42ce-84ab-4596965538e9",
   "metadata": {},
   "source": [
    "### **2. Se calcula la derivada**"
   ]
  },
  {
   "cell_type": "code",
   "execution_count": 206,
   "id": "d106908d-c257-4a8e-b93b-0584720cc501",
   "metadata": {},
   "outputs": [
    {
     "data": {
      "image/png": "[encoded data removed]",
      "text/latex": [
       "$\\displaystyle f{\\left(x \\right)} = x^{4} - 6 x^{2} + 4$"
      ],
      "text/plain": [
       "        4      2    \n",
       "f(x) = x  - 6⋅x  + 4"
      ]
     },
     "metadata": {},
     "output_type": "display_data"
    },
    {
     "data": {
      "image/png": "[encoded data removed]",
      "text/latex": [
       "$\\displaystyle \\operatorname{f'}{\\left(x \\right)} = 4 x^{3} - 12 x$"
      ],
      "text/plain": [
       "           3       \n",
       "f'(x) = 4⋅x  - 12⋅x"
      ]
     },
     "metadata": {},
     "output_type": "display_data"
    }
   ],
   "source": [
    "# Definir la variable \n",
    "x = sp.Symbol('x')\n",
    "\n",
    "# Definir la función\n",
    "f = x**4 - 6*x**2 + 4\n",
    "\n",
    "# Calcular la derivada\n",
    "f_prime = sp.diff(f, x)\n",
    "\n",
    "\n",
    "# Mostrar la función original y su derivada\n",
    "sp.init_printing() \n",
    "display(sp.Eq(sp.Function('f')(x), f))\n",
    "display(sp.Eq(sp.Function(\"f'\")(x), f_prime))"
   ]
  },
  {
   "cell_type": "markdown",
   "id": "567ad45a-cd49-4f5c-84a1-9c4198903e0c",
   "metadata": {},
   "source": [
    "\\begin{align*}\n",
    "\\Huge \\frac{dy}{dx} = 4x^{3} - 12x\n",
    "\\end{align*}"
   ]
  },
  {
   "cell_type": "markdown",
   "id": "dcb0c3fb-f005-4c35-a3ff-5d5f840adb19",
   "metadata": {},
   "source": [
    "### **3. Se iguala la derivada a 0**\n",
    "#### Para encontrar los puntos donde la recta tangente es horizontal, se busca cuando la pendiente es 0"
   ]
  },
  {
   "cell_type": "markdown",
   "id": "46e68a93-3ab4-43e8-8175-4a73392edf9a",
   "metadata": {},
   "source": [
    "\\begin{align*}\n",
    "\\Huge 4x^{3} - 12x = 0\n",
    "\\end{align*}"
   ]
  },
  {
   "cell_type": "markdown",
   "id": "f44d3b91-2684-47f3-acaa-8d8cc47e55b9",
   "metadata": {},
   "source": [
    "### **4. Se resuelve la ecuación:**"
   ]
  },
  {
   "cell_type": "markdown",
   "id": "389b00fb-4295-43ee-a869-e4894dda528a",
   "metadata": {},
   "source": [
    "\\begin{align*}\n",
    "\\Huge 4x(x^{2} - 3) = 0\n",
    "\\end{align*}"
   ]
  },
  {
   "cell_type": "markdown",
   "id": "7cff01e9-df61-4aa4-bfc6-a4372df0ff51",
   "metadata": {},
   "source": [
    "#### Primer factor"
   ]
  },
  {
   "cell_type": "markdown",
   "id": "5eb099bb-4239-4069-9937-ef4752fba9e9",
   "metadata": {},
   "source": [
    "\\begin{align*}\n",
    "\\Huge 4x = 0 \\Rightarrow x = 0\n",
    "\\end{align*}"
   ]
  },
  {
   "cell_type": "markdown",
   "id": "f9e0c321-a65d-4f12-8ecc-b2c0991d7753",
   "metadata": {},
   "source": [
    "#### Segundo factor"
   ]
  },
  {
   "cell_type": "markdown",
   "id": "4fa145fd-f049-4d8d-9ee9-a6678f88f486",
   "metadata": {},
   "source": [
    "\\begin{align*}\n",
    "\\Huge x^{2} - 3 = 0 \\Rightarrow x^{2} = 3\n",
    "\\end{align*}"
   ]
  },
  {
   "cell_type": "markdown",
   "id": "5438f203-6c95-4c07-ae29-a26821b28835",
   "metadata": {},
   "source": [
    "#### Sacamos Raíz Cuadrada"
   ]
  },
  {
   "cell_type": "markdown",
   "id": "b37e2afa-98f5-4750-8330-c3a9bdd563d7",
   "metadata": {},
   "source": [
    "\\begin{align*}\n",
    "\\Huge x = \\pm \\sqrt{3}\n",
    "\\end{align*}"
   ]
  },
  {
   "cell_type": "markdown",
   "id": "3cdb6b69-dd60-47b5-b66d-fddf0a11c87f",
   "metadata": {},
   "source": [
    "\\begin{align*}\n",
    "\\Huge x = \\sqrt{3} \\quad \\text{y} \\quad x = -\\sqrt{3}\n",
    "\\end{align*}"
   ]
  },
  {
   "cell_type": "markdown",
   "id": "dd8ae429-f84c-46b8-8bc8-df67698d42d2",
   "metadata": {},
   "source": [
    "#### Solución"
   ]
  },
  {
   "cell_type": "markdown",
   "id": "5a5f7771-ddf9-49d0-9561-18e788e26a59",
   "metadata": {},
   "source": [
    "\\begin{align*}\n",
    "\\Huge x = 0 \\quad x = \\sqrt{3} \\quad  x = -\\sqrt{3}\n",
    "\\end{align*}"
   ]
  },
  {
   "cell_type": "markdown",
   "id": "48c72797-c673-4145-b571-82fe85a8d2c9",
   "metadata": {},
   "source": [
    "### **5. Sustituimos en la función original**"
   ]
  },
  {
   "cell_type": "markdown",
   "id": "35c56bbc-890e-44f2-93a9-cb2bc262d582",
   "metadata": {},
   "source": [
    "#### Para x = 0"
   ]
  },
  {
   "cell_type": "markdown",
   "id": "e2aca73c-6a30-4120-80ba-d890b053c86d",
   "metadata": {},
   "source": [
    "\\begin{align*}\n",
    "\\Huge y = (0)^4 - 6(0)^2 + 4 = 0 - 0 + 4 = 4\n",
    "\\end{align*}"
   ]
  },
  {
   "cell_type": "markdown",
   "id": "a4583057-18c7-4919-9d0f-347de0b3da56",
   "metadata": {},
   "source": [
    "\\begin{align*}\n",
    "\\Huge \\text{Punto:} \\quad  (0,4)\n",
    "\\end{align*}"
   ]
  },
  {
   "cell_type": "markdown",
   "id": "209a332d-3400-487d-84ac-f1a83b0900a3",
   "metadata": {},
   "source": [
    "#### Para x = √3"
   ]
  },
  {
   "cell_type": "markdown",
   "id": "9bb3e0e9-cd4a-47cf-ae5b-7bfe0f8a31cd",
   "metadata": {},
   "source": [
    "\\begin{align*}\n",
    "\\Huge y = (\\sqrt{3})^4 - 6(\\sqrt{3})^2 + 4 = 9 - 18 + 4 = -5\n",
    "\\end{align*}"
   ]
  },
  {
   "cell_type": "markdown",
   "id": "a63076f0-7d94-41a7-b9f7-dac9cfbc8efb",
   "metadata": {},
   "source": [
    "\\begin{align*}\n",
    "\\Huge \\text{Punto:} \\quad  (\\sqrt{3}, -5)\n",
    "\\end{align*}"
   ]
  },
  {
   "cell_type": "markdown",
   "id": "d78edeba-027a-469b-ba65-83d3f6d87944",
   "metadata": {},
   "source": [
    "#### Para x = -√3"
   ]
  },
  {
   "cell_type": "markdown",
   "id": "a8bd69e1-0c8d-4763-a59f-342ad4a06364",
   "metadata": {},
   "source": [
    "\\begin{align*}\n",
    "\\Huge y = (-\\sqrt{3})^4 - 6(-\\sqrt{3})^2 + 4 = 9 - 18 + 4 = -5\n",
    "\\end{align*}"
   ]
  },
  {
   "cell_type": "markdown",
   "id": "b91b4d39-6669-41ad-b3ba-7d109799bac4",
   "metadata": {},
   "source": [
    "\\begin{align*}\n",
    "\\Huge \\text{Punto:}\\quad (-\\sqrt{3}, -5)\n",
    "\\end{align*}"
   ]
  },
  {
   "cell_type": "markdown",
   "id": "e6d729aa-fba7-4306-b94d-b0a36b3eb7b9",
   "metadata": {},
   "source": [
    "<div style=\"background-color: lightblue; padding: 10px; border-radius: 5px;\">\n",
    "    \n",
    "#### 9) ¿A qué se refieren con derivadas de orden superior? explique cómo obtienen la primera derivada 𝑓′ y la segunda derivada 𝑓′′ en el ejemplo 8\n",
    "\n",
    "\n",
    "</div>"
   ]
  },
  {
   "cell_type": "markdown",
   "id": "1c9d9efa-9e3f-4dad-9d79-7966336b636f",
   "metadata": {},
   "source": [
    "### **¿A qué se refieren con derivadas de orden superior?**\n",
    "#### Las derivadas de orden superior es una derivada de una deriva\n",
    "### **¿Qué representa cada orden?**\n",
    "\n",
    "| Orden | Nombre                 | ¿Qué representa?                                                                 |\n",
    "|-------|------------------------|----------------------------------------------------------------------------------|\n",
    "| 1     | Primera derivada       | La **velocidad** o **tasa de cambio** de la función (si sube o baja y qué tan rápido). |\n",
    "| 2     | Segunda derivada       | El **cambio de la velocidad** (*aceleración*). También indica si la curva es cóncava hacia arriba o hacia abajo. |\n",
    "| 3     | Tercera derivada       | El **cambio de la aceleración**, útil en fenómenos físicos más complejos.       |\n",
    "| *n*   | Derivada de orden *n*  | El **cambio de la derivada anterior**, es decir, se deriva la función *n* veces. |"
   ]
  },
  {
   "cell_type": "markdown",
   "id": "7f9a175f-8a77-49fc-9feb-61e2323de376",
   "metadata": {},
   "source": [
    "![Gráfica](imagen7.png)"
   ]
  },
  {
   "cell_type": "markdown",
   "id": "d14e1f5a-6a5f-4c2f-b79f-6a48d61c57b1",
   "metadata": {},
   "source": [
    "### **1. Se tiene la función**"
   ]
  },
  {
   "cell_type": "markdown",
   "id": "97940b21-a3f7-42dc-9450-bc61711c6ae0",
   "metadata": {},
   "source": [
    "\\begin{align*}\n",
    "\\Huge f(x) = e^{x} - x\n",
    "\\end{align*}"
   ]
  },
  {
   "cell_type": "markdown",
   "id": "284f5308-0b3e-41fd-8e9d-e012debd494a",
   "metadata": {},
   "source": [
    "### **2. Aplicar la regla de la diferencia para derivar 𝑓(𝑥)**"
   ]
  },
  {
   "cell_type": "markdown",
   "id": "f4dbfa9e-7ba9-4b56-9f7e-4042dd436e66",
   "metadata": {},
   "source": [
    "\\begin{align*}\n",
    "\\Huge f'(x) = \\frac{d}{dx}(e^{x} - x) = \\frac{d}{dx}(e^{x}) - \\frac{d}{dx}(x)\n",
    "\\end{align*}"
   ]
  },
  {
   "cell_type": "markdown",
   "id": "543cf9e0-bcb2-4336-941d-da80378caf25",
   "metadata": {},
   "source": [
    "### **3. Derivar cada término**"
   ]
  },
  {
   "cell_type": "markdown",
   "id": "dedee663-eef2-441d-a6f3-665502b6e827",
   "metadata": {},
   "source": [
    "\\begin{align*}\n",
    "\\Huge \\frac{d}{dx}(e^{x}) = e^{x}\n",
    "\\end{align*}"
   ]
  },
  {
   "cell_type": "markdown",
   "id": "f555c44b-6686-4f81-be5b-7d7884c26500",
   "metadata": {},
   "source": [
    "\\begin{align*}\n",
    "\\Huge \\frac{d}{dx}(x) = 1\n",
    "\\end{align*}"
   ]
  },
  {
   "cell_type": "markdown",
   "id": "cc38d2fc-1494-4629-bbfb-4718b7809b75",
   "metadata": {},
   "source": [
    "### **4.  Escribir la primera derivada**"
   ]
  },
  {
   "cell_type": "markdown",
   "id": "e0ca0db1-d900-4fa9-987c-32a55920576b",
   "metadata": {},
   "source": [
    "\\begin{align*}\n",
    "\\Huge f'(x) = e^{x} - 1\n",
    "\\end{align*}"
   ]
  },
  {
   "cell_type": "markdown",
   "id": "55c4d059-61f7-455e-b0c0-2f204f76c5aa",
   "metadata": {},
   "source": [
    "### **5. Derivar nuevamente para obtener la segunda derivada**"
   ]
  },
  {
   "cell_type": "markdown",
   "id": "71dba3d7-8aa2-4b56-8818-6c0e4171bac3",
   "metadata": {},
   "source": [
    "\\begin{align*}\n",
    "\\Huge f''(x) = \\frac{d}{dx} (e^{x} - 1)\n",
    "\\end{align*}"
   ]
  },
  {
   "cell_type": "markdown",
   "id": "ddbc1654-e69f-44ce-99a5-a135e50823cb",
   "metadata": {},
   "source": [
    "### **6. Derivar cada término otra vez**"
   ]
  },
  {
   "cell_type": "markdown",
   "id": "28c60dc1-aa1a-4a6b-ad51-e7945a58b893",
   "metadata": {},
   "source": [
    "\\begin{align*}\n",
    "\\Huge \\frac{d}{dx}(e^{x}) = e^{x}\n",
    "\\end{align*}"
   ]
  },
  {
   "cell_type": "markdown",
   "id": "1ec56385-42c9-4cdd-9070-cef350703540",
   "metadata": {},
   "source": [
    "\\begin{align*}\n",
    "\\Huge \\frac{d}{dx}(1) = 0 \\quad \\text{Porque es constante}\n",
    "\\end{align*}"
   ]
  },
  {
   "cell_type": "markdown",
   "id": "805008b9-ed1f-4c5d-944b-ba56d67b0799",
   "metadata": {},
   "source": [
    "### **7. Escribir la segunda derivada**"
   ]
  },
  {
   "cell_type": "markdown",
   "id": "f8f29f21-d710-49a8-baa0-126a5565945f",
   "metadata": {},
   "source": [
    "\\begin{align*}\n",
    "\\Huge f''(x) = e^{x}\n",
    "\\end{align*}"
   ]
  },
  {
   "cell_type": "markdown",
   "id": "d65cde6c-18b4-4d41-8a2d-4d4bd0a45506",
   "metadata": {},
   "source": [
    "### **8. Final**"
   ]
  },
  {
   "cell_type": "markdown",
   "id": "5ff4b546-705f-48a5-90c3-ad797a6c1d17",
   "metadata": {},
   "source": [
    "#### Primera derivada"
   ]
  },
  {
   "cell_type": "markdown",
   "id": "7d80ef9c-42f9-474f-8652-cf788fcf080b",
   "metadata": {},
   "source": [
    "\\begin{align*}\n",
    "\\Huge f'(x) = e^{x} - 1\n",
    "\\end{align*}"
   ]
  },
  {
   "cell_type": "markdown",
   "id": "471b7cf3-f2bc-4cb7-9810-50ec7dd39ee6",
   "metadata": {},
   "source": [
    "#### Segunda derivada"
   ]
  },
  {
   "cell_type": "markdown",
   "id": "8e339afb-1db1-4c15-8a60-5867c48e241b",
   "metadata": {},
   "source": [
    "\\begin{align*}\n",
    "\\Huge f''(x) = e^{x}\n",
    "\\end{align*}"
   ]
  },
  {
   "cell_type": "markdown",
   "id": "8697e55c-a888-48c9-b36c-9427765fafbe",
   "metadata": {},
   "source": [
    "<div style=\"background-color: lightblue; padding: 10px; border-radius: 5px;\">\n",
    "    \n",
    "#### RESOLVER: Deriven cada una de las siguientes funciones\n",
    "\n",
    "\n",
    "</div>"
   ]
  },
  {
   "cell_type": "markdown",
   "id": "f18c9f67-ef36-47ad-a344-d20d70b5b917",
   "metadata": {},
   "source": [
    "\\begin{align*}\n",
    "\\Huge 10) \\quad f(x) = (x^3 + 2x)e^x\n",
    "\\end{align*}"
   ]
  },
  {
   "cell_type": "code",
   "execution_count": 498,
   "id": "c0acdf0c-7404-419d-b7b6-3aaff968c967",
   "metadata": {},
   "outputs": [
    {
     "data": {
      "image/png": "[encoded data removed]",
      "text/latex": [
       "$\\displaystyle f(x) = \\left(x^{3} + 2 x\\right) e^{x}$"
      ],
      "text/plain": [
       "       ⎛ 3      ⎞  x\n",
       "f(x) = ⎝x  + 2⋅x⎠⋅ℯ "
      ]
     },
     "metadata": {},
     "output_type": "display_data"
    },
    {
     "data": {
      "image/png": "[encoded data removed]",
      "text/latex": [
       "$\\displaystyle f'(x) = \\left(3 x^{2} + x \\left(x^{2} + 2\\right) + 2\\right) e^{x}$"
      ],
      "text/plain": [
       "        ⎛   2     ⎛ 2    ⎞    ⎞  x\n",
       "f'(x) = ⎝3⋅x  + x⋅⎝x  + 2⎠ + 2⎠⋅ℯ "
      ]
     },
     "metadata": {},
     "output_type": "display_data"
    },
    {
     "data": {
      "text/latex": [
       "$\\displaystyle f'(x) = (x^3 + 3x^2 + 2x + 2)e^x$"
      ],
      "text/plain": [
       "<IPython.core.display.Math object>"
      ]
     },
     "metadata": {},
     "output_type": "display_data"
    }
   ],
   "source": [
    "# Activar impresión en LaTeX\n",
    "init_printing()\n",
    "\n",
    "# Definir la variable\n",
    "x = symbols('x')\n",
    "\n",
    "# Definir la función original\n",
    "f = (x**3 + 2*x) * exp(x)\n",
    "\n",
    "# Mostrar la función original\n",
    "display(Eq(symbols('f(x)'), f))\n",
    "\n",
    "# Aplicar la regla del producto paso a paso\n",
    "u = x**3 + 2*x\n",
    "v = exp(x)\n",
    "\n",
    "u_prime = diff(u, x)        # Derivada de (x^3 + 2x)\n",
    "v_prime = diff(v, x)        # Derivada de e^x\n",
    "\n",
    "# Regla del producto: f' = u'·v + u·v'\n",
    "f_prime = u_prime * v + u * v_prime\n",
    "\n",
    "# Simplificar el resultado\n",
    "f_prime_simplified = simplify(f_prime)\n",
    "\n",
    "# Mostrar el resultado final\n",
    "display(Eq(symbols(\"f'(x)\"), f_prime_simplified))\n",
    "display(Math('f\\'(x) = (x^3 + 3x^2 + 2x + 2)e^x'))"
   ]
  },
  {
   "cell_type": "markdown",
   "id": "f526bbb5-f006-4fe8-804f-6e1728d6afb2",
   "metadata": {},
   "source": [
    "\\begin{align*}\n",
    "\\Huge 11) \\quad g(x) = \\sqrt{x} \\cdot e^{x}\n",
    "\\end{align*}"
   ]
  },
  {
   "cell_type": "code",
   "execution_count": 159,
   "id": "64cf704d-e8a4-4809-a6f9-98d8504ed88c",
   "metadata": {},
   "outputs": [
    {
     "data": {
      "image/png": "[encoded data removed]",
      "text/latex": [
       "$\\displaystyle g(x) = \\sqrt{x} e^{x}$"
      ],
      "text/plain": [
       "           x\n",
       "g(x) = √x⋅ℯ "
      ]
     },
     "metadata": {},
     "output_type": "display_data"
    },
    {
     "data": {
      "image/png": "[encoded data removed]",
      "text/latex": [
       "$\\displaystyle g'(x) = \\sqrt{x} e^{x} + \\frac{e^{x}}{2 \\sqrt{x}}$"
      ],
      "text/plain": [
       "                  x \n",
       "            x    ℯ  \n",
       "g'(x) = √x⋅ℯ  + ────\n",
       "                2⋅√x"
      ]
     },
     "metadata": {},
     "output_type": "display_data"
    }
   ],
   "source": [
    "# Activar impresión en LaTeX\n",
    "init_printing()\n",
    "\n",
    "# Definir la variable\n",
    "x = symbols('x', positive=True)  # Asegurarse de que x es positivo para sqrt(x)\n",
    "\n",
    "# Definir la función g(x)\n",
    "g = sqrt(x) * exp(x)\n",
    "\n",
    "# Mostrar la función original\n",
    "display(Eq(symbols('g(x)'), g))\n",
    "\n",
    "# Definir u y v para aplicar la regla del producto\n",
    "u = sqrt(x)\n",
    "v = exp(x)\n",
    "\n",
    "# Derivadas individuales\n",
    "u_prime = diff(u, x)      # Derivada de sqrt(x)\n",
    "v_prime = diff(v, x)     # Derivada de e^x\n",
    "\n",
    "# Aplicar la regla del producto\n",
    "g_prime = u_prime * v + u * v_prime\n",
    "\n",
    "# Expandir el resultado\n",
    "g_prime_expandido = expand(g_prime)\n",
    "\n",
    "# Mostrar el resultado final\n",
    "display(Eq(symbols(\"g'(x)\"), g_prime_expandido))\n"
   ]
  },
  {
   "cell_type": "markdown",
   "id": "6894bdde-7d3c-4bfc-96b9-76449b5c9a34",
   "metadata": {},
   "source": [
    "\\begin{align*}\n",
    "\\Huge 12) \\quad g(x) = \\frac{1 + 2x}{3 - 4x}\n",
    "\\end{align*}"
   ]
  },
  {
   "cell_type": "code",
   "execution_count": 172,
   "id": "ad2b930a-0e0f-4ad9-9065-b6269177a8c1",
   "metadata": {},
   "outputs": [
    {
     "data": {
      "image/png": "[encoded data removed]",
      "text/latex": [
       "$\\displaystyle g(x) = \\frac{2 x + 1}{3 - 4 x}$"
      ],
      "text/plain": [
       "       2⋅x + 1\n",
       "g(x) = ───────\n",
       "       3 - 4⋅x"
      ]
     },
     "metadata": {},
     "output_type": "display_data"
    },
    {
     "data": {
      "image/png": "[encoded data removed]",
      "text/latex": [
       "$\\displaystyle g'(x) = \\frac{10}{\\left(3 - 4 x\\right)^{2}}$"
      ],
      "text/plain": [
       "            10    \n",
       "g'(x) = ──────────\n",
       "                 2\n",
       "        (3 - 4⋅x) "
      ]
     },
     "metadata": {},
     "output_type": "display_data"
    }
   ],
   "source": [
    "# Activar impresión en LaTeX\n",
    "init_printing()\n",
    "\n",
    "# Definir la variable\n",
    "x = symbols('x')\n",
    "\n",
    "# Definir u y v\n",
    "u = 1 + 2*x\n",
    "v = 3 - 4*x\n",
    "\n",
    "# Definir g(x)\n",
    "g = u / v\n",
    "\n",
    "# Mostrar función original\n",
    "display(Eq(symbols('g(x)'), g))\n",
    "\n",
    "# Derivadas individuales\n",
    "u_prime = diff(u, x)  # Derivada de u\n",
    "v_prime = diff(v, x)  # Derivada de v\n",
    "\n",
    "# Aplicar regla del cociente\n",
    "g_prime = (u_prime * v - u * v_prime) / v**2\n",
    "\n",
    "# Mostrar derivada\n",
    "display(Eq(symbols(\"g'(x)\"), g_prime))\n"
   ]
  },
  {
   "cell_type": "markdown",
   "id": "f5042440-6617-4b87-beb5-056c96fc8c1a",
   "metadata": {},
   "source": [
    "\\begin{align*}\n",
    "\\Huge 13) \\quad  G(x) = \\frac{x^2 - 2}{2x + 1}\n",
    "\\end{align*}"
   ]
  },
  {
   "cell_type": "code",
   "execution_count": 183,
   "id": "e6da4a8f-68a9-4c0e-98d5-ff2982988adb",
   "metadata": {},
   "outputs": [
    {
     "data": {
      "image/png": "[encoded data removed]",
      "text/latex": [
       "$\\displaystyle G(x) = \\frac{x^{2} - 2}{2 x + 1}$"
      ],
      "text/plain": [
       "        2     \n",
       "       x  - 2 \n",
       "G(x) = ───────\n",
       "       2⋅x + 1"
      ]
     },
     "metadata": {},
     "output_type": "display_data"
    },
    {
     "data": {
      "image/png": "[encoded data removed]",
      "text/latex": [
       "$\\displaystyle G'(x) = \\frac{2 \\left(x^{2} + x + 2\\right)}{4 x^{2} + 4 x + 1}$"
      ],
      "text/plain": [
       "          ⎛ 2        ⎞\n",
       "        2⋅⎝x  + x + 2⎠\n",
       "G'(x) = ──────────────\n",
       "           2          \n",
       "        4⋅x  + 4⋅x + 1"
      ]
     },
     "metadata": {},
     "output_type": "display_data"
    }
   ],
   "source": [
    "# Mostrar en LaTeX\n",
    "init_printing()\n",
    "\n",
    "# Definir la variable\n",
    "x = symbols('x')\n",
    "\n",
    "# Definir numerador (u) y denominador (v)\n",
    "u = x**2 - 2\n",
    "v = 2*x + 1\n",
    "\n",
    "# Definir la función G(x)\n",
    "G = u / v\n",
    "\n",
    "# Mostrar función original\n",
    "display(Eq(symbols('G(x)'), G))\n",
    "\n",
    "# Derivar u y v\n",
    "u_prime = diff(u, x)\n",
    "v_prime = diff(v, x)\n",
    "\n",
    "# Aplicar regla del cociente\n",
    "G_prime = (u_prime * v - u * v_prime) / v**2\n",
    "\n",
    "# Simplificar la derivada \n",
    "G_prime_simplified = G_prime.simplify()\n",
    "\n",
    "# Mostrar derivada\n",
    "display(Eq(symbols(\"G'(x)\"), G_prime_simplified))\n"
   ]
  },
  {
   "cell_type": "markdown",
   "id": "2967d8fb-54dd-432a-911c-a6f25154c9b2",
   "metadata": {},
   "source": [
    "\\begin{align*}\n",
    "\\Huge 14) \\quad   y = \\frac{x^3}{1 - x^2}\n",
    "\\end{align*}"
   ]
  },
  {
   "cell_type": "code",
   "execution_count": 211,
   "id": "e43be874-c8be-4ff6-8791-e96a208497cc",
   "metadata": {},
   "outputs": [
    {
     "data": {
      "image/png": "[encoded data removed]",
      "text/latex": [
       "$\\displaystyle g(x) = \\frac{x^{3}}{1 - x^{2}}$"
      ],
      "text/plain": [
       "          3  \n",
       "         x   \n",
       "g(x) = ──────\n",
       "            2\n",
       "       1 - x "
      ]
     },
     "metadata": {},
     "output_type": "display_data"
    },
    {
     "data": {
      "image/png": "[encoded data removed]",
      "text/latex": [
       "$\\displaystyle g'(x) = \\frac{x^{2} \\left(3 - x^{2}\\right)}{\\left(x^{2} - 1\\right)^{2}}$"
      ],
      "text/plain": [
       "         2 ⎛     2⎞\n",
       "        x ⋅⎝3 - x ⎠\n",
       "g'(x) = ───────────\n",
       "                 2 \n",
       "         ⎛ 2    ⎞  \n",
       "         ⎝x  - 1⎠  "
      ]
     },
     "metadata": {},
     "output_type": "display_data"
    }
   ],
   "source": [
    "# Inicializar impresión\n",
    "init_printing()\n",
    "\n",
    "# Variable\n",
    "x = symbols('x')\n",
    "\n",
    "# Numerador y denominador\n",
    "u = x**3\n",
    "v = 1 - x**2\n",
    "\n",
    "# Función original\n",
    "g = u / v\n",
    "display(Eq(symbols('g(x)'), g))\n",
    "\n",
    "# Derivadas\n",
    "u_prime = diff(u, x)  # 3x^2\n",
    "v_prime = diff(v, x)  # -2x\n",
    "\n",
    "# Aplicar regla del cociente\n",
    "g_prime = (u_prime * v - u * v_prime) / v**2\n",
    "\n",
    "# Simplificar la derivada\n",
    "g_prime_simplified = g_prime.simplify()\n",
    "\n",
    "# Mostrar derivada\n",
    "display(Eq(symbols(\"g'(x)\"), g_prime_simplified))\n"
   ]
  },
  {
   "cell_type": "markdown",
   "id": "10b357a3-b6e1-4d61-86f3-c676cfe97634",
   "metadata": {},
   "source": [
    "\\begin{align*}\n",
    "\\Huge 15) \\quad y = \\frac{x + 1}{x^3 + x - 2}\n",
    "\\end{align*}"
   ]
  },
  {
   "cell_type": "code",
   "execution_count": 500,
   "id": "effdbb69-126b-4a53-a616-09a2c59e576d",
   "metadata": {},
   "outputs": [
    {
     "data": {
      "image/png": "[encoded data removed]",
      "text/latex": [
       "$\\displaystyle y = \\frac{x + 1}{x^{3} + x - 2}$"
      ],
      "text/plain": [
       "      x + 1   \n",
       "y = ──────────\n",
       "     3        \n",
       "    x  + x - 2"
      ]
     },
     "metadata": {},
     "output_type": "display_data"
    },
    {
     "data": {
      "image/png": "[encoded data removed]",
      "text/latex": [
       "$\\displaystyle y' = \\frac{x^{3} + x - \\left(x + 1\\right) \\left(3 x^{2} + 1\\right) - 2}{\\left(x^{3} + x - 2\\right)^{2}}$"
      ],
      "text/plain": [
       "      3               ⎛   2    ⎞    \n",
       "     x  + x - (x + 1)⋅⎝3⋅x  + 1⎠ - 2\n",
       "y' = ───────────────────────────────\n",
       "                          2         \n",
       "              ⎛ 3        ⎞          \n",
       "              ⎝x  + x - 2⎠          "
      ]
     },
     "metadata": {},
     "output_type": "display_data"
    },
    {
     "data": {
      "text/latex": [
       "$\\displaystyle y' = \\frac{-2x^3 - 3x^2 - 3}{(x^3 + x - 2)^2}$"
      ],
      "text/plain": [
       "<IPython.core.display.Math object>"
      ]
     },
     "metadata": {},
     "output_type": "display_data"
    }
   ],
   "source": [
    "init_printing()\n",
    "\n",
    "x = symbols('x')\n",
    "u = x + 1\n",
    "v = x**3 + x - 2\n",
    "\n",
    "y = u / v\n",
    "display(Eq(symbols('y'), y))\n",
    "\n",
    "u_prime = diff(u, x)\n",
    "v_prime = diff(v, x)\n",
    "\n",
    "y_prime = (u_prime * v - u * v_prime) / v**2\n",
    "\n",
    "display(Eq(symbols(\"y'\"), y_prime))\n",
    "display(Math(r\"y' = \\frac{-2x^3 - 3x^2 - 3}{(x^3 + x - 2)^2}\"))"
   ]
  },
  {
   "cell_type": "markdown",
   "id": "f5bd6a53-c90c-43c4-8adf-f752949ebafb",
   "metadata": {},
   "source": [
    "<div style=\"background-color: lightblue; padding: 10px; border-radius: 5px;\">\n",
    "    \n",
    "#### 16) ¿Cuántas funciones trigonométricas conoces? Escribe las funciones trigonométricas.\n",
    "\n",
    "\n",
    "</div>"
   ]
  },
  {
   "cell_type": "markdown",
   "id": "68f00a80-4eee-45c4-b336-db0bea0803b2",
   "metadata": {},
   "source": [
    "### **Funciones Trigonométricas y sus Razones**\n",
    "\n",
    "| Función         | Nombre                    | Razón en triángulo rectángulo                        |\n",
    "|-----------------|---------------------------|------------------------------------------------------|\n",
    "| `sen(θ)`        | Seno                      | cateto opuesto / hipotenusa                         |\n",
    "| `cos(θ)`        | Coseno                    | cateto adyacente / hipotenusa                       |\n",
    "| `tan(θ)`        | Tangente                  | cateto opuesto / cateto adyacente                   |\n",
    "| `csc(θ)`        | Cosecante (inversa del seno)     | hipotenusa / cateto opuesto                         |\n",
    "| `sec(θ)`        | Secante (inversa del coseno)     | hipotenusa / cateto adyacente                       |\n",
    "| `cot(θ)`        | Cotangente (inversa de la tangente) | cateto adyacente / cateto opuesto                   |\n"
   ]
  },
  {
   "cell_type": "markdown",
   "id": "7b9f32d9-e258-4615-9d03-04c1218f5707",
   "metadata": {},
   "source": [
    "<div style=\"background-color: lightblue; padding: 10px; border-radius: 5px;\">\n",
    "    \n",
    "#### 17) Escribe las fórmulas para las derivadas de las funciones trigonométricas.\n",
    "\n",
    "\n",
    "</div>"
   ]
  },
  {
   "cell_type": "markdown",
   "id": "d90482f1-8419-4299-8042-4cfe06fa8f9a",
   "metadata": {},
   "source": [
    "### **Derivadas de Funciones Trigonométricas**\n",
    "\n",
    "| Función         | Derivada                          |\n",
    "|-----------------|-----------------------------------|\n",
    "| `d/dx [sen(x)]` | `cos(x)`                          |\n",
    "| `d/dx [cos(x)]` | `-sen(x)`                         |\n",
    "| `d/dx [tan(x)]` | `sec²(x)`                         |\n",
    "| `d/dx [cot(x)]` | `-csc²(x)`                        |\n",
    "| `d/dx [sec(x)]` | `sec(x) * tan(x)`                 |\n",
    "| `d/dx [csc(x)]` | `-csc(x) * cot(x)`                |\n"
   ]
  },
  {
   "cell_type": "markdown",
   "id": "5020765b-68d4-4656-ae79-81d4356c6812",
   "metadata": {},
   "source": [
    "<div style=\"background-color: lightblue; padding: 10px; border-radius: 5px;\">\n",
    "    \n",
    "#### RESOLVER: Encuentre la derivada de cada una de las siguientes funciones\n",
    "\n",
    "\n",
    "</div>"
   ]
  },
  {
   "cell_type": "markdown",
   "id": "6f16054d-96c7-45d1-b0a4-749e1e5668da",
   "metadata": {},
   "source": [
    "\\begin{align*}\n",
    "\\Huge 18) \\quad y = \\sin \\theta \\cos \\theta\n",
    "\\end{align*}"
   ]
  },
  {
   "cell_type": "code",
   "execution_count": 268,
   "id": "6b0df088-1583-4d32-bff5-2cd7e7daa5af",
   "metadata": {},
   "outputs": [
    {
     "data": {
      "image/png": "[encoded data removed]",
      "text/latex": [
       "$\\displaystyle \\sin{\\left(\\theta \\right)} \\cos{\\left(\\theta \\right)}$"
      ],
      "text/plain": [
       "sin(θ)⋅cos(θ)"
      ]
     },
     "metadata": {},
     "output_type": "display_data"
    },
    {
     "data": {
      "image/png": "[encoded data removed]",
      "text/latex": [
       "$\\displaystyle - \\sin^{2}{\\left(\\theta \\right)} + \\cos^{2}{\\left(\\theta \\right)}$"
      ],
      "text/plain": [
       "     2         2   \n",
       "- sin (θ) + cos (θ)"
      ]
     },
     "metadata": {},
     "output_type": "display_data"
    },
    {
     "data": {
      "image/png": "[encoded data removed]",
      "text/latex": [
       "$\\displaystyle \\cos{\\left(2 \\theta \\right)}$"
      ],
      "text/plain": [
       "cos(2⋅θ)"
      ]
     },
     "metadata": {},
     "output_type": "display_data"
    }
   ],
   "source": [
    "from sympy import symbols, sin, cos, diff, simplify, init_printing\n",
    "from sympy.abc import theta\n",
    "\n",
    "# Para mostrar los resultados en LaTeX\n",
    "init_printing()\n",
    "\n",
    "# Definir la función\n",
    "y = sin(theta) * cos(theta)\n",
    "\n",
    "# Derivar con respecto a theta\n",
    "dy = diff(y, theta)\n",
    "\n",
    "# Mostrar el resultado simplificado\n",
    "simplified_dy = simplify(dy)\n",
    "\n",
    "display(y)              # funcion original\n",
    "display(dy)             # Derivada sin simplificar\n",
    "display(simplified_dy)  # Derivada simplificada\n"
   ]
  },
  {
   "cell_type": "markdown",
   "id": "f90343a3-710c-4f61-832d-ab88544eee57",
   "metadata": {},
   "source": [
    "\\begin{align*}\n",
    "\\Huge 19) \\quad f(\\theta) = \\frac{\\sec \\theta}{1 + \\sec \\theta}\n",
    "\\end{align*}"
   ]
  },
  {
   "cell_type": "code",
   "execution_count": 303,
   "id": "416d9af9-8e45-45e4-9d49-2c2bd879ffbd",
   "metadata": {},
   "outputs": [
    {
     "data": {
      "image/png": "[encoded data removed]",
      "text/latex": [
       "$\\displaystyle f(\\theta) = \\frac{\\sec{\\left(\\theta \\right)}}{\\sec{\\left(\\theta \\right)} + 1}$"
      ],
      "text/plain": [
       "              sec(θ)  \n",
       "f(\\theta) = ──────────\n",
       "            sec(θ) + 1"
      ]
     },
     "metadata": {},
     "output_type": "display_data"
    },
    {
     "data": {
      "image/png": "[encoded data removed]",
      "text/latex": [
       "$\\displaystyle f'(\\theta) = \\frac{\\left(\\sec{\\left(\\theta \\right)} + 1\\right) \\tan{\\left(\\theta \\right)} \\sec{\\left(\\theta \\right)} - \\tan{\\left(\\theta \\right)} \\sec^{2}{\\left(\\theta \\right)}}{\\left(\\sec{\\left(\\theta \\right)} + 1\\right)^{2}}$"
      ],
      "text/plain": [
       "                                                    2   \n",
       "             (sec(θ) + 1)⋅tan(θ)⋅sec(θ) - tan(θ)⋅sec (θ)\n",
       "f'(\\theta) = ───────────────────────────────────────────\n",
       "                                        2               \n",
       "                            (sec(θ) + 1)                "
      ]
     },
     "metadata": {},
     "output_type": "display_data"
    },
    {
     "data": {
      "text/latex": [
       "$\\displaystyle y' = \\frac{\\sec \\theta \\tan \\theta}{(1 + \\sec \\theta)^2}$"
      ],
      "text/plain": [
       "<IPython.core.display.Math object>"
      ]
     },
     "metadata": {},
     "output_type": "display_data"
    }
   ],
   "source": [
    "# Activar impresión\n",
    "init_printing()\n",
    "\n",
    "# Definir variable\n",
    "theta = symbols('theta')\n",
    "\n",
    "# Definir la función f(theta)\n",
    "f = sec(theta) / (1 + sec(theta))\n",
    "\n",
    "# Mostrar la función original\n",
    "display(Eq(symbols('f(\\\\theta)'), f))\n",
    "\n",
    "# Definir el numerador y el denominador\n",
    "u = sec(theta)\n",
    "v = 1 + sec(theta)\n",
    "\n",
    "# Derivar el numerador y el denominador\n",
    "u_prime = diff(u, theta)  # Derivada de sec(theta)\n",
    "v_prime = diff(v, theta)  # Derivada de 1 + sec(theta)\n",
    "\n",
    "# Aplicar la regla del cociente\n",
    "f_prime = (u_prime * v - u * v_prime) / v**2\n",
    "\n",
    "# Mostrar la derivada sin simplificar\n",
    "display(Eq(symbols(\"f'(\\\\theta)\"), f_prime))\n",
    "display(Math(r\"y' = \\frac{\\sec \\theta \\tan \\theta}{(1 + \\sec \\theta)^2}\"))"
   ]
  },
  {
   "cell_type": "markdown",
   "id": "fba7428e-3428-4826-8ebc-e51032e5886e",
   "metadata": {},
   "source": [
    "\\begin{align*}\n",
    "\\Huge 20) \\quad y = \\frac{\\cos x}{1 - \\sin x}\n",
    "\\end{align*}"
   ]
  },
  {
   "cell_type": "code",
   "execution_count": 370,
   "id": "9af5e29a-0db0-47e8-bdf5-c669d08268c7",
   "metadata": {},
   "outputs": [
    {
     "data": {
      "image/png": "[encoded data removed]",
      "text/latex": [
       "$\\displaystyle - \\frac{1}{\\sin{\\left(x \\right)} - 1}$"
      ],
      "text/plain": [
       "   -1     \n",
       "──────────\n",
       "sin(x) - 1"
      ]
     },
     "metadata": {},
     "output_type": "display_data"
    }
   ],
   "source": [
    "# Activar impresión\n",
    "init_printing()\n",
    "\n",
    "# Definir la variable\n",
    "x = symbols('x')\n",
    "\n",
    "# Definir la función\n",
    "y = cos(x) / (1 - sin(x))\n",
    "\n",
    "# Calcular la derivada\n",
    "y_prime = diff(y, x)\n",
    "\n",
    "# Simplificar la derivada\n",
    "y_prime_simplified = simplify(y_prime)\n",
    "\n",
    "# Mostrar el resultado simplificado\n",
    "display(y_prime_simplified)\n"
   ]
  },
  {
   "cell_type": "markdown",
   "id": "acc066bf-5aa0-4ba9-a5fb-56650621741f",
   "metadata": {},
   "source": [
    "\\begin{align*}\n",
    "\\Huge 21) \\quad y = \\frac{t \\sin t}{1 + t}\n",
    "\\end{align*}"
   ]
  },
  {
   "cell_type": "code",
   "execution_count": 326,
   "id": "ec96f036-efc0-4e45-b250-e57c537edbcc",
   "metadata": {},
   "outputs": [
    {
     "data": {
      "image/png": "[encoded data removed]",
      "text/latex": [
       "$\\displaystyle \\frac{t^{2} \\cos{\\left(t \\right)} + t \\cos{\\left(t \\right)} + \\sin{\\left(t \\right)}}{\\left(t + 1\\right)^{2}}$"
      ],
      "text/plain": [
       " 2                           \n",
       "t ⋅cos(t) + t⋅cos(t) + sin(t)\n",
       "─────────────────────────────\n",
       "                 2           \n",
       "          (t + 1)            "
      ]
     },
     "execution_count": 326,
     "metadata": {},
     "output_type": "execute_result"
    }
   ],
   "source": [
    "# Definir la variable\n",
    "t = symbols('t')\n",
    "\n",
    "# Definir la función\n",
    "u = t * sin(t)\n",
    "v = 1 + t\n",
    "y = u / v\n",
    "\n",
    "# Calcular la derivada usando la regla del cociente\n",
    "y_prime = diff(y, t)\n",
    "\n",
    "# Simplificar la derivada\n",
    "y_prime_simplified = simplify(y_prime)\n",
    "\n",
    "# Mostrar el resultado\n",
    "y_prime_simplified\n"
   ]
  },
  {
   "cell_type": "markdown",
   "id": "0ce48970-50d0-4aef-a676-a19f7587978b",
   "metadata": {},
   "source": [
    "\\begin{align*}\n",
    "\\Huge 22) \\quad y = \\frac{1 - \\sec x}{\\tan x}\n",
    "\\end{align*}"
   ]
  },
  {
   "cell_type": "code",
   "execution_count": 354,
   "id": "313e3c3d-38cb-49bf-90c4-e44475cf8cf3",
   "metadata": {},
   "outputs": [
    {
     "data": {
      "image/png": "[encoded data removed]",
      "text/latex": [
       "$\\displaystyle \\frac{\\cos{\\left(x \\right)} - 1}{\\sin^{2}{\\left(x \\right)}}$"
      ],
      "text/plain": [
       "cos(x) - 1\n",
       "──────────\n",
       "    2     \n",
       " sin (x)  "
      ]
     },
     "execution_count": 354,
     "metadata": {},
     "output_type": "execute_result"
    }
   ],
   "source": [
    "import sympy as sp\n",
    "\n",
    "# Definir la variable\n",
    "x = sp.symbols('x')\n",
    "\n",
    "# Definir la función\n",
    "y = (1 - sp.sec(x)) / sp.tan(x)\n",
    "\n",
    "# Derivar la función\n",
    "y_prime = sp.diff(y, x)\n",
    "\n",
    "# Mostrar el resultado de la derivada\n",
    "y_prime_simplified = sp.simplify(y_prime)\n",
    "y_prime_simplified\n"
   ]
  },
  {
   "cell_type": "markdown",
   "id": "f2d34c86-03ea-4a6b-9d70-d3bf077a21d4",
   "metadata": {},
   "source": [
    "\\begin{align*}\n",
    "\\Huge 23) \\quad f(x) = x e^{x} \\csc x\n",
    "\\end{align*}"
   ]
  },
  {
   "cell_type": "code",
   "execution_count": 359,
   "id": "298bed97-d964-453c-a9a7-22db0812df24",
   "metadata": {},
   "outputs": [
    {
     "data": {
      "image/png": "[encoded data removed]",
      "text/latex": [
       "$\\displaystyle \\left(- x \\cot{\\left(x \\right)} + x + 1\\right) e^{x} \\csc{\\left(x \\right)}$"
      ],
      "text/plain": [
       "                     x       \n",
       "(-x⋅cot(x) + x + 1)⋅ℯ ⋅csc(x)"
      ]
     },
     "execution_count": 359,
     "metadata": {},
     "output_type": "execute_result"
    }
   ],
   "source": [
    "# Definir la función f(x) = x * e^x * csc(x)\n",
    "f = x * sp.exp(x) * sp.csc(x)\n",
    "\n",
    "# Derivar la función\n",
    "f_prime = sp.diff(f, x)\n",
    "\n",
    "# Simplificar la derivada\n",
    "f_prime_simplified = sp.simplify(f_prime)\n",
    "f_prime_simplified\n"
   ]
  },
  {
   "cell_type": "markdown",
   "id": "97cfe25a-d42b-4dbc-9cff-623728a879d5",
   "metadata": {},
   "source": [
    "\\begin{align*}\n",
    "\\Huge 24) \\quad y = x^2 \\operatorname{sen} x \\tan x\n",
    "\\end{align*}"
   ]
  },
  {
   "cell_type": "code",
   "execution_count": 387,
   "id": "7c4ec6d7-0c2f-43cb-98cb-05cb774d7fff",
   "metadata": {},
   "outputs": [
    {
     "data": {
      "image/png": "[encoded data removed]",
      "text/latex": [
       "$\\displaystyle x^{2} \\left(\\tan^{2}{\\left(x \\right)} + 1\\right) \\sin{\\left(x \\right)} + x^{2} \\cos{\\left(x \\right)} \\tan{\\left(x \\right)} + 2 x \\sin{\\left(x \\right)} \\tan{\\left(x \\right)}$"
      ],
      "text/plain": [
       " 2 ⎛   2       ⎞           2                                  \n",
       "x ⋅⎝tan (x) + 1⎠⋅sin(x) + x ⋅cos(x)⋅tan(x) + 2⋅x⋅sin(x)⋅tan(x)"
      ]
     },
     "metadata": {},
     "output_type": "display_data"
    }
   ],
   "source": [
    "# Define la variable simbólica y la función\n",
    "x = symbols('x')\n",
    "y = x**2 * sin(x) * tan(x)\n",
    "\n",
    "# Calcula la derivada\n",
    "dy_dx = diff(y, x)\n",
    "\n",
    "# Muestra la derivada simplificada\n",
    "display(dy_dx)"
   ]
  },
  {
   "cell_type": "markdown",
   "id": "18ece0b6-18a5-4b2c-be70-8cfa273a7230",
   "metadata": {},
   "source": [
    "<div style=\"background-color: lightblue; padding: 10px; border-radius: 5px;\">\n",
    "    \n",
    "#### 25) RESOLVER: Explica cómo aplican la regla de la cadena para obtener la derivada de la función indicada en el ejemplo 7\n",
    "\n",
    "\n",
    "\n",
    "</div>"
   ]
  },
  {
   "cell_type": "markdown",
   "id": "5398eadb-b168-4b74-8723-9a4b796765f1",
   "metadata": {},
   "source": [
    "![Gráfica](imagen8.png)"
   ]
  },
  {
   "cell_type": "markdown",
   "id": "0c17bfd9-d73e-44a2-ae42-19a086cc201b",
   "metadata": {},
   "source": [
    "### **1 Identificar las funciones \"interna\" y \"externa\"**"
   ]
  },
  {
   "cell_type": "markdown",
   "id": "134a538c-877d-41ae-957c-79d187a07dac",
   "metadata": {},
   "source": [
    "\\begin{align*}\n",
    "\\Huge y = e^{\\sin x}\n",
    "\\end{align*}"
   ]
  },
  {
   "cell_type": "markdown",
   "id": "d4076ddd-7d69-47d4-b5ec-bd7db5ca2fa1",
   "metadata": {},
   "source": [
    "#### Esto es una función compuesta, porque:\n",
    "#### •La función exterior es 𝑓(𝑥)= **𝑒^𝑥**\n",
    "#### •La función interior es  g(𝑥)= **sin𝑥**"
   ]
  },
  {
   "cell_type": "markdown",
   "id": "d6089cf1-c773-40a3-b859-7bc6a0c8c193",
   "metadata": {},
   "source": [
    "### **2 Aplicar la regla de la cadena**"
   ]
  },
  {
   "cell_type": "markdown",
   "id": "59361d66-b525-410c-b227-db431f5a454c",
   "metadata": {},
   "source": [
    "\\begin{align*}\n",
    "\\Huge \\frac{dy}{dx} = \\frac{dy}{du} \\cdot \\frac{du}{dx}\n",
    "\\end{align*}"
   ]
  },
  {
   "cell_type": "markdown",
   "id": "06e1586e-2272-4b13-ba9d-c33d0febc93e",
   "metadata": {},
   "source": [
    "#### En nuestro caso:"
   ]
  },
  {
   "cell_type": "markdown",
   "id": "123ace44-c480-4cbe-9b6a-cf74883085c3",
   "metadata": {},
   "source": [
    "\\begin{align*}\n",
    "\\Huge f'(u) = \\frac{d}{du}(e^{u}) = e^{u} \\\\\n",
    "\\Huge u'(x) = \\frac{d}{dx}(\\sin x) = \\cos x\n",
    "\\end{align*}"
   ]
  },
  {
   "cell_type": "markdown",
   "id": "cdcac9d6-7bdf-432c-8e00-d8888b046f13",
   "metadata": {},
   "source": [
    "### **3 Sustituir y multiplicar**"
   ]
  },
  {
   "cell_type": "markdown",
   "id": "910b569f-d609-4fae-b072-76b459bcffea",
   "metadata": {},
   "source": [
    "\\begin{align*}\n",
    "\\Huge \\frac{dy}{dx} = e^{\\sin x} \\cdot \\cos x\n",
    "\\end{align*}"
   ]
  },
  {
   "cell_type": "markdown",
   "id": "540c2025-2e03-4bbf-ac77-b9600336761c",
   "metadata": {},
   "source": [
    "<div style=\"background-color: lightblue; padding: 10px; border-radius: 5px;\">\n",
    "    \n",
    "#### Escoja y resuelva 5 ejercicios, los que usted quiera, de la sección de regla de la cadena del libro de Stewart. Compruebe los resultados en el software de su preferencia.\n",
    "\n",
    "\n",
    "\n",
    "</div>"
   ]
  },
  {
   "cell_type": "markdown",
   "id": "64f3149e-a6c0-4851-a2b4-075be6837f25",
   "metadata": {},
   "source": [
    "\\begin{align*}\n",
    "\\Huge 26) \\quad F(x) = (x^{4} + 3x^{2} - 2)^{5}\n",
    "\\end{align*}"
   ]
  },
  {
   "cell_type": "code",
   "execution_count": 504,
   "id": "63c286ab-6942-48f3-bf69-efc89bb0611b",
   "metadata": {},
   "outputs": [
    {
     "data": {
      "image/png": "[encoded data removed]",
      "text/latex": [
       "$\\displaystyle 10 x \\left(2 x^{2} + 3\\right) \\left(x^{4} + 3 x^{2} - 2\\right)^{4}$"
      ],
      "text/plain": [
       "                               4\n",
       "     ⎛   2    ⎞ ⎛ 4      2    ⎞ \n",
       "10⋅x⋅⎝2⋅x  + 3⎠⋅⎝x  + 3⋅x  - 2⎠ "
      ]
     },
     "execution_count": 504,
     "metadata": {},
     "output_type": "execute_result"
    }
   ],
   "source": [
    "# Definimos la variable\n",
    "x = symbols('x')\n",
    "\n",
    "# Definimos la función\n",
    "F = (x**4 + 3*x**2 - 2)**5\n",
    "\n",
    "# Derivamos usando la regla de la cadena\n",
    "dF = diff(F, x)\n",
    "\n",
    "# Simplificamos el resultado\n",
    "simplify(dF)\n"
   ]
  },
  {
   "cell_type": "markdown",
   "id": "1444ab70-2311-4195-bac9-d8b7b47d496d",
   "metadata": {},
   "source": [
    "\\begin{align*}\n",
    "\\Huge 27) \\quad F(x) = \\sqrt{1 - 2x}\n",
    "\\end{align*}"
   ]
  },
  {
   "cell_type": "code",
   "execution_count": 502,
   "id": "c2c9488d-e295-4571-b0a3-a563df2f1415",
   "metadata": {},
   "outputs": [
    {
     "data": {
      "image/png": "[encoded data removed]",
      "text/latex": [
       "$\\displaystyle - \\frac{1}{\\sqrt{1 - 2 x}}$"
      ],
      "text/plain": [
       "    -1     \n",
       "───────────\n",
       "  _________\n",
       "╲╱ 1 - 2⋅x "
      ]
     },
     "execution_count": 502,
     "metadata": {},
     "output_type": "execute_result"
    }
   ],
   "source": [
    "# Definimos la variable\n",
    "x = symbols('x')\n",
    "\n",
    "# Definimos la función como raíz cuadrada\n",
    "F = sqrt(1 - 2*x)\n",
    "\n",
    "# Derivamos\n",
    "dF = diff(F, x)\n",
    "\n",
    "# Simplificamos el resultado\n",
    "simplify(dF)\n"
   ]
  },
  {
   "cell_type": "markdown",
   "id": "8d70e377-b4e5-4ad7-8e63-9bc506377f16",
   "metadata": {},
   "source": [
    "\\begin{align*}\n",
    "\\Huge 28) \\quad y = \\cos(a^{3} + x^{3})\n",
    "\\end{align*}"
   ]
  },
  {
   "cell_type": "code",
   "execution_count": 506,
   "id": "aa023d23-54d7-4a0f-bb8f-b2d29ae9ca11",
   "metadata": {},
   "outputs": [
    {
     "data": {
      "image/png": "[encoded data removed]",
      "text/latex": [
       "$\\displaystyle - 3 x^{2} \\sin{\\left(a^{3} + x^{3} \\right)}$"
      ],
      "text/plain": [
       "    2    ⎛ 3    3⎞\n",
       "-3⋅x ⋅sin⎝a  + x ⎠"
      ]
     },
     "execution_count": 506,
     "metadata": {},
     "output_type": "execute_result"
    }
   ],
   "source": [
    "# Definimos las variables\n",
    "x, a = symbols('x a')\n",
    "\n",
    "# Definimos la función con función compuesta\n",
    "y = cos(a**3 + x**3)\n",
    "\n",
    "# Derivamos respecto a x (a es constante)\n",
    "dy = diff(y, x)\n",
    "\n",
    "# Simplificamos la derivada\n",
    "simplify(dy)\n"
   ]
  },
  {
   "cell_type": "markdown",
   "id": "ebe67470-837f-43b8-881a-37ced10ca0ac",
   "metadata": {},
   "source": [
    "\\begin{align*}\n",
    "\\Huge 29) \\quad y = x \\cdot e^{-kx}\n",
    "\\end{align*}"
   ]
  },
  {
   "cell_type": "code",
   "execution_count": 508,
   "id": "8c178cdd-504c-4320-982a-7a5e41972a21",
   "metadata": {},
   "outputs": [
    {
     "data": {
      "image/png": "[encoded data removed]",
      "text/latex": [
       "$\\displaystyle \\left(- k x + 1\\right) e^{- k x}$"
      ],
      "text/plain": [
       "            -k⋅x\n",
       "(-k⋅x + 1)⋅ℯ    "
      ]
     },
     "execution_count": 508,
     "metadata": {},
     "output_type": "execute_result"
    }
   ],
   "source": [
    "# Definimos las variables\n",
    "x, k = symbols('x k')\n",
    "\n",
    "# Función: producto de x por exponencial\n",
    "y = x * exp(-k*x)\n",
    "\n",
    "# Derivamos con la regla del producto\n",
    "dy = diff(y, x)\n",
    "\n",
    "# Simplificamos el resultado\n",
    "simplify(dy)\n"
   ]
  },
  {
   "cell_type": "markdown",
   "id": "99463d04-a0cd-4b0d-acee-aacfe6284c56",
   "metadata": {},
   "source": [
    "\\begin{align*}\n",
    "\\Huge 30) \\quad y = \\sin(\\tan 2x)\n",
    "\\end{align*}"
   ]
  },
  {
   "cell_type": "code",
   "execution_count": 510,
   "id": "d4385725-b99b-49d9-95a4-ad4badf555bb",
   "metadata": {},
   "outputs": [
    {
     "data": {
      "image/png": "[encoded data removed]",
      "text/latex": [
       "$\\displaystyle \\frac{2 \\cos{\\left(\\tan{\\left(2 x \\right)} \\right)}}{\\cos^{2}{\\left(2 x \\right)}}$"
      ],
      "text/plain": [
       "2⋅cos(tan(2⋅x))\n",
       "───────────────\n",
       "      2        \n",
       "   cos (2⋅x)   "
      ]
     },
     "execution_count": 510,
     "metadata": {},
     "output_type": "execute_result"
    }
   ],
   "source": [
    "# Definimos la variable\n",
    "x = symbols('x')\n",
    "\n",
    "# Función compuesta: seno de tangente de 2x\n",
    "y = sin(tan(2*x))\n",
    "\n",
    "# Derivada usando la regla de la cadena\n",
    "dy = diff(y, x)\n",
    "\n",
    "# Simplificamos la derivada\n",
    "simplify(dy)"
   ]
  },
  {
   "cell_type": "markdown",
   "id": "6d7ee7c8-6307-43bc-88d5-cb488c298ad1",
   "metadata": {},
   "source": [
    "<div style=\"background-color: lightblue; padding: 10px; border-radius: 5px;\">\n",
    "    \n",
    "#### 31) RESOLVER: Explica cómo obtienen la derivada de una función logarítmica con base 10 (distinta a la base e) en el ejemplo 4\n",
    "\n",
    "</div>"
   ]
  },
  {
   "cell_type": "markdown",
   "id": "53162b80-60b8-41aa-aa28-4f38275d986d",
   "metadata": {},
   "source": [
    "![Gráfica](imagen9.png)"
   ]
  },
  {
   "cell_type": "markdown",
   "id": "c145f668-0625-402c-9988-5c3418ffe7c7",
   "metadata": {},
   "source": [
    "### **Explicación**\n",
    "####  **1 Identificar el tipo de función**"
   ]
  },
  {
   "cell_type": "markdown",
   "id": "d852d7b2-5f74-4261-9f3a-3706d5f6a279",
   "metadata": {},
   "source": [
    "\\begin{align*}\n",
    "\\Huge f(x) = \\log_a (u(x)) \\quad \\text{donde } a = 10 \\text{ y } u(x) = 2 + \\sin x\n",
    "\\end{align*}"
   ]
  },
  {
   "cell_type": "markdown",
   "id": "1b300f21-e0a9-4797-9f98-acf43b296c00",
   "metadata": {},
   "source": [
    "####  **2 Aplicar la fórmula de la derivada del logaritmo de base 𝑎**"
   ]
  },
  {
   "cell_type": "markdown",
   "id": "f28fc89e-8499-47db-b7d1-411d96d1509f",
   "metadata": {},
   "source": [
    "\\begin{align*}\n",
    "\\Huge \\frac{d}{dx} \\log_{a}(u(x)) = \\frac{1}{u(x) \\ln a} \\cdot u'(x)\n",
    "\\end{align*}"
   ]
  },
  {
   "cell_type": "markdown",
   "id": "77d2a8d3-cfc6-48bb-967d-d0c3dd1ed480",
   "metadata": {},
   "source": [
    "####  En este caso:"
   ]
  },
  {
   "cell_type": "markdown",
   "id": "560f160d-af97-49f5-a20c-f58fd8b8b1c8",
   "metadata": {},
   "source": [
    "\\begin{align*}\n",
    "\\Huge u(x) = 2 + \\sin x \\\\\n",
    "\\Huge a = 10 \\\\\n",
    "\\Huge \\ln 10 \\quad \\text{(logaritmo natural de 10, constante)}\n",
    "\\end{align*}"
   ]
  },
  {
   "cell_type": "markdown",
   "id": "ed360900-cb2c-4c48-8c46-d246bfb94821",
   "metadata": {},
   "source": [
    "####  **3 Derivar la función interior 𝑢(𝑥)**"
   ]
  },
  {
   "cell_type": "markdown",
   "id": "c0dde882-96fa-45fc-9d19-38146917f82c",
   "metadata": {},
   "source": [
    "\\begin{align*}\n",
    "\\Huge u(x) = 2 + \\sin x \\quad \\Rightarrow \\quad u'(x) = \\cos x\n",
    "\\end{align*}"
   ]
  },
  {
   "cell_type": "markdown",
   "id": "e4aa7954-7eae-49e7-8e3a-3f89fdfab4e8",
   "metadata": {},
   "source": [
    "####  **4 Sustituir en la fórmula**"
   ]
  },
  {
   "cell_type": "markdown",
   "id": "05deda9e-3298-4f17-b72b-a58152d903e0",
   "metadata": {},
   "source": [
    "\\begin{align*}\n",
    "\\Huge f'(x) = \\frac{1}{(2 + \\sec x) \\ln 10} \\cdot \\cos x\n",
    "\\end{align*}"
   ]
  },
  {
   "cell_type": "markdown",
   "id": "f4db043d-1d3c-4b0c-9fbb-184be071bea7",
   "metadata": {},
   "source": [
    "####  **5 Simplificar el resultado**"
   ]
  },
  {
   "cell_type": "markdown",
   "id": "828d9356-45a2-4436-9b22-07c175bd2961",
   "metadata": {},
   "source": [
    "\\begin{align*}\n",
    "\\Huge f'(x) = \\frac{\\cos x}{(2 + \\sec x) \\ln 10}\n",
    "\\end{align*}"
   ]
  }
 ],
 "metadata": {
  "kernelspec": {
   "display_name": "Python [conda env:base] *",
   "language": "python",
   "name": "conda-base-py"
  },
  "language_info": {
   "codemirror_mode": {
    "name": "ipython",
    "version": 3
   },
   "file_extension": ".py",
   "mimetype": "text/x-python",
   "name": "python",
   "nbconvert_exporter": "python",
   "pygments_lexer": "ipython3",
   "version": "3.12.7"
  }
 },
 "nbformat": 4,
 "nbformat_minor": 5
}
