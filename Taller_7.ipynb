{
 "cells": [
  {
   "cell_type": "markdown",
   "id": "139d880b-b092-4df7-82d7-89518a9d9cb0",
   "metadata": {},
   "source": [
    "# ACTIVIDAD 7: Taller “Optimización y la regla de L´Hôpital”"
   ]
  },
  {
   "cell_type": "markdown",
   "id": "557e7d94-8d38-43c4-b48a-ce5ba6b29aa5",
   "metadata": {},
   "source": [
    "*Ejercicios compilados por Weimar Muñoz (2023), tomados de:*  \n",
    "*“Precálculo” de Stewart, Redlin, & Watson, 2016*"
   ]
  },
  {
   "cell_type": "markdown",
   "id": "cf75e888-b2da-4fea-94a0-01e8f9a671c3",
   "metadata": {},
   "source": [
    "## Recursos que usaremos"
   ]
  },
  {
   "cell_type": "markdown",
   "id": "c6db9213-5617-4dbe-9a12-11256205a315",
   "metadata": {},
   "source": [
    "\n",
    "###  **Librerías y módulos importados**\n",
    "\n",
    "- `import sympy as sp`: Librería de álgebra simbólica.\n",
    "- `from sympy.abc import x`: Importa la variable `x` como símbolo.\n",
    "- `from sympy import symbols, diff, solve, simplify, together, denom, latex, init_printing`\n",
    "- `from IPython.display import display, Math`: Para mostrar resultados con estilo en Jupyter usando LaTeX.\n",
    "\n",
    "---\n",
    "\n",
    "### **Funciones matemáticas y simbólicas**\n",
    "\n",
    "| Recurso             | Descripción |\n",
    "|---------------------|-------------|\n",
    "| `symbols`           | Define variables simbólicas como `x`, `y`, etc. |\n",
    "| `diff`              | Deriva funciones matemáticas. |\n",
    "| `solve`             | Resuelve ecuaciones algebraicas. |\n",
    "| `simplify`          | Simplifica expresiones simbólicas. |\n",
    "| `together`          | Combina fracciones en una sola expresión. |\n",
    "| `denom`             | Extrae el denominador de una fracción. |\n",
    "| `latex`             | Convierte expresiones simbólicas a LaTeX. |\n",
    "| `evalf()`           | Evalúa numéricamente una expresión. |\n",
    "\n",
    "---\n",
    "\n",
    "### **Visualización y presentación (Jupyter)**\n",
    "\n",
    "| Recurso             | Descripción |\n",
    "|---------------------|-------------|\n",
    "| `display`           | Muestra expresiones en celdas Jupyter. |\n",
    "| `Math`              | Renderiza cadenas como fórmulas LaTeX. |\n",
    "| `init_printing()`   | Activa impresión simbólica en Jupyter. |\n",
    "\n",
    "---\n"
   ]
  },
  {
   "cell_type": "markdown",
   "id": "4e73a562-94d8-4254-a060-ede8cbf34a00",
   "metadata": {},
   "source": [
    "<div style=\"background-color: lightblue; padding: 10px; border-radius: 5px;\">\n",
    "    \n",
    "#### 1) Los problemas de optimización tienen como propósito determinar los valores máximos o mínimos de una función en estudio. Explica qué estrategias se siguen para determinar las dimensiones que debe tener un campo que bordea un río para encerrar el área más grande posible en el ejemplo 2\n",
    "\n",
    "\n",
    "</div>"
   ]
  },
  {
   "cell_type": "markdown",
   "id": "50a55283-36a4-4284-8b98-09af18575b79",
   "metadata": {},
   "source": [
    "![Gráfica](imagen19.png)"
   ]
  },
  {
   "cell_type": "markdown",
   "id": "bae029e5-78cc-4393-852d-1fe63ca6c0d3",
   "metadata": {},
   "source": [
    "# Estrategia para resolver problemas de optimización\n",
    "\n",
    "### 1. Definir las variables  \n",
    "Asigna letras a las dimensiones del problema, por ejemplo $x$ y $y$.\n",
    "\n",
    "---\n",
    "\n",
    "### 2. Plantear la restricción  \n",
    "Usa la condición del problema.  \n",
    "Si un lado del campo está junto a un río, la restricción es:  \n",
    "$\n",
    "2x + y = P\n",
    "$\n",
    "\n",
    "---\n",
    "\n",
    "### 3. Escribir la función a optimizar  \n",
    "Por lo general, se busca maximizar el área:  \n",
    "$\n",
    "A = x \\cdot y\n",
    "$\n",
    "\n",
    "---\n",
    "\n",
    "### 4. Sustituir la restricción en la función  \n",
    "Despeja una variable usando la restricción y sustitúyela:  \n",
    "$\n",
    "y = P - 2x \\quad \\Rightarrow \\quad A(x) = x(P - 2x)\n",
    "$\n",
    "\n",
    "---\n",
    "\n",
    "### 5. Derivar e igualar a cero  \n",
    "Calcula la derivada de $A(x)$ y resuelve $A'(x) = 0$ para encontrar los puntos críticos.\n",
    "\n",
    "---\n",
    "\n",
    "### 6. Verificar si es máximo o mínimo  \n",
    "Usa la segunda derivada o analiza el signo de $A'(x)$ antes y después del punto crítico.\n",
    "\n",
    "---\n",
    "\n",
    "### 7. Concluir con la solución  \n",
    "Sustituye el valor óptimo de $x$ en las ecuaciones para obtener las dimensiones buscadas.\n"
   ]
  },
  {
   "cell_type": "code",
   "execution_count": 89,
   "id": "3317d6bd-2534-471d-a311-b0997c58dc92",
   "metadata": {},
   "outputs": [
    {
     "data": {
      "text/latex": [
       "$\\displaystyle \\text{Función: } f(x) = x^2$"
      ],
      "text/plain": [
       "<IPython.core.display.Math object>"
      ]
     },
     "metadata": {},
     "output_type": "display_data"
    },
    {
     "data": {
      "text/latex": [
       "$\\displaystyle \\text{Primera derivada: } f'(x) = 2 x$"
      ],
      "text/plain": [
       "<IPython.core.display.Math object>"
      ]
     },
     "metadata": {},
     "output_type": "display_data"
    },
    {
     "data": {
      "text/latex": [
       "$\\displaystyle \\text{Segunda derivada: } f''(x) = 2$"
      ],
      "text/plain": [
       "<IPython.core.display.Math object>"
      ]
     },
     "metadata": {},
     "output_type": "display_data"
    },
    {
     "data": {
      "text/latex": [
       "$\\displaystyle \\text{Punto crítico: } x = 0$"
      ],
      "text/plain": [
       "<IPython.core.display.Math object>"
      ]
     },
     "metadata": {},
     "output_type": "display_data"
    },
    {
     "data": {
      "text/latex": [
       "$\\displaystyle \\text{Valor mínimo: } f(0) = 0$"
      ],
      "text/plain": [
       "<IPython.core.display.Math object>"
      ]
     },
     "metadata": {},
     "output_type": "display_data"
    },
    {
     "data": {
      "text/latex": [
       "$\\displaystyle \\text{La función no tiene valor máximo ya que } \\lim_{x \\to \\infty} x^2 = \\infty$"
      ],
      "text/plain": [
       "<IPython.core.display.Math object>"
      ]
     },
     "metadata": {},
     "output_type": "display_data"
    }
   ],
   "source": [
    "import sympy as sp\n",
    "from sympy import latex\n",
    "from IPython.display import display, Math\n",
    "\n",
    "# Inicializar impresión\n",
    "sp.init_printing()\n",
    "\n",
    "# Definir variable y función\n",
    "x = sp.Symbol('x')\n",
    "f = x**2\n",
    "\n",
    "# Derivadas\n",
    "f_prime = sp.diff(f, x)\n",
    "f_double_prime = sp.diff(f_prime, x)\n",
    "\n",
    "# Punto crítico\n",
    "critical_points = sp.solve(f_prime, x)\n",
    "minimum_value = f.subs(x, critical_points[0])\n",
    "\n",
    "# Mostrar resultados\n",
    "display(Math(r\"\\text{Función: } f(x) = x^2\"))\n",
    "display(Math(r\"\\text{Primera derivada: } f'(x) = \" + latex(f_prime)))\n",
    "display(Math(r\"\\text{Segunda derivada: } f''(x) = \" + latex(f_double_prime)))\n",
    "display(Math(r\"\\text{Punto crítico: } x = \" + latex(critical_points[0])))\n",
    "display(Math(r\"\\text{Valor mínimo: } f(0) = \" + latex(minimum_value)))\n",
    "display(Math(r\"\\text{La función no tiene valor máximo ya que } \\lim_{x \\to \\infty} x^2 = \\infty\"))\n"
   ]
  },
  {
   "cell_type": "markdown",
   "id": "f9a4ffea-84aa-45dd-a13e-23702d956966",
   "metadata": {},
   "source": [
    "<div style=\"background-color: lightblue; padding: 10px; border-radius: 5px;\">\n",
    "    \n",
    "#### 2) Explica qué estrategias se siguen en el ejemplo 10\n",
    "\n",
    "\n",
    "</div>"
   ]
  },
  {
   "cell_type": "markdown",
   "id": "5243954a-082c-443e-ab92-4b19f5e0d46f",
   "metadata": {},
   "source": [
    "![Gráfica](imagen20.png)"
   ]
  },
  {
   "cell_type": "markdown",
   "id": "b402aba2-a98e-4bff-954f-ef03f8e3a934",
   "metadata": {},
   "source": [
    "![Gráfica](imagen21.png)"
   ]
  },
  {
   "cell_type": "markdown",
   "id": "f81ae76d-813b-4a91-8748-5c17d4ed9295",
   "metadata": {},
   "source": [
    "\n",
    "### 1. Interpretar el problema  \n",
    "Nos piden hallar los valores **máximo y mínimo absolutos de la aceleración**, no de la velocidad.  \n",
    "Entonces, debemos derivar la función $v(t)$ para obtener la aceleración $a(t)$.\n",
    "\n",
    "---\n",
    "\n",
    "### 2. Derivar la función velocidad para obtener la aceleración\n",
    "\n",
    "$\n",
    "a(t) = v'(t) = \\frac{d}{dt}(0.001302 t^3 - 0.09029 t^2 + 23.61 t - 3.083)\n",
    "$\n",
    "\n",
    "$\n",
    "a(t) = 0.003906 t^2 - 0.18058 t + 23.61\n",
    "$\n",
    "\n",
    "---\n",
    "\n",
    "### 3. Aplicar el método del intervalo cerrado  \n",
    "Evaluamos la función $a(t)$ en el intervalo $[0, 126]$.  \n",
    "Para eso, primero hallamos los **números críticos** resolviendo $a'(t) = 0$.\n",
    "\n",
    "---\n",
    "\n",
    "### 4. Derivar la función aceleración\n",
    "\n",
    "$\n",
    "a'(t) = \\frac{d}{dt}(0.003906 t^2 - 0.18058 t + 23.61) = 0.007812 t - 0.18058\n",
    "$\n",
    "\n",
    "---\n",
    "\n",
    "### 5. Encontrar el número crítico\n",
    "\n",
    "$\n",
    "a'(t) = 0 \\quad \\Rightarrow \\quad t_1 = \\frac{0.18058}{0.007812} \\approx 23.12\n",
    "$\n",
    "\n",
    "---\n",
    "\n",
    "### 6. Evaluar la aceleración en los puntos extremos y en el número crítico\n",
    "\n",
    "$\n",
    "a(0) = 0.003906(0)^2 - 0.18058(0) + 23.61 = 23.61\n",
    "$\n",
    "\n",
    "$\n",
    "a(23.12) \\approx 21.52\n",
    "$\n",
    "\n",
    "$\n",
    "a(126) = 0.003906(126)^2 - 0.18058(126) + 23.61 \\approx 62.87\n",
    "$\n",
    "\n",
    "---\n",
    "\n",
    "### Conclusión  \n",
    "- La aceleración **máxima** es aproximadamente **62.87 ft/s²**  \n",
    "- La aceleración **mínima** es aproximadamente **21.52 ft/s²**\n"
   ]
  },
  {
   "cell_type": "code",
   "execution_count": 44,
   "id": "bfbeac79-7f1b-4649-adb7-463dc4e665fc",
   "metadata": {},
   "outputs": [
    {
     "data": {
      "text/latex": [
       "$\\displaystyle \\text{La función velocidad es: } v(t) = 0.001302t^3 - 0.09029t^2 + 23.61t - 3.083$"
      ],
      "text/plain": [
       "<IPython.core.display.Math object>"
      ]
     },
     "metadata": {},
     "output_type": "display_data"
    },
    {
     "data": {
      "text/latex": [
       "$\\displaystyle \\text{La aceleración es la derivada de la velocidad: }$"
      ],
      "text/plain": [
       "<IPython.core.display.Math object>"
      ]
     },
     "metadata": {},
     "output_type": "display_data"
    },
    {
     "data": {
      "text/latex": [
       "$\\displaystyle a(t) = v'(t) = \\boxed{0.003906 t^{2} - 0.18058 t + 23.61}$"
      ],
      "text/plain": [
       "<IPython.core.display.Math object>"
      ]
     },
     "metadata": {},
     "output_type": "display_data"
    },
    {
     "data": {
      "text/latex": [
       "$\\displaystyle \\text{La derivada de la aceleración es: } a'(t) = \\boxed{0.007812 t - 0.18058}$"
      ],
      "text/plain": [
       "<IPython.core.display.Math object>"
      ]
     },
     "metadata": {},
     "output_type": "display_data"
    },
    {
     "data": {
      "text/latex": [
       "$\\displaystyle \\text{Punto crítico (cuando } a'(t) = 0 \\text{): }$"
      ],
      "text/plain": [
       "<IPython.core.display.Math object>"
      ]
     },
     "metadata": {},
     "output_type": "display_data"
    },
    {
     "data": {
      "text/latex": [
       "$\\displaystyle t_1 = \\boxed{23.115719406042}$"
      ],
      "text/plain": [
       "<IPython.core.display.Math object>"
      ]
     },
     "metadata": {},
     "output_type": "display_data"
    },
    {
     "data": {
      "text/latex": [
       "$\\displaystyle \\text{Evaluamos la aceleración en los extremos del intervalo y el punto crítico:}$"
      ],
      "text/plain": [
       "<IPython.core.display.Math object>"
      ]
     },
     "metadata": {},
     "output_type": "display_data"
    },
    {
     "data": {
      "text/latex": [
       "$\\displaystyle a(0) = \\boxed{23.61}$"
      ],
      "text/plain": [
       "<IPython.core.display.Math object>"
      ]
     },
     "metadata": {},
     "output_type": "display_data"
    },
    {
     "data": {
      "text/latex": [
       "$\\displaystyle a(23.115719406042) = \\boxed{21.5228816948285}$"
      ],
      "text/plain": [
       "<IPython.core.display.Math object>"
      ]
     },
     "metadata": {},
     "output_type": "display_data"
    },
    {
     "data": {
      "text/latex": [
       "$\\displaystyle a(126) = \\boxed{62.868576}$"
      ],
      "text/plain": [
       "<IPython.core.display.Math object>"
      ]
     },
     "metadata": {},
     "output_type": "display_data"
    },
    {
     "data": {
      "text/latex": [
       "$\\displaystyle \\text{Aceleración mínima: } \\boxed{21.5228816948285} \\, \\text{ft/s}^2$"
      ],
      "text/plain": [
       "<IPython.core.display.Math object>"
      ]
     },
     "metadata": {},
     "output_type": "display_data"
    },
    {
     "data": {
      "text/latex": [
       "$\\displaystyle \\text{Aceleración máxima: } \\boxed{62.868576} \\, \\text{ft/s}^2$"
      ],
      "text/plain": [
       "<IPython.core.display.Math object>"
      ]
     },
     "metadata": {},
     "output_type": "display_data"
    }
   ],
   "source": [
    "import sympy as sp\n",
    "from sympy import latex\n",
    "from IPython.display import display, Math\n",
    "\n",
    "# Inicializar impresión en LaTeX\n",
    "sp.init_printing()\n",
    "\n",
    "# Definir variable\n",
    "t = sp.Symbol('t')\n",
    "\n",
    "# Definir la función velocidad v(t)\n",
    "v = 0.001302 * t**3 - 0.09029 * t**2 + 23.61 * t - 3.083\n",
    "\n",
    "# Derivar para encontrar la aceleración a(t)\n",
    "a = sp.diff(v, t)\n",
    "\n",
    "# Mostrar la derivada\n",
    "display(Math(r\"\\text{La función velocidad es: } v(t) = 0.001302t^3 - 0.09029t^2 + 23.61t - 3.083\"))\n",
    "display(Math(r\"\\text{La aceleración es la derivada de la velocidad: }\"))\n",
    "display(Math(r\"a(t) = v'(t) = \\boxed{\" + latex(a) + r\"}\"))\n",
    "\n",
    "# Derivar de nuevo para encontrar la derivada de la aceleración\n",
    "a_prime = sp.diff(a, t)\n",
    "display(Math(r\"\\text{La derivada de la aceleración es: } a'(t) = \\boxed{\" + latex(a_prime) + r\"}\"))\n",
    "\n",
    "# Encontrar puntos críticos resolviendo a'(t) = 0\n",
    "critical_points = sp.solve(a_prime, t)\n",
    "display(Math(r\"\\text{Punto crítico (cuando } a'(t) = 0 \\text{): }\"))\n",
    "display(Math(r\"t_1 = \\boxed{\" + latex(critical_points[0]) + r\"}\"))\n",
    "\n",
    "# Evaluar aceleración en t = 0, t = 126 y en el punto crítico\n",
    "a_0 = a.subs(t, 0)\n",
    "a_126 = a.subs(t, 126)\n",
    "a_crit = a.subs(t, critical_points[0])\n",
    "\n",
    "display(Math(r\"\\text{Evaluamos la aceleración en los extremos del intervalo y el punto crítico:}\"))\n",
    "display(Math(r\"a(0) = \\boxed{\" + latex(a_0.evalf()) + r\"}\"))\n",
    "display(Math(r\"a(\" + latex(critical_points[0]) + r\") = \\boxed{\" + latex(a_crit.evalf()) + r\"}\"))\n",
    "display(Math(r\"a(126) = \\boxed{\" + latex(a_126.evalf()) + r\"}\"))\n",
    "\n",
    "# Conclusión\n",
    "display(Math(r\"\\text{Aceleración mínima: } \\boxed{\" + latex(sp.Min(a_0, a_crit, a_126).evalf()) + r\"} \\, \\text{ft/s}^2\"))\n",
    "display(Math(r\"\\text{Aceleración máxima: } \\boxed{\" + latex(sp.Max(a_0, a_crit, a_126).evalf()) + r\"} \\, \\text{ft/s}^2\"))\n"
   ]
  },
  {
   "cell_type": "markdown",
   "id": "b5ff2a87-5113-4d78-b292-a0dd96f301c1",
   "metadata": {},
   "source": [
    "<div style=\"background-color: lightblue; padding: 10px; border-radius: 5px;\">\n",
    "    \n",
    "#### 3) Realice 5 ejercicios\n",
    "\n",
    "\n",
    "</div>"
   ]
  },
  {
   "cell_type": "markdown",
   "id": "101efda1-b654-4d1b-8672-63f8a9235636",
   "metadata": {},
   "source": [
    "\\begin{align*}\n",
    "\\Huge 1) f(x) = 1/x, \\quad x \\geq 1\n",
    "\\end{align*}"
   ]
  },
  {
   "cell_type": "code",
   "execution_count": 61,
   "id": "495dfb4e-9499-4b7d-bc04-a631ab4504f8",
   "metadata": {},
   "outputs": [
    {
     "data": {
      "text/latex": [
       "$\\displaystyle f(x) = \\frac{1}{x}, \\quad x \\geq 1$"
      ],
      "text/plain": [
       "<IPython.core.display.Math object>"
      ]
     },
     "metadata": {},
     "output_type": "display_data"
    },
    {
     "data": {
      "text/latex": [
       "$\\displaystyle \\text{Derivada: } f'(x) = \\boxed{- \\frac{1}{x^{2}}}$"
      ],
      "text/plain": [
       "<IPython.core.display.Math object>"
      ]
     },
     "metadata": {},
     "output_type": "display_data"
    },
    {
     "data": {
      "text/latex": [
       "$\\displaystyle \\text{Como } f'(x) < 0 \\text{ para } x > 0, \\text{ la función es decreciente}$"
      ],
      "text/plain": [
       "<IPython.core.display.Math object>"
      ]
     },
     "metadata": {},
     "output_type": "display_data"
    },
    {
     "data": {
      "text/latex": [
       "$\\displaystyle \\text{Valor máximo en } x = 1: \\quad f(1) = \\boxed{1}$"
      ],
      "text/plain": [
       "<IPython.core.display.Math object>"
      ]
     },
     "metadata": {},
     "output_type": "display_data"
    },
    {
     "data": {
      "text/latex": [
       "$\\displaystyle \\text{Límite cuando } x \\to \\infty: \\quad \\lim_{x \\to \\infty} \\frac{1}{x} = \\boxed{0}$"
      ],
      "text/plain": [
       "<IPython.core.display.Math object>"
      ]
     },
     "metadata": {},
     "output_type": "display_data"
    }
   ],
   "source": [
    "import sympy as sp\n",
    "from sympy import latex\n",
    "from IPython.display import display, Math\n",
    "\n",
    "# Inicializar\n",
    "sp.init_printing()\n",
    "x = sp.Symbol('x', real=True, positive=True)\n",
    "\n",
    "# Definir la función\n",
    "f = 1 / x\n",
    "\n",
    "# Mostrar la función\n",
    "display(Math(r\"f(x) = \\frac{1}{x}, \\quad x \\geq 1\"))\n",
    "\n",
    "# Derivar f(x)\n",
    "f_prime = sp.diff(f, x)\n",
    "display(Math(r\"\\text{Derivada: } f'(x) = \\boxed{\" + latex(f_prime) + r\"}\"))\n",
    "\n",
    "# Mostrar comportamiento\n",
    "display(Math(r\"\\text{Como } f'(x) < 0 \\text{ para } x > 0, \\text{ la función es decreciente}\"))\n",
    "\n",
    "# Evaluar en el punto extremo x = 1\n",
    "f_1 = f.subs(x, 1)\n",
    "display(Math(r\"\\text{Valor máximo en } x = 1: \\quad f(1) = \\boxed{\" + latex(f_1) + r\"}\"))\n",
    "\n",
    "# Límite cuando x tiende a infinito\n",
    "lim_inf = sp.limit(f, x, sp.oo)\n",
    "display(Math(r\"\\text{Límite cuando } x \\to \\infty: \\quad \\lim_{x \\to \\infty} \\frac{1}{x} = \\boxed{\" + latex(lim_inf) + r\"}\"))\n"
   ]
  },
  {
   "cell_type": "markdown",
   "id": "e43c3ea3-69ed-408a-8834-758bfdbbd0f7",
   "metadata": {},
   "source": [
    "\\begin{align*}\n",
    "\\Huge 2) f(x) = 1/x, \\quad 1 < x < 3\n",
    "\\end{align*}"
   ]
  },
  {
   "cell_type": "code",
   "execution_count": 73,
   "id": "2e277190-4a2a-485c-99a8-0cc1ff395ae9",
   "metadata": {},
   "outputs": [
    {
     "data": {
      "text/latex": [
       "$\\displaystyle \\text{Función: } f(x) = \\frac{1}{x}$"
      ],
      "text/plain": [
       "<IPython.core.display.Math object>"
      ]
     },
     "metadata": {},
     "output_type": "display_data"
    },
    {
     "data": {
      "text/latex": [
       "$\\displaystyle \\text{Derivada: } f'(x) = - \\frac{1}{x^{2}}$"
      ],
      "text/plain": [
       "<IPython.core.display.Math object>"
      ]
     },
     "metadata": {},
     "output_type": "display_data"
    },
    {
     "data": {
      "text/latex": [
       "$\\displaystyle \\text{Como } f'(x) = -\\frac{1}{x^2} < 0 \\text{ para todo } x > 0, \\text{ la función es decreciente en } (1, 3).$"
      ],
      "text/plain": [
       "<IPython.core.display.Math object>"
      ]
     },
     "metadata": {},
     "output_type": "display_data"
    },
    {
     "data": {
      "text/latex": [
       "$\\displaystyle \\lim_{x \\to 1^+} f(x) = 1$"
      ],
      "text/plain": [
       "<IPython.core.display.Math object>"
      ]
     },
     "metadata": {},
     "output_type": "display_data"
    },
    {
     "data": {
      "text/latex": [
       "$\\displaystyle \\lim_{x \\to 3^-} f(x) = \\frac{1}{3}$"
      ],
      "text/plain": [
       "<IPython.core.display.Math object>"
      ]
     },
     "metadata": {},
     "output_type": "display_data"
    }
   ],
   "source": [
    "import sympy as sp\n",
    "from sympy import latex\n",
    "from IPython.display import display, Math\n",
    "\n",
    "# Definir variable\n",
    "x = sp.Symbol('x', real=True)\n",
    "\n",
    "# Definir la función\n",
    "f = 1 / x\n",
    "\n",
    "# Calcular la derivada\n",
    "f_prime = sp.diff(f, x)\n",
    "\n",
    "# Mostrar función y derivada\n",
    "display(Math(r\"\\text{Función: } f(x) = \\frac{1}{x}\"))\n",
    "display(Math(r\"\\text{Derivada: } f'(x) = \" + latex(f_prime)))\n",
    "\n",
    "# Comportamiento de la derivada\n",
    "display(Math(r\"\\text{Como } f'(x) = -\\frac{1}{x^2} < 0 \\text{ para todo } x > 0, \\text{ la función es decreciente en } (1, 3).\"))\n",
    "\n",
    "# Evaluar límites\n",
    "lim_1 = sp.limit(f, x, 1, dir='+')\n",
    "lim_3 = sp.limit(f, x, 3, dir='-')\n",
    "\n",
    "# Mostrar límites\n",
    "display(Math(r\"\\lim_{x \\to 1^+} f(x) = \" + latex(lim_1)))\n",
    "display(Math(r\"\\lim_{x \\to 3^-} f(x) = \" + latex(lim_3)))\n"
   ]
  },
  {
   "cell_type": "markdown",
   "id": "293f0ea7-3f49-4590-8e8e-99c121351266",
   "metadata": {},
   "source": [
    "\\begin{align*}\n",
    "\\Huge 3)f(x) = |x|\n",
    "\\end{align*}"
   ]
  },
  {
   "cell_type": "code",
   "execution_count": 91,
   "id": "de2f6526-e011-4ce6-b023-fbd777965809",
   "metadata": {},
   "outputs": [
    {
     "data": {
      "text/latex": [
       "$\\displaystyle \\textbf{Función por partes:}$"
      ],
      "text/plain": [
       "<IPython.core.display.Math object>"
      ]
     },
     "metadata": {},
     "output_type": "display_data"
    },
    {
     "data": {
      "text/latex": [
       "$\\displaystyle f(x) = \\begin{cases} x & \\text{si } x \\geq 0 \\\\ -x & \\text{si } x < 0 \\end{cases}$"
      ],
      "text/plain": [
       "<IPython.core.display.Math object>"
      ]
     },
     "metadata": {},
     "output_type": "display_data"
    },
    {
     "data": {
      "text/latex": [
       "$\\displaystyle \\textbf{Derivada por partes:}$"
      ],
      "text/plain": [
       "<IPython.core.display.Math object>"
      ]
     },
     "metadata": {},
     "output_type": "display_data"
    },
    {
     "data": {
      "text/latex": [
       "$\\displaystyle f'(x) = \\begin{cases} 1 & \\text{for}\\: x \\geq 0 \\\\-1 & \\text{otherwise} \\end{cases}$"
      ],
      "text/plain": [
       "<IPython.core.display.Math object>"
      ]
     },
     "metadata": {},
     "output_type": "display_data"
    },
    {
     "data": {
      "text/latex": [
       "$\\displaystyle \\textbf{Análisis en } x = 0:$"
      ],
      "text/plain": [
       "<IPython.core.display.Math object>"
      ]
     },
     "metadata": {},
     "output_type": "display_data"
    },
    {
     "data": {
      "text/latex": [
       "$\\displaystyle \\text{Límite por la izquierda: } \\lim_{x \\to 0^-} f'(x) = 1$"
      ],
      "text/plain": [
       "<IPython.core.display.Math object>"
      ]
     },
     "metadata": {},
     "output_type": "display_data"
    },
    {
     "data": {
      "text/latex": [
       "$\\displaystyle \\text{Límite por la derecha: } \\lim_{x \\to 0^+} f'(x) = 1$"
      ],
      "text/plain": [
       "<IPython.core.display.Math object>"
      ]
     },
     "metadata": {},
     "output_type": "display_data"
    },
    {
     "data": {
      "text/latex": [
       "$\\displaystyle \\textbf{Conclusión: } f(x) = |x| \\text{ tiene un mínimo absoluto en } x = 0, \\text{ pero no es derivable en ese punto.}$"
      ],
      "text/plain": [
       "<IPython.core.display.Math object>"
      ]
     },
     "metadata": {},
     "output_type": "display_data"
    }
   ],
   "source": [
    "import sympy as sp\n",
    "from sympy import Piecewise, Symbol, diff, latex, oo\n",
    "from IPython.display import display, Math\n",
    "\n",
    "# Inicializar impresión\n",
    "sp.init_printing()\n",
    "\n",
    "# Definir la variable\n",
    "x = Symbol('x', real=True)\n",
    "\n",
    "# Definir la función f(x) = |x| como función por partes\n",
    "f = Piecewise((x, x >= 0), (-x, x < 0))\n",
    "\n",
    "# Derivar por partes\n",
    "f_prime = f.diff(x)\n",
    "\n",
    "# Mostrar la función\n",
    "display(Math(r\"\\textbf{Función por partes:}\"))\n",
    "display(Math(r\"f(x) = \\begin{cases} x & \\text{si } x \\geq 0 \\\\ -x & \\text{si } x < 0 \\end{cases}\"))\n",
    "\n",
    "# Mostrar derivada por partes\n",
    "display(Math(r\"\\textbf{Derivada por partes:}\"))\n",
    "display(Math(r\"f'(x) = \" + latex(f_prime)))\n",
    "\n",
    "# Analizar derivada en x = 0\n",
    "left_limit = sp.limit(f_prime, x, 0, dir='-')\n",
    "right_limit = sp.limit(f_prime, x, 0, dir='+')\n",
    "\n",
    "display(Math(r\"\\textbf{Análisis en } x = 0:\"))\n",
    "display(Math(r\"\\text{Límite por la izquierda: } \\lim_{x \\to 0^-} f'(x) = \" + latex(left_limit)))\n",
    "display(Math(r\"\\text{Límite por la derecha: } \\lim_{x \\to 0^+} f'(x) = \" + latex(right_limit)))\n",
    "\n",
    "if left_limit != right_limit:\n",
    "    display(Math(r\"\\text{Como los límites laterales no coinciden, } f'(0) \\text{ no existe.}\"))\n",
    "\n",
    "# Mostrar conclusión\n",
    "display(Math(r\"\\textbf{Conclusión: } f(x) = |x| \\text{ tiene un mínimo absoluto en } x = 0, \\text{ pero no es derivable en ese punto.}\"))\n"
   ]
  },
  {
   "cell_type": "markdown",
   "id": "dc6c6ade-9d20-47f0-aa4a-25f26ec0793a",
   "metadata": {},
   "source": [
    "\\begin{align*}\n",
    "\\Huge 4)f(x) = 1 - \\sqrt{x}\n",
    "\\end{align*}"
   ]
  },
  {
   "cell_type": "code",
   "execution_count": 81,
   "id": "b408bffd-618c-4c90-a5d6-f4ca4b8654c1",
   "metadata": {},
   "outputs": [
    {
     "data": {
      "text/latex": [
       "$\\displaystyle f(x) = 1 - \\sqrt{x}$"
      ],
      "text/plain": [
       "<IPython.core.display.Math object>"
      ]
     },
     "metadata": {},
     "output_type": "display_data"
    },
    {
     "data": {
      "text/latex": [
       "$\\displaystyle f'(x) = - \\frac{1}{2 \\sqrt{x}}$"
      ],
      "text/plain": [
       "<IPython.core.display.Math object>"
      ]
     },
     "metadata": {},
     "output_type": "display_data"
    },
    {
     "data": {
      "text/latex": [
       "$\\displaystyle \\lim_{x \\to 0^+} f'(x) = -\\infty$"
      ],
      "text/plain": [
       "<IPython.core.display.Math object>"
      ]
     },
     "metadata": {},
     "output_type": "display_data"
    },
    {
     "data": {
      "text/latex": [
       "$\\displaystyle f(0) = 1$"
      ],
      "text/plain": [
       "<IPython.core.display.Math object>"
      ]
     },
     "metadata": {},
     "output_type": "display_data"
    }
   ],
   "source": [
    "import sympy as sp\n",
    "from sympy import Symbol, sqrt, diff, latex\n",
    "from IPython.display import display, Math\n",
    "\n",
    "sp.init_printing()\n",
    "\n",
    "x = Symbol('x', real=True, positive=True)\n",
    "\n",
    "# Definir la función\n",
    "f = 1 - sqrt(x)\n",
    "\n",
    "# Calcular derivada\n",
    "f_prime = diff(f, x)\n",
    "\n",
    "# Mostrar función\n",
    "display(Math(r\"f(x) = \" + latex(f)))\n",
    "\n",
    "# Mostrar derivada\n",
    "display(Math(r\"f'(x) = \" + latex(f_prime)))\n",
    "\n",
    "# Evaluar derivada en x=0 (límite)\n",
    "lim_0 = sp.limit(f_prime, x, 0, dir='+')\n",
    "display(Math(r\"\\lim_{x \\to 0^+} f'(x) = \" + latex(lim_0)))\n",
    "\n",
    "# Evaluar función en x=0 (máximo)\n",
    "f_0 = f.subs(x, 0)\n",
    "display(Math(r\"f(0) = \" + latex(f_0)))\n"
   ]
  },
  {
   "cell_type": "markdown",
   "id": "298b184b-262e-4bfc-9eaa-2a2c84c75b4b",
   "metadata": {},
   "source": [
    "\\begin{align*}\n",
    "\\Huge 5)f(x) = e^x\n",
    "\\end{align*}"
   ]
  },
  {
   "cell_type": "code",
   "execution_count": 84,
   "id": "d074b748-be69-4c53-b6b1-9f33af5bc098",
   "metadata": {},
   "outputs": [
    {
     "data": {
      "text/latex": [
       "$\\displaystyle f(x) = e^{x}$"
      ],
      "text/plain": [
       "<IPython.core.display.Math object>"
      ]
     },
     "metadata": {},
     "output_type": "display_data"
    },
    {
     "data": {
      "text/latex": [
       "$\\displaystyle f'(x) = e^{x}$"
      ],
      "text/plain": [
       "<IPython.core.display.Math object>"
      ]
     },
     "metadata": {},
     "output_type": "display_data"
    },
    {
     "data": {
      "text/latex": [
       "$\\displaystyle \\text{Puntos críticos (donde } f'(x) = 0): \\left[ \\right]$"
      ],
      "text/plain": [
       "<IPython.core.display.Math object>"
      ]
     },
     "metadata": {},
     "output_type": "display_data"
    },
    {
     "data": {
      "text/latex": [
       "$\\displaystyle \\text{La función } e^x \\text{ es creciente en } \\mathbb{R} \\text{ y no tiene máximos ni mínimos locales.}$"
      ],
      "text/plain": [
       "<IPython.core.display.Math object>"
      ]
     },
     "metadata": {},
     "output_type": "display_data"
    }
   ],
   "source": [
    "import sympy as sp\n",
    "from sympy import Symbol, exp, diff, latex\n",
    "from IPython.display import display, Math\n",
    "\n",
    "sp.init_printing()\n",
    "\n",
    "x = Symbol('x', real=True)\n",
    "\n",
    "# Definir la función\n",
    "f = exp(x)\n",
    "\n",
    "# Derivar\n",
    "f_prime = diff(f, x)\n",
    "\n",
    "# Mostrar función y derivada\n",
    "display(Math(r\"f(x) = \" + latex(f)))\n",
    "display(Math(r\"f'(x) = \" + latex(f_prime)))\n",
    "\n",
    "# Encontrar puntos críticos (donde f' = 0)\n",
    "critical_points = sp.solve(f_prime, x)\n",
    "display(Math(r\"\\text{Puntos críticos (donde } f'(x) = 0): \" + latex(critical_points)))\n",
    "\n",
    "# Conclusión\n",
    "display(Math(r\"\\text{La función } e^x \\text{ es creciente en } \\mathbb{R} \\text{ y no tiene máximos ni mínimos locales.}\"))\n"
   ]
  },
  {
   "cell_type": "markdown",
   "id": "31166aba-5eda-45b0-8da9-553c947e4f13",
   "metadata": {},
   "source": [
    "<div style=\"background-color: lightblue; padding: 10px; border-radius: 5px;\">\n",
    "    \n",
    "#### 4) Las formas indeterminadas en matemáticas. De acuerdo con la página 302 ¿cuáles son las formas indeterminadas de los límites?\n",
    "\n",
    "\n",
    "\n",
    "</div>"
   ]
  },
  {
   "cell_type": "markdown",
   "id": "b4124553-636a-4d13-99f7-47d4f6bf6248",
   "metadata": {},
   "source": [
    "![Gráfica](imagen22.png)"
   ]
  },
  {
   "cell_type": "markdown",
   "id": "c26f1966-8f31-4d88-aad7-1c2b3a7f2928",
   "metadata": {},
   "source": [
    "![Gráfica](imagen23.png)"
   ]
  },
  {
   "cell_type": "markdown",
   "id": "5547e7c4-bc31-4463-8ff1-40f8eae0019a",
   "metadata": {},
   "source": [
    "## Formas Indeterminadas de los Límites\n",
    "\n",
    "En cálculo, una **forma indeterminada** surge cuando el resultado directo de un límite **no tiene un valor definido**.\n",
    "\n",
    "\n",
    "\n",
    "### Tipos de Formas Indeterminadas\n",
    "\n",
    "1. \\\\( \\dfrac{0}{0} \\\\)  \n",
    "   - Ejemplo:\n",
    "     $\n",
    "     \\lim_{x \\to 1} \\frac{\\ln x}{x - 1}\n",
    "     $\n",
    "     El numerador y denominador tienden a 0. Es una forma indeterminada tipo \\\\( \\dfrac{0}{0} \\\\).\n",
    "\n",
    "2. \\\\( \\dfrac{\\infty}{\\infty} \\\\)  \n",
    "   - Ejemplo:\n",
    "     $\n",
    "     \\lim_{x \\to \\infty} \\frac{\\ln x}{x - 1}\n",
    "     $\n",
    "     Tanto el numerador como el denominador tienden a infinito. Es una forma indeterminada tipo \\\\( \\dfrac{\\infty}{\\infty} \\\\).\n",
    "\n",
    "\n",
    "\n",
    "### Otras formas indeterminadas comunes\n",
    "\n",
    "Estas no se abordan en profundidad en el fragmento, pero también son formas indeterminadas importantes:\n",
    "\n",
    "3. \\\\( \\infty - \\infty \\\\)  \n",
    "4. \\\\( 0 \\cdot \\infty \\\\)  \n",
    "5. \\\\( 1^\\infty \\\\)  \n",
    "6. \\\\( 0^0 \\\\)  \n",
    "7. \\\\( \\infty^0 \\\\)\n",
    "\n",
    "\n",
    "### ¿Qué hacer ante una forma indeterminada?\n",
    "\n",
    "Cuando aparece una forma indeterminada, **no se puede concluir directamente el valor del límite**. Debemos:\n",
    "\n",
    "- Usar técnicas algebraicas (factorización, conjugados, racionalización).\n",
    "- Aplicar la **Regla de L'Hospital** si se cumplen las condiciones:\n",
    "  - \\\\( \\lim_{x \\to a} f(x) = 0 \\\\) y \\\\( \\lim_{x \\to a} g(x) = 0 \\\\), o  \n",
    "  - \\\\( \\lim_{x \\to a} f(x) = \\pm \\infty \\\\) y \\\\( \\lim_{x \\to a} g(x) = \\pm \\infty \\\\)\n",
    "\n",
    "Entonces se puede aplicar la regla:\n",
    "\n",
    "$\n",
    "\\lim_{x \\to a} \\frac{f(x)}{g(x)} = \\lim_{x \\to a} \\frac{f'(x)}{g'(x)}\n",
    "$\n",
    "\n"
   ]
  },
  {
   "cell_type": "markdown",
   "id": "4dc25291-bb17-42d1-b52a-48142b85e63a",
   "metadata": {},
   "source": [
    "<div style=\"background-color: lightblue; padding: 10px; border-radius: 5px;\">\n",
    "    \n",
    "#### 5) ¿En qué consiste esta Regla de L’Hôpital? escribe en palabras esta regla\n",
    "\n",
    "</div>"
   ]
  },
  {
   "cell_type": "markdown",
   "id": "963e655f-3f18-4572-95f1-02766e3aeedf",
   "metadata": {},
   "source": [
    "## ¿En qué consiste la Regla de L’Hôpital?\n",
    "\n",
    "La **Regla de L’Hôpital** es una herramienta que se usa en cálculo para resolver **límites con formas indeterminadas**, como:\n",
    "\n",
    "- $ \\dfrac{0}{0} $\n",
    "- $ \\dfrac{\\infty}{\\infty} $\n",
    "\n",
    "\n",
    "\n",
    "> **Si al intentar calcular un límite obtienes una fracción en la que tanto el numerador como el denominador se acercan a 0 o a infinito, puedes derivar el numerador y el denominador por separado y luego volver a calcular el límite.**\n",
    "\n",
    "\n",
    "### ¿Cuándo se puede usar?\n",
    "\n",
    "- Las funciones  $f(x)$  y $g(x) $ deben ser **derivables** cerca del punto $x = a $.\n",
    "- El **denominador no debe ser cero** después de derivar.\n",
    "- El límite original debe tener una **forma indeterminada**:\n",
    "  - $ \\frac{0}{0} $\n",
    "  - $ \\frac{\\infty}{\\infty}$\n",
    "- El nuevo límite (después de derivar) **debe existir** (o tender a $ \\infty $ o $ -\\infty $).\n",
    "\n",
    "\n",
    "\n",
    "### Ejemplo:\n",
    "\n",
    "$\n",
    "\\lim_{x \\to 0} \\frac{\\sin x}{x}\n",
    "$\n",
    "\n",
    "Sustituyendo directamente:\n",
    "\n",
    "- $ \\sin(0) = 0 $\n",
    "- $ x = 0 $\n",
    "\n",
    "Forma indeterminada: $ \\frac{0}{0} $\n",
    "\n",
    "Aplicamos la Regla de L’Hôpital:\n",
    "\n",
    "$\n",
    "\\lim_{x \\to 0} \\frac{\\sin x}{x} = \\lim_{x \\to 0} \\frac{\\cos x}{1} = \\cos(0) = 1\n",
    "$\n"
   ]
  },
  {
   "cell_type": "markdown",
   "id": "b7d62faf-66bd-4366-88ce-c7746c0f3dd5",
   "metadata": {},
   "source": [
    "<div style=\"background-color: lightblue; padding: 10px; border-radius: 5px;\">\n",
    "    \n",
    "#### 6) Escoja y resuelva 5 ejercicios de la página 308 del libro de Stewart (2012), 7a Ed. \n",
    "\n",
    "</div>"
   ]
  },
  {
   "cell_type": "markdown",
   "id": "a0e7b9ab-5824-4406-a4cc-51f6b7bcd566",
   "metadata": {},
   "source": [
    "\\begin{align*}\n",
    "\\Huge 1) \\quad \\lim_{\\theta \\to \\pi/2} \\frac{1 - \\text{sen}\\, \\theta}{1 + \\cos 2\\theta}\n",
    "\\end{align*}"
   ]
  },
  {
   "cell_type": "code",
   "execution_count": 118,
   "id": "3c967fc5-2fbe-49d1-9b95-d3505f2cfb2d",
   "metadata": {},
   "outputs": [
    {
     "data": {
      "image/png": "[encoded data removed]",
      "text/latex": [
       "$\\displaystyle \\frac{1}{4}$"
      ],
      "text/plain": [
       "1/4"
      ]
     },
     "execution_count": 118,
     "metadata": {},
     "output_type": "execute_result"
    }
   ],
   "source": [
    "from sympy import symbols, sin, cos, limit, pi, diff, simplify\n",
    "\n",
    "θ = symbols('θ')\n",
    "f = (1 - sin(θ)) / (1 + cos(2*θ))\n",
    "\n",
    "# Aplicamos la regla de L'Hôpital si es indeterminación 0/0\n",
    "numerador = 1 - sin(θ)\n",
    "denominador = 1 + cos(2*θ)\n",
    "\n",
    "# Verificamos el tipo de indeterminación\n",
    "lim_numerador = limit(numerador, θ, pi/2)\n",
    "lim_denominador = limit(denominador, θ, pi/2)\n",
    "\n",
    "# Derivadas de numerador y denominador\n",
    "df = diff(numerador, θ)\n",
    "dg = diff(denominador, θ)\n",
    "\n",
    "# Aplicamos la Regla de L'Hôpital\n",
    "limite = limit(df/dg, θ, pi/2)\n",
    "limite.simplify()\n"
   ]
  },
  {
   "cell_type": "markdown",
   "id": "e8655634-212f-4e4a-96bc-812aa281f9ba",
   "metadata": {},
   "source": [
    "\\begin{align*}\n",
    "\\Huge 2) \\quad \\lim_{x \\to \\infty} \\frac{\\ln x}{\\sqrt{x}}\n",
    "\\end{align*}"
   ]
  },
  {
   "cell_type": "code",
   "execution_count": 122,
   "id": "32e413d0-fcab-4251-bb5e-6b1253601d0a",
   "metadata": {},
   "outputs": [
    {
     "data": {
      "image/png": "[encoded data removed]",
      "text/latex": [
       "$\\displaystyle 0$"
      ],
      "text/plain": [
       "0"
      ]
     },
     "execution_count": 122,
     "metadata": {},
     "output_type": "execute_result"
    }
   ],
   "source": [
    "from sympy import symbols, log, sqrt, oo\n",
    "\n",
    "x = symbols('x')\n",
    "f = log(x) / sqrt(x)\n",
    "\n",
    "# Forma ∞/∞ ⇒ L'Hôpital\n",
    "df = diff(log(x), x)\n",
    "dg = diff(sqrt(x), x)\n",
    "\n",
    "# Aplicamos la regla\n",
    "limite = limit(df / dg, x, oo)\n",
    "limite.simplify()\n"
   ]
  },
  {
   "cell_type": "markdown",
   "id": "e5e9e6e1-4a9d-4684-ab71-191e9f536f57",
   "metadata": {},
   "source": [
    "\\begin{align*}\n",
    "\\Huge 3) \\quad \\lim_{x \\to 0^+} \\frac{\\ln x}{x}\n",
    "\\end{align*}"
   ]
  },
  {
   "cell_type": "code",
   "execution_count": 127,
   "id": "245ed1e8-49f1-43a3-86d4-7cbe6d0f738e",
   "metadata": {},
   "outputs": [
    {
     "data": {
      "image/png": "[encoded data removed]",
      "text/latex": [
       "$\\displaystyle -\\infty$"
      ],
      "text/plain": [
       "-∞"
      ]
     },
     "execution_count": 127,
     "metadata": {},
     "output_type": "execute_result"
    }
   ],
   "source": [
    "x = symbols('x', positive=True)\n",
    "f = log(x) / x\n",
    "\n",
    "# Forma: -∞/0⁺ ⇒ usamos límites directamente\n",
    "limite = limit(f, x, 0, dir='+')\n",
    "limite\n"
   ]
  },
  {
   "cell_type": "markdown",
   "id": "4954e348-8838-4bcb-9bb0-17acc2168b61",
   "metadata": {},
   "source": [
    "\\begin{align*}\n",
    "\\Huge 4) \\quad \\lim_{t \\to 0} \\frac{8^t - 5^t}{t}\n",
    "\\end{align*}"
   ]
  },
  {
   "cell_type": "code",
   "execution_count": 130,
   "id": "be6d52d4-a025-4a77-9c75-3023f2374aae",
   "metadata": {},
   "outputs": [
    {
     "data": {
      "image/png": "[encoded data removed]",
      "text/latex": [
       "$\\displaystyle \\log{\\left(\\frac{8}{5} \\right)}$"
      ],
      "text/plain": [
       "log(8/5)"
      ]
     },
     "execution_count": 130,
     "metadata": {},
     "output_type": "execute_result"
    }
   ],
   "source": [
    "from sympy import Pow\n",
    "\n",
    "t = symbols('t')\n",
    "f = (Pow(8, t) - Pow(5, t)) / t\n",
    "\n",
    "# Aplicamos derivadas al numerador y denominador\n",
    "df = diff(Pow(8, t), t) - diff(Pow(5, t), t)\n",
    "dg = diff(t, t)\n",
    "\n",
    "# Aplicamos L'Hôpital\n",
    "limite = limit(df / dg, t, 0)\n",
    "limite.simplify()\n"
   ]
  },
  {
   "cell_type": "markdown",
   "id": "3683abed-c394-40b3-b926-414f2f931be1",
   "metadata": {},
   "source": [
    "\\begin{align*}\n",
    "\\Huge 5) \\quad \\lim_{x \\to 0} \\frac{e^x - 1 - x}{x^2}\n",
    "\\end{align*}"
   ]
  },
  {
   "cell_type": "code",
   "execution_count": 133,
   "id": "1b384817-823d-49e7-8f08-bee51a9cfb67",
   "metadata": {},
   "outputs": [
    {
     "data": {
      "image/png": "[encoded data removed]",
      "text/latex": [
       "$\\displaystyle \\frac{1}{2}$"
      ],
      "text/plain": [
       "1/2"
      ]
     },
     "execution_count": 133,
     "metadata": {},
     "output_type": "execute_result"
    }
   ],
   "source": [
    "from sympy import exp\n",
    "\n",
    "x = symbols('x')\n",
    "f = (exp(x) - 1 - x) / x**2\n",
    "\n",
    "# Verificamos indeterminación 0/0 y aplicamos L'Hôpital dos veces\n",
    "df = diff(exp(x) - 1 - x, x)\n",
    "dg = diff(x**2, x)\n",
    "\n",
    "# Primera aplicación de L'Hôpital\n",
    "primero = df / dg\n",
    "\n",
    "# Segundo paso porque sigue dando 0/0\n",
    "df2 = diff(df, x)\n",
    "dg2 = diff(dg, x)\n",
    "\n",
    "# Segunda aplicación de L'Hôpital\n",
    "limite = limit(df2 / dg2, x, 0)\n",
    "limite\n"
   ]
  },
  {
   "cell_type": "markdown",
   "id": "cfdc4b68-2233-480e-9374-6ea489f0324c",
   "metadata": {},
   "source": [
    "<div style=\"background-color: lightblue; padding: 10px; border-radius: 5px;\">\n",
    "    \n",
    "#### 7) Liste los conceptos que se mencionan en el video de apoyo. Construya un mapa conceptual o una red conceptual con los mismos con el programa de su preferencia.\n",
    "\n",
    "</div>"
   ]
  },
  {
   "cell_type": "markdown",
   "id": "eb821a9f-cbcf-473e-beb5-5b76b6cf3f24",
   "metadata": {},
   "source": [
    "![Gráfica](imagen25.png)"
   ]
  }
 ],
 "metadata": {
  "kernelspec": {
   "display_name": "Python [conda env:base] *",
   "language": "python",
   "name": "conda-base-py"
  },
  "language_info": {
   "codemirror_mode": {
    "name": "ipython",
    "version": 3
   },
   "file_extension": ".py",
   "mimetype": "text/x-python",
   "name": "python",
   "nbconvert_exporter": "python",
   "pygments_lexer": "ipython3",
   "version": "3.12.7"
  }
 },
 "nbformat": 4,
 "nbformat_minor": 5
}
